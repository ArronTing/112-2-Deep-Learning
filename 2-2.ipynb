{
 "cells": [
  {
   "cell_type": "raw",
   "id": "7aec2e73-df0e-4455-b958-bccc49f29b80",
   "metadata": {},
   "source": [
    "result\n",
    "ResNet34 - 49.5556 % \n",
    "mymodel (CondConv) - 45.7778 %\n",
    "mymodel (normal 2dConv) - 40.0000 %"
   ]
  },
  {
   "cell_type": "code",
   "execution_count": 1,
   "id": "936ec356-c4d5-4372-8422-1359b2065a4f",
   "metadata": {},
   "outputs": [],
   "source": [
    "import os\n",
    "import numpy as np\n",
    "from numpy import linalg as LA\n",
    "import cv2\n",
    "import matplotlib.pyplot as plt\n",
    "from tqdm import tqdm\n",
    "import torch\n",
    "import torch.nn as nn\n",
    "import torch.nn.functional as F\n",
    "from torchvision import transforms\n",
    "from torch.utils.data import TensorDataset, DataLoader\n",
    "import torch.optim as optim\n",
    "from torchvision import models"
   ]
  },
  {
   "cell_type": "code",
   "execution_count": 2,
   "id": "c6bc5546-8657-4c93-979f-17450ba639e7",
   "metadata": {},
   "outputs": [],
   "source": [
    "# Load data function\n",
    "def load_train_img(f):\n",
    "    f=open(f)\n",
    "    lines=f.readlines()\n",
    "    print('Total train images:', len(lines))\n",
    "    imgs, lab=[], []\n",
    "    for i in tqdm(range(len(lines)), desc=\"Loading images\"):\n",
    "        fn, label = lines[i].split(' ')\n",
    "        im1 = cv2.imread('images/' + fn)\n",
    "        im1 = cv2.resize(im1, (128, 128))\n",
    "        im1_tensor = torch.from_numpy(im1.transpose(2, 0, 1)) # Convert to torch_tensor\n",
    "        \n",
    "        imgs.append(im1_tensor)\n",
    "        lab.append(int(label))\n",
    "        \n",
    "    img_tensor = torch.stack(imgs)\n",
    "    lab_tensor = torch.tensor(lab)\n",
    "    \n",
    "    return img_tensor, lab_tensor\n",
    "\n",
    "def load_val_img(f):\n",
    "    f=open(f)\n",
    "    lines=f.readlines()\n",
    "    print('Total validation images:', len(lines))\n",
    "    imgs, lab=[], []\n",
    "    for i in tqdm(range(len(lines)), desc=\"Loading images\"):\n",
    "        fn, label = lines[i].split(' ')\n",
    "        im1 = cv2.imread('images/' + fn)\n",
    "        im1 = cv2.resize(im1, (128, 128))\n",
    "        im1_tensor = torch.from_numpy(im1.transpose(2, 0, 1)) # Convert to torch_tensor\n",
    "        \n",
    "        imgs.append(im1_tensor)\n",
    "        lab.append(int(label))\n",
    "        \n",
    "    img_tensor = torch.stack(imgs)\n",
    "    lab_tensor = torch.tensor(lab)\n",
    "    \n",
    "    return img_tensor, lab_tensor\n",
    "\n",
    "def load_test_img(f):\n",
    "    f=open(f)\n",
    "    lines=f.readlines()\n",
    "    print('Total test images:', len(lines))\n",
    "    imgs, lab=[], []\n",
    "    for i in tqdm(range(len(lines)), desc=\"Loading images\"):\n",
    "        fn, label = lines[i].split(' ')\n",
    "        im1 = cv2.imread('images/' + fn)\n",
    "        im1 = cv2.resize(im1, (128, 128))\n",
    "        im1_tensor = torch.from_numpy(im1.transpose(2, 0, 1)) # Convert to torch_tensor\n",
    "        \n",
    "        imgs.append(im1_tensor)\n",
    "        lab.append(int(label))\n",
    "        \n",
    "    img_tensor = torch.stack(imgs)\n",
    "    lab_tensor = torch.tensor(lab)\n",
    "    \n",
    "    return img_tensor, lab_tensor"
   ]
  },
  {
   "cell_type": "code",
   "execution_count": 3,
   "id": "c893d477-cdc4-4517-8fa8-46b52e794fa4",
   "metadata": {},
   "outputs": [
    {
     "name": "stdout",
     "output_type": "stream",
     "text": [
      "Total train images: 63325\n"
     ]
    },
    {
     "name": "stderr",
     "output_type": "stream",
     "text": [
      "Loading images: 100%|███████████████████████████████████████████████████████████| 63325/63325 [06:15<00:00, 168.84it/s]\n"
     ]
    },
    {
     "name": "stdout",
     "output_type": "stream",
     "text": [
      "Total validation images: 450\n"
     ]
    },
    {
     "name": "stderr",
     "output_type": "stream",
     "text": [
      "Loading images: 100%|███████████████████████████████████████████████████████████████| 450/450 [00:02<00:00, 214.50it/s]\n"
     ]
    },
    {
     "name": "stdout",
     "output_type": "stream",
     "text": [
      "Total test images: 450\n"
     ]
    },
    {
     "name": "stderr",
     "output_type": "stream",
     "text": [
      "Loading images: 100%|███████████████████████████████████████████████████████████████| 450/450 [00:02<00:00, 211.03it/s]\n"
     ]
    }
   ],
   "source": [
    "# Load data\n",
    "x, y =  load_train_img('images/train.txt')\n",
    "vx, vy =  load_val_img('images/val.txt')\n",
    "tx, ty =  load_test_img('images/test.txt')"
   ]
  },
  {
   "cell_type": "code",
   "execution_count": 4,
   "id": "8d0ddfad-0471-4c47-b125-0a6203f33b39",
   "metadata": {},
   "outputs": [],
   "source": [
    "# dataloader\n",
    "y_tensor = torch.nn.functional.one_hot(y, num_classes=50)\n",
    "vy_tensor = torch.nn.functional.one_hot(vy, num_classes=50)\n",
    "ty_tensor = torch.nn.functional.one_hot(ty, num_classes=50)\n",
    "\n",
    "dataset = TensorDataset(x, y_tensor)\n",
    "vdataset = TensorDataset(vx, vy_tensor)\n",
    "tdataset = TensorDataset(tx, ty_tensor)\n",
    "\n",
    "bs = 128\n",
    "loader = DataLoader(dataset, batch_size = bs, shuffle = True)\n",
    "vloader = DataLoader(vdataset, batch_size = bs, shuffle = True)\n",
    "tloader = DataLoader(tdataset, batch_size = bs, shuffle = True)"
   ]
  },
  {
   "cell_type": "markdown",
   "id": "135e3ec8-c6c5-443e-9b5a-630ec09ece19",
   "metadata": {
    "jp-MarkdownHeadingCollapsed": true
   },
   "source": [
    "# ResNet34 (Baseline model)"
   ]
  },
  {
   "cell_type": "code",
   "execution_count": 9,
   "id": "0624abb4-062d-44f5-9f99-ea7786859b74",
   "metadata": {
    "scrolled": true
   },
   "outputs": [
    {
     "data": {
      "text/plain": [
       "ResNet(\n",
       "  (conv1): Conv2d(3, 64, kernel_size=(7, 7), stride=(2, 2), padding=(3, 3), bias=False)\n",
       "  (bn1): BatchNorm2d(64, eps=1e-05, momentum=0.1, affine=True, track_running_stats=True)\n",
       "  (relu): ReLU(inplace=True)\n",
       "  (maxpool): MaxPool2d(kernel_size=3, stride=2, padding=1, dilation=1, ceil_mode=False)\n",
       "  (layer1): Sequential(\n",
       "    (0): BasicBlock(\n",
       "      (conv1): Conv2d(64, 64, kernel_size=(3, 3), stride=(1, 1), padding=(1, 1), bias=False)\n",
       "      (bn1): BatchNorm2d(64, eps=1e-05, momentum=0.1, affine=True, track_running_stats=True)\n",
       "      (relu): ReLU(inplace=True)\n",
       "      (conv2): Conv2d(64, 64, kernel_size=(3, 3), stride=(1, 1), padding=(1, 1), bias=False)\n",
       "      (bn2): BatchNorm2d(64, eps=1e-05, momentum=0.1, affine=True, track_running_stats=True)\n",
       "    )\n",
       "    (1): BasicBlock(\n",
       "      (conv1): Conv2d(64, 64, kernel_size=(3, 3), stride=(1, 1), padding=(1, 1), bias=False)\n",
       "      (bn1): BatchNorm2d(64, eps=1e-05, momentum=0.1, affine=True, track_running_stats=True)\n",
       "      (relu): ReLU(inplace=True)\n",
       "      (conv2): Conv2d(64, 64, kernel_size=(3, 3), stride=(1, 1), padding=(1, 1), bias=False)\n",
       "      (bn2): BatchNorm2d(64, eps=1e-05, momentum=0.1, affine=True, track_running_stats=True)\n",
       "    )\n",
       "    (2): BasicBlock(\n",
       "      (conv1): Conv2d(64, 64, kernel_size=(3, 3), stride=(1, 1), padding=(1, 1), bias=False)\n",
       "      (bn1): BatchNorm2d(64, eps=1e-05, momentum=0.1, affine=True, track_running_stats=True)\n",
       "      (relu): ReLU(inplace=True)\n",
       "      (conv2): Conv2d(64, 64, kernel_size=(3, 3), stride=(1, 1), padding=(1, 1), bias=False)\n",
       "      (bn2): BatchNorm2d(64, eps=1e-05, momentum=0.1, affine=True, track_running_stats=True)\n",
       "    )\n",
       "  )\n",
       "  (layer2): Sequential(\n",
       "    (0): BasicBlock(\n",
       "      (conv1): Conv2d(64, 128, kernel_size=(3, 3), stride=(2, 2), padding=(1, 1), bias=False)\n",
       "      (bn1): BatchNorm2d(128, eps=1e-05, momentum=0.1, affine=True, track_running_stats=True)\n",
       "      (relu): ReLU(inplace=True)\n",
       "      (conv2): Conv2d(128, 128, kernel_size=(3, 3), stride=(1, 1), padding=(1, 1), bias=False)\n",
       "      (bn2): BatchNorm2d(128, eps=1e-05, momentum=0.1, affine=True, track_running_stats=True)\n",
       "      (downsample): Sequential(\n",
       "        (0): Conv2d(64, 128, kernel_size=(1, 1), stride=(2, 2), bias=False)\n",
       "        (1): BatchNorm2d(128, eps=1e-05, momentum=0.1, affine=True, track_running_stats=True)\n",
       "      )\n",
       "    )\n",
       "    (1): BasicBlock(\n",
       "      (conv1): Conv2d(128, 128, kernel_size=(3, 3), stride=(1, 1), padding=(1, 1), bias=False)\n",
       "      (bn1): BatchNorm2d(128, eps=1e-05, momentum=0.1, affine=True, track_running_stats=True)\n",
       "      (relu): ReLU(inplace=True)\n",
       "      (conv2): Conv2d(128, 128, kernel_size=(3, 3), stride=(1, 1), padding=(1, 1), bias=False)\n",
       "      (bn2): BatchNorm2d(128, eps=1e-05, momentum=0.1, affine=True, track_running_stats=True)\n",
       "    )\n",
       "    (2): BasicBlock(\n",
       "      (conv1): Conv2d(128, 128, kernel_size=(3, 3), stride=(1, 1), padding=(1, 1), bias=False)\n",
       "      (bn1): BatchNorm2d(128, eps=1e-05, momentum=0.1, affine=True, track_running_stats=True)\n",
       "      (relu): ReLU(inplace=True)\n",
       "      (conv2): Conv2d(128, 128, kernel_size=(3, 3), stride=(1, 1), padding=(1, 1), bias=False)\n",
       "      (bn2): BatchNorm2d(128, eps=1e-05, momentum=0.1, affine=True, track_running_stats=True)\n",
       "    )\n",
       "    (3): BasicBlock(\n",
       "      (conv1): Conv2d(128, 128, kernel_size=(3, 3), stride=(1, 1), padding=(1, 1), bias=False)\n",
       "      (bn1): BatchNorm2d(128, eps=1e-05, momentum=0.1, affine=True, track_running_stats=True)\n",
       "      (relu): ReLU(inplace=True)\n",
       "      (conv2): Conv2d(128, 128, kernel_size=(3, 3), stride=(1, 1), padding=(1, 1), bias=False)\n",
       "      (bn2): BatchNorm2d(128, eps=1e-05, momentum=0.1, affine=True, track_running_stats=True)\n",
       "    )\n",
       "  )\n",
       "  (layer3): Sequential(\n",
       "    (0): BasicBlock(\n",
       "      (conv1): Conv2d(128, 256, kernel_size=(3, 3), stride=(2, 2), padding=(1, 1), bias=False)\n",
       "      (bn1): BatchNorm2d(256, eps=1e-05, momentum=0.1, affine=True, track_running_stats=True)\n",
       "      (relu): ReLU(inplace=True)\n",
       "      (conv2): Conv2d(256, 256, kernel_size=(3, 3), stride=(1, 1), padding=(1, 1), bias=False)\n",
       "      (bn2): BatchNorm2d(256, eps=1e-05, momentum=0.1, affine=True, track_running_stats=True)\n",
       "      (downsample): Sequential(\n",
       "        (0): Conv2d(128, 256, kernel_size=(1, 1), stride=(2, 2), bias=False)\n",
       "        (1): BatchNorm2d(256, eps=1e-05, momentum=0.1, affine=True, track_running_stats=True)\n",
       "      )\n",
       "    )\n",
       "    (1): BasicBlock(\n",
       "      (conv1): Conv2d(256, 256, kernel_size=(3, 3), stride=(1, 1), padding=(1, 1), bias=False)\n",
       "      (bn1): BatchNorm2d(256, eps=1e-05, momentum=0.1, affine=True, track_running_stats=True)\n",
       "      (relu): ReLU(inplace=True)\n",
       "      (conv2): Conv2d(256, 256, kernel_size=(3, 3), stride=(1, 1), padding=(1, 1), bias=False)\n",
       "      (bn2): BatchNorm2d(256, eps=1e-05, momentum=0.1, affine=True, track_running_stats=True)\n",
       "    )\n",
       "    (2): BasicBlock(\n",
       "      (conv1): Conv2d(256, 256, kernel_size=(3, 3), stride=(1, 1), padding=(1, 1), bias=False)\n",
       "      (bn1): BatchNorm2d(256, eps=1e-05, momentum=0.1, affine=True, track_running_stats=True)\n",
       "      (relu): ReLU(inplace=True)\n",
       "      (conv2): Conv2d(256, 256, kernel_size=(3, 3), stride=(1, 1), padding=(1, 1), bias=False)\n",
       "      (bn2): BatchNorm2d(256, eps=1e-05, momentum=0.1, affine=True, track_running_stats=True)\n",
       "    )\n",
       "    (3): BasicBlock(\n",
       "      (conv1): Conv2d(256, 256, kernel_size=(3, 3), stride=(1, 1), padding=(1, 1), bias=False)\n",
       "      (bn1): BatchNorm2d(256, eps=1e-05, momentum=0.1, affine=True, track_running_stats=True)\n",
       "      (relu): ReLU(inplace=True)\n",
       "      (conv2): Conv2d(256, 256, kernel_size=(3, 3), stride=(1, 1), padding=(1, 1), bias=False)\n",
       "      (bn2): BatchNorm2d(256, eps=1e-05, momentum=0.1, affine=True, track_running_stats=True)\n",
       "    )\n",
       "    (4): BasicBlock(\n",
       "      (conv1): Conv2d(256, 256, kernel_size=(3, 3), stride=(1, 1), padding=(1, 1), bias=False)\n",
       "      (bn1): BatchNorm2d(256, eps=1e-05, momentum=0.1, affine=True, track_running_stats=True)\n",
       "      (relu): ReLU(inplace=True)\n",
       "      (conv2): Conv2d(256, 256, kernel_size=(3, 3), stride=(1, 1), padding=(1, 1), bias=False)\n",
       "      (bn2): BatchNorm2d(256, eps=1e-05, momentum=0.1, affine=True, track_running_stats=True)\n",
       "    )\n",
       "    (5): BasicBlock(\n",
       "      (conv1): Conv2d(256, 256, kernel_size=(3, 3), stride=(1, 1), padding=(1, 1), bias=False)\n",
       "      (bn1): BatchNorm2d(256, eps=1e-05, momentum=0.1, affine=True, track_running_stats=True)\n",
       "      (relu): ReLU(inplace=True)\n",
       "      (conv2): Conv2d(256, 256, kernel_size=(3, 3), stride=(1, 1), padding=(1, 1), bias=False)\n",
       "      (bn2): BatchNorm2d(256, eps=1e-05, momentum=0.1, affine=True, track_running_stats=True)\n",
       "    )\n",
       "  )\n",
       "  (layer4): Sequential(\n",
       "    (0): BasicBlock(\n",
       "      (conv1): Conv2d(256, 512, kernel_size=(3, 3), stride=(2, 2), padding=(1, 1), bias=False)\n",
       "      (bn1): BatchNorm2d(512, eps=1e-05, momentum=0.1, affine=True, track_running_stats=True)\n",
       "      (relu): ReLU(inplace=True)\n",
       "      (conv2): Conv2d(512, 512, kernel_size=(3, 3), stride=(1, 1), padding=(1, 1), bias=False)\n",
       "      (bn2): BatchNorm2d(512, eps=1e-05, momentum=0.1, affine=True, track_running_stats=True)\n",
       "      (downsample): Sequential(\n",
       "        (0): Conv2d(256, 512, kernel_size=(1, 1), stride=(2, 2), bias=False)\n",
       "        (1): BatchNorm2d(512, eps=1e-05, momentum=0.1, affine=True, track_running_stats=True)\n",
       "      )\n",
       "    )\n",
       "    (1): BasicBlock(\n",
       "      (conv1): Conv2d(512, 512, kernel_size=(3, 3), stride=(1, 1), padding=(1, 1), bias=False)\n",
       "      (bn1): BatchNorm2d(512, eps=1e-05, momentum=0.1, affine=True, track_running_stats=True)\n",
       "      (relu): ReLU(inplace=True)\n",
       "      (conv2): Conv2d(512, 512, kernel_size=(3, 3), stride=(1, 1), padding=(1, 1), bias=False)\n",
       "      (bn2): BatchNorm2d(512, eps=1e-05, momentum=0.1, affine=True, track_running_stats=True)\n",
       "    )\n",
       "    (2): BasicBlock(\n",
       "      (conv1): Conv2d(512, 512, kernel_size=(3, 3), stride=(1, 1), padding=(1, 1), bias=False)\n",
       "      (bn1): BatchNorm2d(512, eps=1e-05, momentum=0.1, affine=True, track_running_stats=True)\n",
       "      (relu): ReLU(inplace=True)\n",
       "      (conv2): Conv2d(512, 512, kernel_size=(3, 3), stride=(1, 1), padding=(1, 1), bias=False)\n",
       "      (bn2): BatchNorm2d(512, eps=1e-05, momentum=0.1, affine=True, track_running_stats=True)\n",
       "    )\n",
       "  )\n",
       "  (avgpool): AdaptiveAvgPool2d(output_size=(1, 1))\n",
       "  (fc): Linear(in_features=512, out_features=50, bias=True)\n",
       ")"
      ]
     },
     "execution_count": 9,
     "metadata": {},
     "output_type": "execute_result"
    }
   ],
   "source": [
    "# Build ResNet34\n",
    "model_resnet34 = models.resnet34(pretrained=False)\n",
    "num_classes = 50\n",
    "model_resnet34.fc = nn.Linear(model_resnet34.fc.in_features, num_classes)\n",
    "device = torch.device(\"cuda:0\" if torch.cuda.is_available() else \"cpu\")\n",
    "model_resnet34.to(device)"
   ]
  },
  {
   "cell_type": "code",
   "execution_count": 10,
   "id": "a8ca277c-462c-4d63-8f4a-875cdca1783c",
   "metadata": {},
   "outputs": [
    {
     "name": "stderr",
     "output_type": "stream",
     "text": [
      "Epoch 1/10: 100%|████████████████████████████████████████████████████████████████████| 495/495 [01:25<00:00,  5.78it/s]\n",
      "Evaluating: 100%|████████████████████████████████████████████████████████████████████████| 4/4 [00:00<00:00, 19.32it/s]\n"
     ]
    },
    {
     "name": "stdout",
     "output_type": "stream",
     "text": [
      "Epoch 1/10, Training Loss: 3.1307, Training Accuracy: 16.14%, Validation Loss: 3.5826, Validation Accuracy: 13.78%\n"
     ]
    },
    {
     "name": "stderr",
     "output_type": "stream",
     "text": [
      "Epoch 2/10: 100%|████████████████████████████████████████████████████████████████████| 495/495 [01:22<00:00,  5.97it/s]\n",
      "Evaluating: 100%|████████████████████████████████████████████████████████████████████████| 4/4 [00:00<00:00, 20.00it/s]\n"
     ]
    },
    {
     "name": "stdout",
     "output_type": "stream",
     "text": [
      "Epoch 2/10, Training Loss: 2.5578, Training Accuracy: 27.64%, Validation Loss: 2.4025, Validation Accuracy: 29.33%\n"
     ]
    },
    {
     "name": "stderr",
     "output_type": "stream",
     "text": [
      "Epoch 3/10: 100%|████████████████████████████████████████████████████████████████████| 495/495 [01:23<00:00,  5.95it/s]\n",
      "Evaluating: 100%|████████████████████████████████████████████████████████████████████████| 4/4 [00:00<00:00, 19.91it/s]\n"
     ]
    },
    {
     "name": "stdout",
     "output_type": "stream",
     "text": [
      "Epoch 3/10, Training Loss: 2.1670, Training Accuracy: 36.83%, Validation Loss: 2.4268, Validation Accuracy: 32.89%\n"
     ]
    },
    {
     "name": "stderr",
     "output_type": "stream",
     "text": [
      "Epoch 4/10: 100%|████████████████████████████████████████████████████████████████████| 495/495 [01:23<00:00,  5.92it/s]\n",
      "Evaluating: 100%|████████████████████████████████████████████████████████████████████████| 4/4 [00:00<00:00, 21.32it/s]\n"
     ]
    },
    {
     "name": "stdout",
     "output_type": "stream",
     "text": [
      "Epoch 4/10, Training Loss: 1.8629, Training Accuracy: 44.43%, Validation Loss: 2.1218, Validation Accuracy: 40.22%\n"
     ]
    },
    {
     "name": "stderr",
     "output_type": "stream",
     "text": [
      "Epoch 5/10: 100%|████████████████████████████████████████████████████████████████████| 495/495 [01:23<00:00,  5.90it/s]\n",
      "Evaluating: 100%|████████████████████████████████████████████████████████████████████████| 4/4 [00:00<00:00, 20.42it/s]\n"
     ]
    },
    {
     "name": "stdout",
     "output_type": "stream",
     "text": [
      "Epoch 5/10, Training Loss: 1.6084, Training Accuracy: 51.07%, Validation Loss: 2.1317, Validation Accuracy: 39.78%\n"
     ]
    },
    {
     "name": "stderr",
     "output_type": "stream",
     "text": [
      "Epoch 6/10: 100%|████████████████████████████████████████████████████████████████████| 495/495 [01:22<00:00,  6.00it/s]\n",
      "Evaluating: 100%|████████████████████████████████████████████████████████████████████████| 4/4 [00:00<00:00, 20.62it/s]\n"
     ]
    },
    {
     "name": "stdout",
     "output_type": "stream",
     "text": [
      "Epoch 6/10, Training Loss: 1.3841, Training Accuracy: 56.97%, Validation Loss: 2.2948, Validation Accuracy: 39.33%\n"
     ]
    },
    {
     "name": "stderr",
     "output_type": "stream",
     "text": [
      "Epoch 7/10: 100%|████████████████████████████████████████████████████████████████████| 495/495 [01:23<00:00,  5.95it/s]\n",
      "Evaluating: 100%|████████████████████████████████████████████████████████████████████████| 4/4 [00:00<00:00, 19.87it/s]\n"
     ]
    },
    {
     "name": "stdout",
     "output_type": "stream",
     "text": [
      "Epoch 7/10, Training Loss: 1.1688, Training Accuracy: 62.97%, Validation Loss: 2.0201, Validation Accuracy: 45.33%\n"
     ]
    },
    {
     "name": "stderr",
     "output_type": "stream",
     "text": [
      "Epoch 8/10: 100%|████████████████████████████████████████████████████████████████████| 495/495 [01:23<00:00,  5.93it/s]\n",
      "Evaluating: 100%|████████████████████████████████████████████████████████████████████████| 4/4 [00:00<00:00, 21.05it/s]\n"
     ]
    },
    {
     "name": "stdout",
     "output_type": "stream",
     "text": [
      "Epoch 8/10, Training Loss: 0.9516, Training Accuracy: 69.12%, Validation Loss: 1.6723, Validation Accuracy: 53.33%\n"
     ]
    },
    {
     "name": "stderr",
     "output_type": "stream",
     "text": [
      "Epoch 9/10: 100%|████████████████████████████████████████████████████████████████████| 495/495 [01:23<00:00,  5.96it/s]\n",
      "Evaluating: 100%|████████████████████████████████████████████████████████████████████████| 4/4 [00:00<00:00, 20.00it/s]\n"
     ]
    },
    {
     "name": "stdout",
     "output_type": "stream",
     "text": [
      "Epoch 9/10, Training Loss: 0.7511, Training Accuracy: 75.01%, Validation Loss: 2.8301, Validation Accuracy: 42.67%\n"
     ]
    },
    {
     "name": "stderr",
     "output_type": "stream",
     "text": [
      "Epoch 10/10: 100%|███████████████████████████████████████████████████████████████████| 495/495 [01:22<00:00,  5.99it/s]\n",
      "Evaluating: 100%|████████████████████████████████████████████████████████████████████████| 4/4 [00:00<00:00, 20.58it/s]\n"
     ]
    },
    {
     "name": "stdout",
     "output_type": "stream",
     "text": [
      "Epoch 10/10, Training Loss: 0.5568, Training Accuracy: 81.12%, Validation Loss: 2.0528, Validation Accuracy: 50.00%\n"
     ]
    },
    {
     "data": {
      "image/png": "[encoded data removed]",
      "text/plain": [
       "<Figure size 1200x500 with 2 Axes>"
      ]
     },
     "metadata": {},
     "output_type": "display_data"
    }
   ],
   "source": [
    "# ResNet34-train model\n",
    "criterion = nn.CrossEntropyLoss()\n",
    "optimizer = optim.Adam(model_resnet34.parameters(), lr=0.001)\n",
    "epochs = 10\n",
    "\n",
    "training_acc = []\n",
    "val_acc = []\n",
    "training_loss = []\n",
    "val_loss = []\n",
    "\n",
    "for epoch in range(epochs):\n",
    "    model_resnet34.train()\n",
    "    running_loss = 0.0\n",
    "    train_correct = 0\n",
    "    train_total = 0\n",
    "\n",
    "    for inputs, labels in tqdm(loader, desc=f\"Epoch {epoch + 1}/{epochs}\"):\n",
    "        inputs, labels = inputs.float().to(device), labels.float().to(device)\n",
    "        outputs = model_resnet34(inputs)\n",
    "        loss = criterion(outputs, labels)\n",
    "        optimizer.zero_grad()\n",
    "        loss.backward()\n",
    "        optimizer.step()\n",
    "\n",
    "        running_loss += loss.item() * inputs.size(0)\n",
    "        labels = labels.argmax(dim=1)\n",
    "        _, predicted = torch.max(outputs, 1)\n",
    "        train_correct += (predicted == labels).sum().item()\n",
    "        train_total += labels.size(0)\n",
    "\n",
    "    training_acc.append(100 * train_correct / train_total)\n",
    "    training_loss.append(running_loss / len(loader.dataset))\n",
    "\n",
    "    model_resnet34.eval()\n",
    "    correct = 0\n",
    "    total = 0\n",
    "    val_running_loss = 0.0\n",
    "\n",
    "    with torch.no_grad():\n",
    "        for inputs, labels in tqdm(vloader, desc=\"Evaluating\"):\n",
    "            inputs, labels = inputs.float().to(device), labels.float().to(device)\n",
    "            labels = labels.argmax(dim=1)\n",
    "            outputs = model_resnet34(inputs)\n",
    "            loss = criterion(outputs, labels)\n",
    "            val_running_loss += loss.item() * inputs.size(0)\n",
    "            _, predicted = torch.max(outputs, 1)\n",
    "            total += labels.size(0)\n",
    "            correct += (predicted == labels).sum().item()\n",
    "\n",
    "    val_acc.append(100 * correct / total)\n",
    "    val_loss.append(val_running_loss / len(vloader.dataset))\n",
    "\n",
    "    print(f\"Epoch {epoch + 1}/{epochs}, \"\n",
    "          f\"Training Loss: {training_loss[-1]:.4f}, \"\n",
    "          f\"Training Accuracy: {training_acc[-1]:.2f}%, \"\n",
    "          f\"Validation Loss: {val_loss[-1]:.4f}, \"\n",
    "          f\"Validation Accuracy: {val_acc[-1]:.2f}%\")\n",
    "\n",
    "# Plot training and validation accuracy\n",
    "plt.figure(figsize=(12, 5))\n",
    "\n",
    "plt.subplot(1, 2, 1)\n",
    "plt.plot(training_acc, label='Training Accuracy')\n",
    "plt.plot(val_acc, label='Validation Accuracy')\n",
    "plt.xlabel('Epoch')\n",
    "plt.ylabel('Accuracy')\n",
    "plt.legend()\n",
    "plt.title('Training and Validation Accuracy')\n",
    "\n",
    "# Plot training and validation loss\n",
    "plt.subplot(1, 2, 2)\n",
    "plt.plot(training_loss, label='Training Loss')\n",
    "plt.plot(val_loss, label='Validation Loss')\n",
    "plt.xlabel('Epoch')\n",
    "plt.ylabel('Loss')\n",
    "plt.legend()\n",
    "plt.title('Training and Validation Loss')\n",
    "\n",
    "plt.tight_layout()\n",
    "plt.show()"
   ]
  },
  {
   "cell_type": "code",
   "execution_count": 11,
   "id": "22dd34c5-af2a-4af0-8cbf-304e4ea16ca6",
   "metadata": {},
   "outputs": [
    {
     "name": "stderr",
     "output_type": "stream",
     "text": [
      "Evaluating: 100%|████████████████████████████████████████████████████████████████████████| 4/4 [00:00<00:00,  7.69it/s]"
     ]
    },
    {
     "name": "stdout",
     "output_type": "stream",
     "text": [
      "test Accuracy: 49.5556%\n"
     ]
    },
    {
     "name": "stderr",
     "output_type": "stream",
     "text": [
      "\n"
     ]
    }
   ],
   "source": [
    "# ResNet34 test accuracy\n",
    "model_resnet34.eval() \n",
    "correct = 0\n",
    "total = 0\n",
    "\n",
    "with torch.no_grad():\n",
    "    for inputs, labels in tqdm(tloader, desc=\"Evaluating\"):\n",
    "        inputs, labels = inputs.float().to(device), labels.float().to(device)\n",
    "        labels = labels.argmax(dim=1)\n",
    "        outputs = model_resnet34(inputs)\n",
    "        _, predicted = torch.max(outputs, 1)\n",
    "        total += labels.size(0)      \n",
    "        correct += (predicted == labels).sum().item()\n",
    "\n",
    "accuracy = 100 * correct / total\n",
    "print(f\"test Accuracy: {accuracy:.4f}%\")"
   ]
  },
  {
   "cell_type": "markdown",
   "id": "1083b1a3-d89e-42ae-a908-246418f67e98",
   "metadata": {
    "jp-MarkdownHeadingCollapsed": true
   },
   "source": [
    "# Design a (2-4)-layer CNN (self-attention mechanisms)"
   ]
  },
  {
   "cell_type": "code",
   "execution_count": 12,
   "id": "36c71338-6b2e-4f84-ae5a-850ff4195e14",
   "metadata": {},
   "outputs": [
    {
     "data": {
      "text/plain": [
       "SimpleCNN(\n",
       "  (conv1): CondConv(\n",
       "    (attention): Attention(\n",
       "      (avgpool): AdaptiveAvgPool2d(output_size=1)\n",
       "      (net): Conv2d(3, 4, kernel_size=(1, 1), stride=(1, 1), bias=False)\n",
       "      (sigmoid): Sigmoid()\n",
       "    )\n",
       "  )\n",
       "  (conv2): Conv2d(32, 64, kernel_size=(3, 3), stride=(1, 1), padding=(1, 1))\n",
       "  (conv3): CondConv(\n",
       "    (attention): Attention(\n",
       "      (avgpool): AdaptiveAvgPool2d(output_size=1)\n",
       "      (net): Conv2d(64, 4, kernel_size=(1, 1), stride=(1, 1), bias=False)\n",
       "      (sigmoid): Sigmoid()\n",
       "    )\n",
       "  )\n",
       "  (conv4): Conv2d(128, 256, kernel_size=(3, 3), stride=(1, 1), padding=(1, 1))\n",
       "  (bn1): BatchNorm2d(32, eps=1e-05, momentum=0.1, affine=True, track_running_stats=True)\n",
       "  (bn2): BatchNorm2d(64, eps=1e-05, momentum=0.1, affine=True, track_running_stats=True)\n",
       "  (bn3): BatchNorm2d(128, eps=1e-05, momentum=0.1, affine=True, track_running_stats=True)\n",
       "  (bn4): BatchNorm2d(256, eps=1e-05, momentum=0.1, affine=True, track_running_stats=True)\n",
       "  (pool): MaxPool2d(kernel_size=2, stride=2, padding=0, dilation=1, ceil_mode=False)\n",
       "  (flatten): Flatten(start_dim=1, end_dim=-1)\n",
       "  (fc1): Linear(in_features=16384, out_features=1024, bias=True)\n",
       "  (fc2): Linear(in_features=1024, out_features=50, bias=True)\n",
       ")"
      ]
     },
     "execution_count": 12,
     "metadata": {},
     "output_type": "execute_result"
    }
   ],
   "source": [
    "# Build self-made CNN model (use CondConv)\n",
    "class Attention(nn.Module):\n",
    "    def __init__(self,in_planes,K,init_weight=True):\n",
    "        super().__init__()\n",
    "        self.avgpool=nn.AdaptiveAvgPool2d(1)\n",
    "        self.net=nn.Conv2d(in_planes,K,kernel_size=1,bias=False)\n",
    "        self.sigmoid=nn.Sigmoid()\n",
    "\n",
    "        if(init_weight):\n",
    "            self._initialize_weights()\n",
    "\n",
    "\n",
    "    def _initialize_weights(self):\n",
    "        for m in self.modules():\n",
    "            if isinstance(m, nn.Conv2d):\n",
    "                nn.init.kaiming_normal_(m.weight, mode='fan_out', nonlinearity='relu')\n",
    "                if m.bias is not None:\n",
    "                    nn.init.constant_(m.bias, 0)\n",
    "            if isinstance(m ,nn.BatchNorm2d):\n",
    "                nn.init.constant_(m.weight, 1)\n",
    "                nn.init.constant_(m.bias, 0)\n",
    "\n",
    "    def forward(self,x):\n",
    "        att=self.avgpool(x) #bs,dim,1,1\n",
    "        att=self.net(att).view(x.shape[0],-1) #bs,K\n",
    "        return self.sigmoid(att)\n",
    "\n",
    "class CondConv(nn.Module):\n",
    "    def __init__(self,in_planes,out_planes,kernel_size,stride,padding=0,dilation=1,grounps=1,bias=True,K=4,init_weight=True):\n",
    "        super().__init__()\n",
    "        self.in_planes=in_planes\n",
    "        self.out_planes=out_planes\n",
    "        self.kernel_size=kernel_size\n",
    "        self.stride=stride\n",
    "        self.padding=padding\n",
    "        self.dilation=dilation\n",
    "        self.groups=grounps\n",
    "        self.bias=bias\n",
    "        self.K=K\n",
    "        self.init_weight=init_weight\n",
    "        self.attention=Attention(in_planes=in_planes,K=K,init_weight=init_weight)\n",
    "\n",
    "        self.weight=nn.Parameter(torch.randn(K,out_planes,in_planes//grounps,kernel_size,kernel_size),requires_grad=True)\n",
    "        if(bias):\n",
    "            self.bias=nn.Parameter(torch.randn(K,out_planes),requires_grad=True)\n",
    "        else:\n",
    "            self.bias=None\n",
    "        \n",
    "        if(self.init_weight):\n",
    "            self._initialize_weights()\n",
    "\n",
    "        #TODO 初始化\n",
    "    def _initialize_weights(self):\n",
    "        for i in range(self.K):\n",
    "            nn.init.kaiming_uniform_(self.weight[i])\n",
    "\n",
    "    def forward(self,x):\n",
    "        bs,in_planels,h,w=x.shape\n",
    "        softmax_att=self.attention(x) #bs,K\n",
    "        x=x.view(1,-1,h,w)\n",
    "        weight=self.weight.view(self.K,-1) #K,-1\n",
    "        aggregate_weight=torch.mm(softmax_att,weight).view(bs*self.out_planes,self.in_planes//self.groups,self.kernel_size,self.kernel_size) #bs*out_p,in_p,k,k\n",
    "\n",
    "        if(self.bias is not None):\n",
    "            bias=self.bias.view(self.K,-1) #K,out_p\n",
    "            aggregate_bias=torch.mm(softmax_att,bias).view(-1) #bs,out_p\n",
    "            output=F.conv2d(x,weight=aggregate_weight,bias=aggregate_bias,stride=self.stride,padding=self.padding,groups=self.groups*bs,dilation=self.dilation)\n",
    "        else:\n",
    "            output=F.conv2d(x,weight=aggregate_weight,bias=None,stride=self.stride,padding=self.padding,groups=self.groups*bs,dilation=self.dilation)\n",
    "        \n",
    "        output=output.view(bs,self.out_planes,h,w)\n",
    "        return output\n",
    "\n",
    "class SimpleCNN(nn.Module):\n",
    "    def __init__(self, num_classes=50):\n",
    "        super(SimpleCNN, self).__init__()\n",
    "        self.conv1 = CondConv(3, 32, kernel_size=3, stride=1, padding=1)\n",
    "        self.conv2 = nn.Conv2d(32, 64, kernel_size=3, stride=1, padding=1)\n",
    "        self.conv3 = CondConv(64, 128, kernel_size=3, stride=1, padding=1)\n",
    "        self.conv4 = nn.Conv2d(128, 256, kernel_size=3, stride=1, padding=1)\n",
    "        self.bn1 = nn.BatchNorm2d(32)\n",
    "        self.bn2 = nn.BatchNorm2d(64)\n",
    "        self.bn3 = nn.BatchNorm2d(128)\n",
    "        self.bn4 = nn.BatchNorm2d(256)\n",
    "        self.pool = nn.MaxPool2d(kernel_size=2, stride=2)\n",
    "        self.flatten = nn.Flatten()\n",
    "        self.fc1 = nn.Linear(256 * 8 * 8, 1024)\n",
    "        self.fc2 = nn.Linear(1024, 50) \n",
    "\n",
    "    def forward(self, x):\n",
    "        x = self.pool(F.relu(self.bn1(self.conv1(x))))\n",
    "        x = self.pool(F.relu(self.bn2(self.conv2(x))))\n",
    "        x = self.pool(F.relu(self.bn3(self.conv3(x))))\n",
    "        x = self.pool(F.relu(self.bn4(self.conv4(x))))\n",
    "        \n",
    "        x = self.flatten(x)\n",
    "        x = F.relu(self.fc1(x))\n",
    "        x = self.fc2(x)\n",
    "        return x\n",
    "\n",
    "model_simplecnn = SimpleCNN()\n",
    "device = torch.device(\"cuda:0\" if torch.cuda.is_available() else \"cpu\")\n",
    "model_simplecnn.to(device)"
   ]
  },
  {
   "cell_type": "code",
   "execution_count": 13,
   "id": "7c1ca1bc-33bc-4d04-994c-a6823abdffda",
   "metadata": {},
   "outputs": [
    {
     "name": "stderr",
     "output_type": "stream",
     "text": [
      "Epoch 1/10: 100%|████████████████████████████████████████████████████████████████████| 495/495 [00:53<00:00,  9.17it/s]\n",
      "Evaluating: 100%|████████████████████████████████████████████████████████████████████████| 4/4 [00:00<00:00, 30.42it/s]\n"
     ]
    },
    {
     "name": "stdout",
     "output_type": "stream",
     "text": [
      "Epoch 1/10, Training Loss: 3.3622, Training Accuracy: 14.89%, Validation Loss: 3.0959, Validation Accuracy: 15.78%\n"
     ]
    },
    {
     "name": "stderr",
     "output_type": "stream",
     "text": [
      "Epoch 2/10: 100%|████████████████████████████████████████████████████████████████████| 495/495 [00:53<00:00,  9.28it/s]\n",
      "Evaluating: 100%|████████████████████████████████████████████████████████████████████████| 4/4 [00:00<00:00, 30.77it/s]\n"
     ]
    },
    {
     "name": "stdout",
     "output_type": "stream",
     "text": [
      "Epoch 2/10, Training Loss: 2.6438, Training Accuracy: 25.93%, Validation Loss: 2.6471, Validation Accuracy: 26.00%\n"
     ]
    },
    {
     "name": "stderr",
     "output_type": "stream",
     "text": [
      "Epoch 3/10: 100%|████████████████████████████████████████████████████████████████████| 495/495 [00:53<00:00,  9.24it/s]\n",
      "Evaluating: 100%|████████████████████████████████████████████████████████████████████████| 4/4 [00:00<00:00, 30.53it/s]\n"
     ]
    },
    {
     "name": "stdout",
     "output_type": "stream",
     "text": [
      "Epoch 3/10, Training Loss: 2.3612, Training Accuracy: 32.61%, Validation Loss: 2.5700, Validation Accuracy: 27.33%\n"
     ]
    },
    {
     "name": "stderr",
     "output_type": "stream",
     "text": [
      "Epoch 4/10: 100%|████████████████████████████████████████████████████████████████████| 495/495 [00:53<00:00,  9.23it/s]\n",
      "Evaluating: 100%|████████████████████████████████████████████████████████████████████████| 4/4 [00:00<00:00, 30.42it/s]\n"
     ]
    },
    {
     "name": "stdout",
     "output_type": "stream",
     "text": [
      "Epoch 4/10, Training Loss: 2.1482, Training Accuracy: 37.74%, Validation Loss: 2.5925, Validation Accuracy: 28.44%\n"
     ]
    },
    {
     "name": "stderr",
     "output_type": "stream",
     "text": [
      "Epoch 5/10: 100%|████████████████████████████████████████████████████████████████████| 495/495 [00:53<00:00,  9.21it/s]\n",
      "Evaluating: 100%|████████████████████████████████████████████████████████████████████████| 4/4 [00:00<00:00, 31.20it/s]\n"
     ]
    },
    {
     "name": "stdout",
     "output_type": "stream",
     "text": [
      "Epoch 5/10, Training Loss: 1.9479, Training Accuracy: 42.77%, Validation Loss: 2.2993, Validation Accuracy: 37.33%\n"
     ]
    },
    {
     "name": "stderr",
     "output_type": "stream",
     "text": [
      "Epoch 6/10: 100%|████████████████████████████████████████████████████████████████████| 495/495 [00:53<00:00,  9.24it/s]\n",
      "Evaluating: 100%|████████████████████████████████████████████████████████████████████████| 4/4 [00:00<00:00, 30.84it/s]\n"
     ]
    },
    {
     "name": "stdout",
     "output_type": "stream",
     "text": [
      "Epoch 6/10, Training Loss: 1.7630, Training Accuracy: 47.57%, Validation Loss: 2.1417, Validation Accuracy: 39.11%\n"
     ]
    },
    {
     "name": "stderr",
     "output_type": "stream",
     "text": [
      "Epoch 7/10: 100%|████████████████████████████████████████████████████████████████████| 495/495 [00:53<00:00,  9.26it/s]\n",
      "Evaluating: 100%|████████████████████████████████████████████████████████████████████████| 4/4 [00:00<00:00, 30.93it/s]\n"
     ]
    },
    {
     "name": "stdout",
     "output_type": "stream",
     "text": [
      "Epoch 7/10, Training Loss: 1.5961, Training Accuracy: 51.85%, Validation Loss: 1.9091, Validation Accuracy: 45.78%\n"
     ]
    },
    {
     "name": "stderr",
     "output_type": "stream",
     "text": [
      "Epoch 8/10: 100%|████████████████████████████████████████████████████████████████████| 495/495 [00:53<00:00,  9.19it/s]\n",
      "Evaluating: 100%|████████████████████████████████████████████████████████████████████████| 4/4 [00:00<00:00, 31.25it/s]\n"
     ]
    },
    {
     "name": "stdout",
     "output_type": "stream",
     "text": [
      "Epoch 8/10, Training Loss: 1.4185, Training Accuracy: 56.78%, Validation Loss: 2.0465, Validation Accuracy: 45.56%\n"
     ]
    },
    {
     "name": "stderr",
     "output_type": "stream",
     "text": [
      "Epoch 9/10: 100%|████████████████████████████████████████████████████████████████████| 495/495 [00:53<00:00,  9.23it/s]\n",
      "Evaluating: 100%|████████████████████████████████████████████████████████████████████████| 4/4 [00:00<00:00, 31.22it/s]\n"
     ]
    },
    {
     "name": "stdout",
     "output_type": "stream",
     "text": [
      "Epoch 9/10, Training Loss: 1.2472, Training Accuracy: 61.33%, Validation Loss: 2.1509, Validation Accuracy: 43.11%\n"
     ]
    },
    {
     "name": "stderr",
     "output_type": "stream",
     "text": [
      "Epoch 10/10: 100%|███████████████████████████████████████████████████████████████████| 495/495 [00:53<00:00,  9.25it/s]\n",
      "Evaluating: 100%|████████████████████████████████████████████████████████████████████████| 4/4 [00:00<00:00, 31.37it/s]\n"
     ]
    },
    {
     "name": "stdout",
     "output_type": "stream",
     "text": [
      "Epoch 10/10, Training Loss: 1.0673, Training Accuracy: 66.56%, Validation Loss: 1.9779, Validation Accuracy: 48.22%\n"
     ]
    },
    {
     "data": {
      "image/png": "[encoded data removed]",
      "text/plain": [
       "<Figure size 1200x500 with 2 Axes>"
      ]
     },
     "metadata": {},
     "output_type": "display_data"
    }
   ],
   "source": [
    "criterion = nn.CrossEntropyLoss()\n",
    "optimizer = optim.Adam(model_simplecnn.parameters(), lr=0.001)\n",
    "epochs = 10\n",
    "\n",
    "training_acc = []\n",
    "val_acc = []\n",
    "training_loss = []\n",
    "val_loss = []\n",
    "\n",
    "for epoch in range(epochs):\n",
    "    model_simplecnn.train()\n",
    "    running_loss = 0.0\n",
    "    train_correct = 0\n",
    "    train_total = 0\n",
    "\n",
    "    for inputs, labels in tqdm(loader, desc=f\"Epoch {epoch + 1}/{epochs}\"):\n",
    "        inputs, labels = inputs.float().to(device), labels.float().to(device)\n",
    "        outputs = model_simplecnn(inputs)\n",
    "        loss = criterion(outputs, labels)\n",
    "        optimizer.zero_grad()\n",
    "        loss.backward()\n",
    "        optimizer.step()\n",
    "\n",
    "        running_loss += loss.item() * inputs.size(0)\n",
    "        labels = labels.argmax(dim=1)\n",
    "        _, predicted = torch.max(outputs, 1)\n",
    "        train_correct += (predicted == labels).sum().item()\n",
    "        train_total += labels.size(0)\n",
    "\n",
    "    training_acc.append(100 * train_correct / train_total)\n",
    "    training_loss.append(running_loss / len(loader.dataset))\n",
    "\n",
    "    model_simplecnn.eval()\n",
    "    correct = 0\n",
    "    total = 0\n",
    "    val_running_loss = 0.0\n",
    "\n",
    "    with torch.no_grad():\n",
    "        for inputs, labels in tqdm(vloader, desc=\"Evaluating\"):\n",
    "            inputs, labels = inputs.float().to(device), labels.float().to(device)\n",
    "            labels = labels.argmax(dim=1)\n",
    "            outputs = model_simplecnn(inputs)\n",
    "            loss = criterion(outputs, labels)\n",
    "            val_running_loss += loss.item() * inputs.size(0)\n",
    "            _, predicted = torch.max(outputs, 1)\n",
    "            total += labels.size(0)\n",
    "            correct += (predicted == labels).sum().item()\n",
    "\n",
    "    val_acc.append(100 * correct / total)\n",
    "    val_loss.append(val_running_loss / len(vloader.dataset))\n",
    "\n",
    "    print(f\"Epoch {epoch + 1}/{epochs}, \"\n",
    "          f\"Training Loss: {training_loss[-1]:.4f}, \"\n",
    "          f\"Training Accuracy: {training_acc[-1]:.2f}%, \"\n",
    "          f\"Validation Loss: {val_loss[-1]:.4f}, \"\n",
    "          f\"Validation Accuracy: {val_acc[-1]:.2f}%\")\n",
    "\n",
    "# Plot training and validation accuracy\n",
    "plt.figure(figsize=(12, 5))\n",
    "\n",
    "plt.subplot(1, 2, 1)\n",
    "plt.plot(training_acc, label='Training Accuracy')\n",
    "plt.plot(val_acc, label='Validation Accuracy')\n",
    "plt.xlabel('Epoch')\n",
    "plt.ylabel('Accuracy')\n",
    "plt.legend()\n",
    "plt.title('Training and Validation Accuracy')\n",
    "\n",
    "# Plot training and validation loss\n",
    "plt.subplot(1, 2, 2)\n",
    "plt.plot(training_loss, label='Training Loss')\n",
    "plt.plot(val_loss, label='Validation Loss')\n",
    "plt.xlabel('Epoch')\n",
    "plt.ylabel('Loss')\n",
    "plt.legend()\n",
    "plt.title('Training and Validation Loss')\n",
    "\n",
    "plt.tight_layout()\n",
    "plt.show()"
   ]
  },
  {
   "cell_type": "code",
   "execution_count": 14,
   "id": "dea0e80f-a38c-4bd9-9720-088e74288c61",
   "metadata": {},
   "outputs": [
    {
     "name": "stderr",
     "output_type": "stream",
     "text": [
      "Evaluating: 100%|████████████████████████████████████████████████████████████████████████| 4/4 [00:00<00:00, 10.11it/s]"
     ]
    },
    {
     "name": "stdout",
     "output_type": "stream",
     "text": [
      "test Accuracy: 45.7778%\n"
     ]
    },
    {
     "name": "stderr",
     "output_type": "stream",
     "text": [
      "\n"
     ]
    }
   ],
   "source": [
    "# self-made CNN test accuracy\n",
    "model_simplecnn.eval() \n",
    "correct = 0\n",
    "total = 0\n",
    "\n",
    "with torch.no_grad():\n",
    "    for inputs, labels in tqdm(tloader, desc=\"Evaluating\"):\n",
    "        inputs, labels = inputs.float().to(device), labels.float().to(device)\n",
    "        labels = labels.argmax(dim=1)\n",
    "        outputs = model_simplecnn(inputs)\n",
    "        _, predicted = torch.max(outputs, 1)\n",
    "        total += labels.size(0)      \n",
    "        correct += (predicted == labels).sum().item()\n",
    "\n",
    "accuracy = 100 * correct / total\n",
    "print(f\"test Accuracy: {accuracy:.4f}%\")"
   ]
  },
  {
   "cell_type": "markdown",
   "id": "97228560-b681-4777-8c41-9fa24041ee98",
   "metadata": {
    "jp-MarkdownHeadingCollapsed": true
   },
   "source": [
    "# Design a (2-4)-layer CNN (normal Conv2d)"
   ]
  },
  {
   "cell_type": "code",
   "execution_count": 15,
   "id": "934acb2a-5f06-4cb9-8e54-657ecf854b6e",
   "metadata": {},
   "outputs": [
    {
     "data": {
      "text/plain": [
       "SimpleCNN(\n",
       "  (conv1): Conv2d(3, 32, kernel_size=(3, 3), stride=(1, 1), padding=(1, 1))\n",
       "  (conv2): Conv2d(32, 64, kernel_size=(3, 3), stride=(1, 1), padding=(1, 1))\n",
       "  (conv3): Conv2d(64, 128, kernel_size=(3, 3), stride=(1, 1), padding=(1, 1))\n",
       "  (conv4): Conv2d(128, 256, kernel_size=(3, 3), stride=(1, 1), padding=(1, 1))\n",
       "  (bn1): BatchNorm2d(32, eps=1e-05, momentum=0.1, affine=True, track_running_stats=True)\n",
       "  (bn2): BatchNorm2d(64, eps=1e-05, momentum=0.1, affine=True, track_running_stats=True)\n",
       "  (bn3): BatchNorm2d(128, eps=1e-05, momentum=0.1, affine=True, track_running_stats=True)\n",
       "  (bn4): BatchNorm2d(256, eps=1e-05, momentum=0.1, affine=True, track_running_stats=True)\n",
       "  (pool): MaxPool2d(kernel_size=2, stride=2, padding=0, dilation=1, ceil_mode=False)\n",
       "  (flatten): Flatten(start_dim=1, end_dim=-1)\n",
       "  (fc1): Linear(in_features=16384, out_features=1024, bias=True)\n",
       "  (fc2): Linear(in_features=1024, out_features=50, bias=True)\n",
       ")"
      ]
     },
     "execution_count": 15,
     "metadata": {},
     "output_type": "execute_result"
    }
   ],
   "source": [
    "# Build self-made CNN model (use normal conv)\n",
    "class SimpleCNN(nn.Module):\n",
    "    def __init__(self, num_classes=50):\n",
    "        super(SimpleCNN, self).__init__()\n",
    "        self.conv1 = nn.Conv2d(3, 32, kernel_size=3, stride=1, padding=1)\n",
    "        self.conv2 = nn.Conv2d(32, 64, kernel_size=3, stride=1, padding=1)\n",
    "        self.conv3 = nn.Conv2d(64, 128, kernel_size=3, stride=1, padding=1)\n",
    "        self.conv4 = nn.Conv2d(128, 256, kernel_size=3, stride=1, padding=1)\n",
    "        self.bn1 = nn.BatchNorm2d(32)\n",
    "        self.bn2 = nn.BatchNorm2d(64)\n",
    "        self.bn3 = nn.BatchNorm2d(128)\n",
    "        self.bn4 = nn.BatchNorm2d(256)\n",
    "        self.pool = nn.MaxPool2d(kernel_size=2, stride=2)\n",
    "        self.flatten = nn.Flatten()\n",
    "        self.fc1 = nn.Linear(256 * 8 * 8, 1024)\n",
    "        self.fc2 = nn.Linear(1024, 50) \n",
    "\n",
    "    def forward(self, x):\n",
    "        x = self.pool(F.relu(self.bn1(self.conv1(x))))\n",
    "        x = self.pool(F.relu(self.bn2(self.conv2(x))))\n",
    "        x = self.pool(F.relu(self.bn3(self.conv3(x))))\n",
    "        x = self.pool(F.relu(self.bn4(self.conv4(x))))\n",
    "        \n",
    "        x = self.flatten(x)\n",
    "        x = F.relu(self.fc1(x))\n",
    "        x = self.fc2(x)\n",
    "        return x\n",
    "\n",
    "model_simplecnn = SimpleCNN()\n",
    "device = torch.device(\"cuda:0\" if torch.cuda.is_available() else \"cpu\")\n",
    "model_simplecnn.to(device)"
   ]
  },
  {
   "cell_type": "code",
   "execution_count": 16,
   "id": "d2761d2e-0f9c-4f1f-9c27-23131199669c",
   "metadata": {},
   "outputs": [
    {
     "name": "stderr",
     "output_type": "stream",
     "text": [
      "Epoch 1/10: 100%|████████████████████████████████████████████████████████████████████| 495/495 [00:42<00:00, 11.63it/s]\n",
      "Evaluating: 100%|████████████████████████████████████████████████████████████████████████| 4/4 [00:00<00:00, 35.55it/s]\n"
     ]
    },
    {
     "name": "stdout",
     "output_type": "stream",
     "text": [
      "Epoch 1/10, Training Loss: 3.4025, Training Accuracy: 14.02%, Validation Loss: 3.8321, Validation Accuracy: 9.56%\n"
     ]
    },
    {
     "name": "stderr",
     "output_type": "stream",
     "text": [
      "Epoch 2/10: 100%|████████████████████████████████████████████████████████████████████| 495/495 [00:42<00:00, 11.64it/s]\n",
      "Evaluating: 100%|████████████████████████████████████████████████████████████████████████| 4/4 [00:00<00:00, 37.21it/s]\n"
     ]
    },
    {
     "name": "stdout",
     "output_type": "stream",
     "text": [
      "Epoch 2/10, Training Loss: 2.6515, Training Accuracy: 25.95%, Validation Loss: 2.6663, Validation Accuracy: 20.44%\n"
     ]
    },
    {
     "name": "stderr",
     "output_type": "stream",
     "text": [
      "Epoch 3/10: 100%|████████████████████████████████████████████████████████████████████| 495/495 [00:42<00:00, 11.68it/s]\n",
      "Evaluating: 100%|████████████████████████████████████████████████████████████████████████| 4/4 [00:00<00:00, 36.20it/s]\n"
     ]
    },
    {
     "name": "stdout",
     "output_type": "stream",
     "text": [
      "Epoch 3/10, Training Loss: 2.3547, Training Accuracy: 32.84%, Validation Loss: 2.4608, Validation Accuracy: 26.67%\n"
     ]
    },
    {
     "name": "stderr",
     "output_type": "stream",
     "text": [
      "Epoch 4/10: 100%|████████████████████████████████████████████████████████████████████| 495/495 [00:42<00:00, 11.66it/s]\n",
      "Evaluating: 100%|████████████████████████████████████████████████████████████████████████| 4/4 [00:00<00:00, 36.52it/s]\n"
     ]
    },
    {
     "name": "stdout",
     "output_type": "stream",
     "text": [
      "Epoch 4/10, Training Loss: 2.1129, Training Accuracy: 38.55%, Validation Loss: 2.2892, Validation Accuracy: 32.00%\n"
     ]
    },
    {
     "name": "stderr",
     "output_type": "stream",
     "text": [
      "Epoch 5/10: 100%|████████████████████████████████████████████████████████████████████| 495/495 [00:42<00:00, 11.63it/s]\n",
      "Evaluating: 100%|████████████████████████████████████████████████████████████████████████| 4/4 [00:00<00:00, 37.55it/s]\n"
     ]
    },
    {
     "name": "stdout",
     "output_type": "stream",
     "text": [
      "Epoch 5/10, Training Loss: 1.9172, Training Accuracy: 43.48%, Validation Loss: 2.1895, Validation Accuracy: 35.11%\n"
     ]
    },
    {
     "name": "stderr",
     "output_type": "stream",
     "text": [
      "Epoch 6/10: 100%|████████████████████████████████████████████████████████████████████| 495/495 [00:42<00:00, 11.75it/s]\n",
      "Evaluating: 100%|████████████████████████████████████████████████████████████████████████| 4/4 [00:00<00:00, 37.91it/s]\n"
     ]
    },
    {
     "name": "stdout",
     "output_type": "stream",
     "text": [
      "Epoch 6/10, Training Loss: 1.7383, Training Accuracy: 48.17%, Validation Loss: 2.1368, Validation Accuracy: 40.22%\n"
     ]
    },
    {
     "name": "stderr",
     "output_type": "stream",
     "text": [
      "Epoch 7/10: 100%|████████████████████████████████████████████████████████████████████| 495/495 [00:42<00:00, 11.59it/s]\n",
      "Evaluating: 100%|████████████████████████████████████████████████████████████████████████| 4/4 [00:00<00:00, 36.91it/s]\n"
     ]
    },
    {
     "name": "stdout",
     "output_type": "stream",
     "text": [
      "Epoch 7/10, Training Loss: 1.5671, Training Accuracy: 52.72%, Validation Loss: 2.0473, Validation Accuracy: 36.67%\n"
     ]
    },
    {
     "name": "stderr",
     "output_type": "stream",
     "text": [
      "Epoch 8/10: 100%|████████████████████████████████████████████████████████████████████| 495/495 [00:42<00:00, 11.72it/s]\n",
      "Evaluating: 100%|████████████████████████████████████████████████████████████████████████| 4/4 [00:00<00:00, 38.45it/s]\n"
     ]
    },
    {
     "name": "stdout",
     "output_type": "stream",
     "text": [
      "Epoch 8/10, Training Loss: 1.3964, Training Accuracy: 57.13%, Validation Loss: 2.1213, Validation Accuracy: 38.89%\n"
     ]
    },
    {
     "name": "stderr",
     "output_type": "stream",
     "text": [
      "Epoch 9/10: 100%|████████████████████████████████████████████████████████████████████| 495/495 [00:42<00:00, 11.63it/s]\n",
      "Evaluating: 100%|████████████████████████████████████████████████████████████████████████| 4/4 [00:00<00:00, 37.77it/s]\n"
     ]
    },
    {
     "name": "stdout",
     "output_type": "stream",
     "text": [
      "Epoch 9/10, Training Loss: 1.2411, Training Accuracy: 61.34%, Validation Loss: 2.3533, Validation Accuracy: 40.00%\n"
     ]
    },
    {
     "name": "stderr",
     "output_type": "stream",
     "text": [
      "Epoch 10/10: 100%|███████████████████████████████████████████████████████████████████| 495/495 [00:42<00:00, 11.75it/s]\n",
      "Evaluating: 100%|████████████████████████████████████████████████████████████████████████| 4/4 [00:00<00:00, 38.23it/s]\n"
     ]
    },
    {
     "name": "stdout",
     "output_type": "stream",
     "text": [
      "Epoch 10/10, Training Loss: 1.0836, Training Accuracy: 65.87%, Validation Loss: 2.0859, Validation Accuracy: 45.78%\n"
     ]
    },
    {
     "data": {
      "image/png": "[encoded data removed]",
      "text/plain": [
       "<Figure size 1200x500 with 2 Axes>"
      ]
     },
     "metadata": {},
     "output_type": "display_data"
    }
   ],
   "source": [
    "criterion = nn.CrossEntropyLoss()\n",
    "optimizer = optim.Adam(model_simplecnn.parameters(), lr=0.001)\n",
    "epochs = 10\n",
    "\n",
    "training_acc = []\n",
    "val_acc = []\n",
    "training_loss = []\n",
    "val_loss = []\n",
    "\n",
    "for epoch in range(epochs):\n",
    "    model_simplecnn.train()\n",
    "    running_loss = 0.0\n",
    "    train_correct = 0\n",
    "    train_total = 0\n",
    "\n",
    "    for inputs, labels in tqdm(loader, desc=f\"Epoch {epoch + 1}/{epochs}\"):\n",
    "        inputs, labels = inputs.float().to(device), labels.float().to(device)\n",
    "        outputs = model_simplecnn(inputs)\n",
    "        loss = criterion(outputs, labels)\n",
    "        optimizer.zero_grad()\n",
    "        loss.backward()\n",
    "        optimizer.step()\n",
    "\n",
    "        running_loss += loss.item() * inputs.size(0)\n",
    "        labels = labels.argmax(dim=1)\n",
    "        _, predicted = torch.max(outputs, 1)\n",
    "        train_correct += (predicted == labels).sum().item()\n",
    "        train_total += labels.size(0)\n",
    "\n",
    "    training_acc.append(100 * train_correct / train_total)\n",
    "    training_loss.append(running_loss / len(loader.dataset))\n",
    "\n",
    "    model_simplecnn.eval()\n",
    "    correct = 0\n",
    "    total = 0\n",
    "    val_running_loss = 0.0\n",
    "\n",
    "    with torch.no_grad():\n",
    "        for inputs, labels in tqdm(vloader, desc=\"Evaluating\"):\n",
    "            inputs, labels = inputs.float().to(device), labels.float().to(device)\n",
    "            labels = labels.argmax(dim=1)\n",
    "            outputs = model_simplecnn(inputs)\n",
    "            loss = criterion(outputs, labels)\n",
    "            val_running_loss += loss.item() * inputs.size(0)\n",
    "            _, predicted = torch.max(outputs, 1)\n",
    "            total += labels.size(0)\n",
    "            correct += (predicted == labels).sum().item()\n",
    "\n",
    "    val_acc.append(100 * correct / total)\n",
    "    val_loss.append(val_running_loss / len(vloader.dataset))\n",
    "\n",
    "    print(f\"Epoch {epoch + 1}/{epochs}, \"\n",
    "          f\"Training Loss: {training_loss[-1]:.4f}, \"\n",
    "          f\"Training Accuracy: {training_acc[-1]:.2f}%, \"\n",
    "          f\"Validation Loss: {val_loss[-1]:.4f}, \"\n",
    "          f\"Validation Accuracy: {val_acc[-1]:.2f}%\")\n",
    "\n",
    "# Plot training and validation accuracy\n",
    "plt.figure(figsize=(12, 5))\n",
    "\n",
    "plt.subplot(1, 2, 1)\n",
    "plt.plot(training_acc, label='Training Accuracy')\n",
    "plt.plot(val_acc, label='Validation Accuracy')\n",
    "plt.xlabel('Epoch')\n",
    "plt.ylabel('Accuracy')\n",
    "plt.legend()\n",
    "plt.title('Training and Validation Accuracy')\n",
    "\n",
    "# Plot training and validation loss\n",
    "plt.subplot(1, 2, 2)\n",
    "plt.plot(training_loss, label='Training Loss')\n",
    "plt.plot(val_loss, label='Validation Loss')\n",
    "plt.xlabel('Epoch')\n",
    "plt.ylabel('Loss')\n",
    "plt.legend()\n",
    "plt.title('Training and Validation Loss')\n",
    "\n",
    "plt.tight_layout()\n",
    "plt.show()"
   ]
  },
  {
   "cell_type": "code",
   "execution_count": 17,
   "id": "68da4a4d-1370-478a-9d57-d945c594c9c7",
   "metadata": {},
   "outputs": [
    {
     "name": "stderr",
     "output_type": "stream",
     "text": [
      "Evaluating: 100%|████████████████████████████████████████████████████████████████████████| 4/4 [00:00<00:00, 11.14it/s]"
     ]
    },
    {
     "name": "stdout",
     "output_type": "stream",
     "text": [
      "test Accuracy: 40.0000%\n"
     ]
    },
    {
     "name": "stderr",
     "output_type": "stream",
     "text": [
      "\n"
     ]
    }
   ],
   "source": [
    "# self-made CNN test accuracy\n",
    "model_simplecnn.eval() \n",
    "correct = 0\n",
    "total = 0\n",
    "\n",
    "with torch.no_grad():\n",
    "    for inputs, labels in tqdm(tloader, desc=\"Evaluating\"):\n",
    "        inputs, labels = inputs.float().to(device), labels.float().to(device)\n",
    "        labels = labels.argmax(dim=1)\n",
    "        outputs = model_simplecnn(inputs)\n",
    "        _, predicted = torch.max(outputs, 1)\n",
    "        total += labels.size(0)      \n",
    "        correct += (predicted == labels).sum().item()\n",
    "\n",
    "accuracy = 100 * correct / total\n",
    "print(f\"test Accuracy: {accuracy:.4f}%\")"
   ]
  }
 ],
 "metadata": {
  "kernelspec": {
   "display_name": "Python 3 (ipykernel)",
   "language": "python",
   "name": "python3"
  },
  "language_info": {
   "codemirror_mode": {
    "name": "ipython",
    "version": 3
   },
   "file_extension": ".py",
   "mimetype": "text/x-python",
   "name": "python",
   "nbconvert_exporter": "python",
   "pygments_lexer": "ipython3",
   "version": "3.10.8"
  }
 },
 "nbformat": 4,
 "nbformat_minor": 5
}
