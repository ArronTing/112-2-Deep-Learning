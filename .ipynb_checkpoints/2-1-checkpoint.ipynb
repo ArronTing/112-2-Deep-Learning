{
 "cells": [
  {
   "cell_type": "raw",
   "id": "07c2c762-7a75-4ad3-bbc4-22ec8bf244ec",
   "metadata": {},
   "source": [
    "result\n",
    "naive model:\n",
    "    RGB:39.7778%\n",
    "    RG:42.0000%\n",
    "    RB:42.0000%\n",
    "    GB:45.1111%\n",
    "    R:39.3333%\n",
    "    G:42.0000%\n",
    "    B:39.5556%\n",
    "DynamicConv model:\n",
    "    RGB:7.5556%\n",
    "    RG:28.8889%\n",
    "    RB:24.8889%\n",
    "    GB:24.2222%\n",
    "    R:33.1111%\n",
    "    G:35.3333%\n",
    "    B:35.7778%"
   ]
  },
  {
   "cell_type": "code",
   "execution_count": 1,
   "id": "3e2764be-ed2c-458e-99f3-591de51350ae",
   "metadata": {},
   "outputs": [],
   "source": [
    "import os\n",
    "import numpy as np\n",
    "from numpy import linalg as LA\n",
    "import cv2\n",
    "import matplotlib.pyplot as plt\n",
    "from tqdm import tqdm\n",
    "import torch\n",
    "import torch.nn as nn\n",
    "import torch.nn.functional as F\n",
    "from torchvision import transforms\n",
    "from torch.utils.data import TensorDataset, DataLoader\n",
    "import torch.optim as optim\n",
    "from torchvision import models"
   ]
  },
  {
   "cell_type": "markdown",
   "id": "dd6aa86a-cf07-4f5c-a20b-b6f4c10024f7",
   "metadata": {
    "jp-MarkdownHeadingCollapsed": true
   },
   "source": [
    "# Load Data"
   ]
  },
  {
   "cell_type": "code",
   "execution_count": 47,
   "id": "15da2417-9167-4471-92b0-be757596db1e",
   "metadata": {},
   "outputs": [],
   "source": [
    "# Load data function\n",
    "def load_train_img(f, input_ch='RGB'):\n",
    "    with open(f, 'r') as file:\n",
    "        lines = file.readlines()\n",
    "    print(f'Total train images(input_ch : {input_ch}):', len(lines))\n",
    "    imgs, lab = [], []\n",
    "    channel_map = {\n",
    "        'RGB': [0, 1, 2],\n",
    "        'RG': [0, 1],\n",
    "        'GB': [1, 2],\n",
    "        'RB': [0, 2],\n",
    "        'R': [0],\n",
    "        'G': [1],\n",
    "        'B': [2]\n",
    "    }\n",
    "   \n",
    "    channels = channel_map[input_ch]\n",
    "\n",
    "    for i in tqdm(range(len(lines)), desc=\"Loading images\"):\n",
    "        fn, label = lines[i].strip().split(' ')\n",
    "        im1 = cv2.imread('images/' + fn)\n",
    "        im1 = cv2.resize(im1, (128, 128))\n",
    "        im1 = im1[:, :, channels]  # Select the appropriate channels\n",
    "        im1_tensor = torch.from_numpy(im1.transpose(2, 0, 1)) # Convert to torch_tensor\n",
    "        \n",
    "        imgs.append(im1_tensor)\n",
    "        lab.append(int(label))\n",
    "        \n",
    "    img_tensor = torch.stack(imgs)\n",
    "    lab_tensor = torch.tensor(lab)\n",
    "    \n",
    "    return img_tensor, lab_tensor\n",
    "\n",
    "def load_val_img(f, input_ch='RGB'):\n",
    "    with open(f, 'r') as file:\n",
    "        lines = file.readlines()\n",
    "    print(f'Total validation images(input_ch:{input_ch}):', len(lines))\n",
    "    imgs, lab = [], []\n",
    "    channel_map = {\n",
    "        'RGB': [0, 1, 2],\n",
    "        'RG': [0, 1],\n",
    "        'GB': [1, 2],\n",
    "        'RB': [0, 2],\n",
    "        'R': [0],\n",
    "        'G': [1],\n",
    "        'B': [2]\n",
    "    }\n",
    "    \n",
    "    channels = channel_map[input_ch]\n",
    "\n",
    "    for i in tqdm(range(len(lines)), desc=\"Loading images\"):\n",
    "        fn, label = lines[i].strip().split(' ')\n",
    "        im1 = cv2.imread('images/' + fn)\n",
    "        im1 = cv2.resize(im1, (128, 128))\n",
    "        im1 = im1[:, :, channels]  # Select the appropriate channels\n",
    "        im1_tensor = torch.from_numpy(im1.transpose(2, 0, 1)) # Convert to torch_tensor\n",
    "        \n",
    "        imgs.append(im1_tensor)\n",
    "        lab.append(int(label))\n",
    "        \n",
    "    img_tensor = torch.stack(imgs)\n",
    "    lab_tensor = torch.tensor(lab)\n",
    "    \n",
    "    return img_tensor, lab_tensor\n",
    "\n",
    "def load_test_img(f, input_ch='RGB'):\n",
    "    with open(f, 'r') as file:\n",
    "        lines = file.readlines()\n",
    "    print(f'Total test images(input_ch : {input_ch}):', len(lines))\n",
    "    imgs, lab = [], []\n",
    "    channel_map = {\n",
    "        'RGB': [0, 1, 2],\n",
    "        'RG': [0, 1],\n",
    "        'GB': [1, 2],\n",
    "        'RB': [0, 2],\n",
    "        'R': [0],\n",
    "        'G': [1],\n",
    "        'B': [2]\n",
    "    }\n",
    "    \n",
    "    channels = channel_map[input_ch]\n",
    "\n",
    "    for i in tqdm(range(len(lines)), desc=\"Loading images\"):\n",
    "        fn, label = lines[i].strip().split(' ')\n",
    "        im1 = cv2.imread('images/' + fn)\n",
    "        im1 = cv2.resize(im1, (128, 128))\n",
    "        im1 = im1[:, :, channels]  # Select the appropriate channels\n",
    "        im1_tensor = torch.from_numpy(im1.transpose(2, 0, 1)) # Convert to torch_tensor\n",
    "        \n",
    "        imgs.append(im1_tensor)\n",
    "        lab.append(int(label))\n",
    "        \n",
    "    img_tensor = torch.stack(imgs)\n",
    "    lab_tensor = torch.tensor(lab)\n",
    "    \n",
    "    return img_tensor, lab_tensor"
   ]
  },
  {
   "cell_type": "code",
   "execution_count": 48,
   "id": "359a2808-553d-48fe-8770-aaa915788f4c",
   "metadata": {},
   "outputs": [
    {
     "name": "stdout",
     "output_type": "stream",
     "text": [
      "Total train images(input_ch : B): 63325\n"
     ]
    },
    {
     "name": "stderr",
     "output_type": "stream",
     "text": [
      "Loading images: 100%|██████████████████████████████████████████████████████████| 63325/63325 [01:01<00:00, 1024.86it/s]\n"
     ]
    },
    {
     "name": "stdout",
     "output_type": "stream",
     "text": [
      "Total validation images(input_ch:B): 450\n"
     ]
    },
    {
     "name": "stderr",
     "output_type": "stream",
     "text": [
      "Loading images: 100%|██████████████████████████████████████████████████████████████| 450/450 [00:00<00:00, 1050.57it/s]\n"
     ]
    },
    {
     "name": "stdout",
     "output_type": "stream",
     "text": [
      "Total test images(input_ch : B): 450\n"
     ]
    },
    {
     "name": "stderr",
     "output_type": "stream",
     "text": [
      "Loading images: 100%|██████████████████████████████████████████████████████████████| 450/450 [00:00<00:00, 1018.08it/s]\n"
     ]
    }
   ],
   "source": [
    "# Load data\n",
    "ch = 'B'\n",
    "x, y =  load_train_img('images/train.txt', ch)\n",
    "vx, vy =  load_val_img('images/val.txt', ch)\n",
    "tx, ty =  load_test_img('images/test.txt', ch)"
   ]
  },
  {
   "cell_type": "code",
   "execution_count": 49,
   "id": "83c21b43-b120-4c49-bfca-a3ca148e20d8",
   "metadata": {},
   "outputs": [],
   "source": [
    "# dataloader\n",
    "y_tensor = torch.nn.functional.one_hot(y, num_classes=50)\n",
    "vy_tensor = torch.nn.functional.one_hot(vy, num_classes=50)\n",
    "ty_tensor = torch.nn.functional.one_hot(ty, num_classes=50)\n",
    "\n",
    "dataset = TensorDataset(x, y_tensor)\n",
    "vdataset = TensorDataset(vx, vy_tensor)\n",
    "tdataset = TensorDataset(tx, ty_tensor)\n",
    "\n",
    "bs = 128\n",
    "loader = DataLoader(dataset, batch_size = bs, shuffle = True)\n",
    "vloader = DataLoader(vdataset, batch_size = bs, shuffle = True)\n",
    "tloader = DataLoader(tdataset, batch_size = bs, shuffle = True)"
   ]
  },
  {
   "cell_type": "code",
   "execution_count": 55,
   "id": "b63a8e67-73ab-4a9f-adc3-3b8d1f8d06ec",
   "metadata": {},
   "outputs": [
    {
     "name": "stdout",
     "output_type": "stream",
     "text": [
      "Total train images(input_ch : RGB): 63325\n"
     ]
    },
    {
     "name": "stderr",
     "output_type": "stream",
     "text": [
      "Loading images: 100%|███████████████████████████████████████████████████████████| 63325/63325 [01:07<00:00, 931.93it/s]\n"
     ]
    },
    {
     "name": "stdout",
     "output_type": "stream",
     "text": [
      "Total validation images(input_ch:RGB): 450\n"
     ]
    },
    {
     "name": "stderr",
     "output_type": "stream",
     "text": [
      "Loading images: 100%|███████████████████████████████████████████████████████████████| 450/450 [00:00<00:00, 752.55it/s]\n"
     ]
    },
    {
     "name": "stdout",
     "output_type": "stream",
     "text": [
      "Total test images(input_ch : RGB): 450\n"
     ]
    },
    {
     "name": "stderr",
     "output_type": "stream",
     "text": [
      "Loading images: 100%|███████████████████████████████████████████████████████████████| 450/450 [00:00<00:00, 791.21it/s]\n"
     ]
    },
    {
     "name": "stdout",
     "output_type": "stream",
     "text": [
      "Total train images(input_ch : RG): 63325\n"
     ]
    },
    {
     "name": "stderr",
     "output_type": "stream",
     "text": [
      "Loading images: 100%|██████████████████████████████████████████████████████████| 63325/63325 [00:54<00:00, 1168.33it/s]\n"
     ]
    },
    {
     "name": "stdout",
     "output_type": "stream",
     "text": [
      "Total validation images(input_ch:RG): 450\n"
     ]
    },
    {
     "name": "stderr",
     "output_type": "stream",
     "text": [
      "Loading images: 100%|███████████████████████████████████████████████████████████████| 450/450 [00:00<00:00, 792.11it/s]\n"
     ]
    },
    {
     "name": "stdout",
     "output_type": "stream",
     "text": [
      "Total test images(input_ch : RG): 450\n"
     ]
    },
    {
     "name": "stderr",
     "output_type": "stream",
     "text": [
      "Loading images: 100%|███████████████████████████████████████████████████████████████| 450/450 [00:00<00:00, 883.38it/s]\n"
     ]
    },
    {
     "name": "stdout",
     "output_type": "stream",
     "text": [
      "Total train images(input_ch : RB): 63325\n"
     ]
    },
    {
     "name": "stderr",
     "output_type": "stream",
     "text": [
      "Loading images: 100%|██████████████████████████████████████████████████████████| 63325/63325 [00:54<00:00, 1162.86it/s]\n"
     ]
    },
    {
     "name": "stdout",
     "output_type": "stream",
     "text": [
      "Total validation images(input_ch:RB): 450\n"
     ]
    },
    {
     "name": "stderr",
     "output_type": "stream",
     "text": [
      "Loading images: 100%|███████████████████████████████████████████████████████████████| 450/450 [00:00<00:00, 787.79it/s]\n"
     ]
    },
    {
     "name": "stdout",
     "output_type": "stream",
     "text": [
      "Total test images(input_ch : RB): 450\n"
     ]
    },
    {
     "name": "stderr",
     "output_type": "stream",
     "text": [
      "Loading images: 100%|███████████████████████████████████████████████████████████████| 450/450 [00:00<00:00, 858.24it/s]\n"
     ]
    },
    {
     "name": "stdout",
     "output_type": "stream",
     "text": [
      "Total train images(input_ch : GB): 63325\n"
     ]
    },
    {
     "name": "stderr",
     "output_type": "stream",
     "text": [
      "Loading images: 100%|██████████████████████████████████████████████████████████| 63325/63325 [00:56<00:00, 1112.98it/s]\n"
     ]
    },
    {
     "name": "stdout",
     "output_type": "stream",
     "text": [
      "Total validation images(input_ch:GB): 450\n"
     ]
    },
    {
     "name": "stderr",
     "output_type": "stream",
     "text": [
      "Loading images: 100%|███████████████████████████████████████████████████████████████| 450/450 [00:00<00:00, 826.47it/s]\n"
     ]
    },
    {
     "name": "stdout",
     "output_type": "stream",
     "text": [
      "Total test images(input_ch : GB): 450\n"
     ]
    },
    {
     "name": "stderr",
     "output_type": "stream",
     "text": [
      "Loading images: 100%|███████████████████████████████████████████████████████████████| 450/450 [00:00<00:00, 900.40it/s]\n"
     ]
    },
    {
     "name": "stdout",
     "output_type": "stream",
     "text": [
      "Total train images(input_ch : R): 63325\n"
     ]
    },
    {
     "name": "stderr",
     "output_type": "stream",
     "text": [
      "Loading images: 100%|███████████████████████████████████████████████████████████| 63325/63325 [01:12<00:00, 871.16it/s]\n"
     ]
    },
    {
     "name": "stdout",
     "output_type": "stream",
     "text": [
      "Total validation images(input_ch:R): 450\n"
     ]
    },
    {
     "name": "stderr",
     "output_type": "stream",
     "text": [
      "Loading images: 100%|███████████████████████████████████████████████████████████████| 450/450 [00:00<00:00, 971.24it/s]\n"
     ]
    },
    {
     "name": "stdout",
     "output_type": "stream",
     "text": [
      "Total test images(input_ch : R): 450\n"
     ]
    },
    {
     "name": "stderr",
     "output_type": "stream",
     "text": [
      "Loading images: 100%|███████████████████████████████████████████████████████████████| 450/450 [00:00<00:00, 960.22it/s]\n"
     ]
    },
    {
     "name": "stdout",
     "output_type": "stream",
     "text": [
      "Total train images(input_ch : G): 63325\n"
     ]
    },
    {
     "name": "stderr",
     "output_type": "stream",
     "text": [
      "Loading images: 100%|███████████████████████████████████████████████████████████| 63325/63325 [01:04<00:00, 980.78it/s]\n"
     ]
    },
    {
     "name": "stdout",
     "output_type": "stream",
     "text": [
      "Total validation images(input_ch:G): 450\n"
     ]
    },
    {
     "name": "stderr",
     "output_type": "stream",
     "text": [
      "Loading images: 100%|██████████████████████████████████████████████████████████████| 450/450 [00:00<00:00, 1069.95it/s]\n"
     ]
    },
    {
     "name": "stdout",
     "output_type": "stream",
     "text": [
      "Total test images(input_ch : G): 450\n"
     ]
    },
    {
     "name": "stderr",
     "output_type": "stream",
     "text": [
      "Loading images: 100%|██████████████████████████████████████████████████████████████| 450/450 [00:00<00:00, 1100.20it/s]\n"
     ]
    },
    {
     "name": "stdout",
     "output_type": "stream",
     "text": [
      "Total train images(input_ch : B): 63325\n"
     ]
    },
    {
     "name": "stderr",
     "output_type": "stream",
     "text": [
      "Loading images: 100%|██████████████████████████████████████████████████████████| 63325/63325 [01:01<00:00, 1021.90it/s]\n"
     ]
    },
    {
     "name": "stdout",
     "output_type": "stream",
     "text": [
      "Total validation images(input_ch:B): 450\n"
     ]
    },
    {
     "name": "stderr",
     "output_type": "stream",
     "text": [
      "Loading images: 100%|██████████████████████████████████████████████████████████████| 450/450 [00:00<00:00, 1113.89it/s]\n"
     ]
    },
    {
     "name": "stdout",
     "output_type": "stream",
     "text": [
      "Total test images(input_ch : B): 450\n"
     ]
    },
    {
     "name": "stderr",
     "output_type": "stream",
     "text": [
      "Loading images: 100%|██████████████████████████████████████████████████████████████| 450/450 [00:00<00:00, 1110.41it/s]\n"
     ]
    }
   ],
   "source": [
    "# Load data\n",
    "ch = 'RGB'\n",
    "x_RGB, y_RGB =  load_train_img('images/train.txt', ch)\n",
    "vx_RGB, vy_RGB =  load_val_img('images/val.txt', ch)\n",
    "tx_RGB, ty_RGB =  load_test_img('images/test.txt', ch)\n",
    "\n",
    "ch = 'RG'\n",
    "x_RG, y_RG =  load_train_img('images/train.txt', ch)\n",
    "vx_RG, vy_RG =  load_val_img('images/val.txt', ch)\n",
    "tx_RG, ty_RG =  load_test_img('images/test.txt', ch)\n",
    "\n",
    "ch = 'RB'\n",
    "x_RB, y_RB =  load_train_img('images/train.txt', ch)\n",
    "vx_RB, vy_RB =  load_val_img('images/val.txt', ch)\n",
    "tx_RB, ty_RB =  load_test_img('images/test.txt', ch)\n",
    "\n",
    "ch = 'GB'\n",
    "x_GB, y_GB =  load_train_img('images/train.txt', ch)\n",
    "vx_GB, vy_GB =  load_val_img('images/val.txt', ch)\n",
    "tx_GB, ty_GB =  load_test_img('images/test.txt', ch)\n",
    "\n",
    "ch = 'R'\n",
    "x_R, y_R =  load_train_img('images/train.txt', ch)\n",
    "vx_R, vy_R =  load_val_img('images/val.txt', ch)\n",
    "tx_R, ty_R =  load_test_img('images/test.txt', ch)\n",
    "\n",
    "ch = 'G'\n",
    "x_G, y_G =  load_train_img('images/train.txt', ch)\n",
    "vx_G, vy_G =  load_val_img('images/val.txt', ch)\n",
    "tx_G, ty_G =  load_test_img('images/test.txt', ch)\n",
    "\n",
    "ch = 'B'\n",
    "x_B, y_B =  load_train_img('images/train.txt', ch)\n",
    "vx_B, vy_B =  load_val_img('images/val.txt', ch)\n",
    "tx_B, ty_B =  load_test_img('images/test.txt', ch)"
   ]
  },
  {
   "cell_type": "code",
   "execution_count": 56,
   "id": "8765f776-32a4-4ca2-905a-326381c6b958",
   "metadata": {},
   "outputs": [],
   "source": [
    "# dataloader\n",
    "# RGB\n",
    "y_tensor = torch.nn.functional.one_hot(y_RGB, num_classes=50)\n",
    "vy_tensor = torch.nn.functional.one_hot(vy_RGB, num_classes=50)\n",
    "ty_tensor = torch.nn.functional.one_hot(ty_RGB, num_classes=50)\n",
    "\n",
    "dataset = TensorDataset(x_RGB, y_tensor)\n",
    "vdataset = TensorDataset(vx_RGB, vy_tensor)\n",
    "tdataset = TensorDataset(tx_RGB, ty_tensor)\n",
    "\n",
    "bs = 128\n",
    "loader_RGB = DataLoader(dataset, batch_size = bs, shuffle = True)\n",
    "vloader_RGB = DataLoader(vdataset, batch_size = bs, shuffle = True)\n",
    "tloader_RGB = DataLoader(tdataset, batch_size = bs, shuffle = True)\n",
    "\n",
    "# RG\n",
    "y_tensor = torch.nn.functional.one_hot(y_RG, num_classes=50)\n",
    "vy_tensor = torch.nn.functional.one_hot(vy_RG, num_classes=50)\n",
    "ty_tensor = torch.nn.functional.one_hot(ty_RG, num_classes=50)\n",
    "\n",
    "dataset = TensorDataset(x_RG, y_tensor)\n",
    "vdataset = TensorDataset(vx_RG, vy_tensor)\n",
    "tdataset = TensorDataset(tx_RG, ty_tensor)\n",
    "\n",
    "loader_RG = DataLoader(dataset, batch_size = bs, shuffle = True)\n",
    "vloader_RG = DataLoader(vdataset, batch_size = bs, shuffle = True)\n",
    "tloader_RG = DataLoader(tdataset, batch_size = bs, shuffle = True)\n",
    "\n",
    "# RB\n",
    "y_tensor = torch.nn.functional.one_hot(y_RB, num_classes=50)\n",
    "vy_tensor = torch.nn.functional.one_hot(vy_RB, num_classes=50)\n",
    "ty_tensor = torch.nn.functional.one_hot(ty_RB, num_classes=50)\n",
    "\n",
    "dataset = TensorDataset(x_RB, y_tensor)\n",
    "vdataset = TensorDataset(vx_RB, vy_tensor)\n",
    "tdataset = TensorDataset(tx_RB, ty_tensor)\n",
    "\n",
    "loader_RB = DataLoader(dataset, batch_size = bs, shuffle = True)\n",
    "vloader_RB = DataLoader(vdataset, batch_size = bs, shuffle = True)\n",
    "tloader_RB = DataLoader(tdataset, batch_size = bs, shuffle = True)\n",
    "\n",
    "# GB\n",
    "y_tensor = torch.nn.functional.one_hot(y_GB, num_classes=50)\n",
    "vy_tensor = torch.nn.functional.one_hot(vy_GB, num_classes=50)\n",
    "ty_tensor = torch.nn.functional.one_hot(ty_GB, num_classes=50)\n",
    "\n",
    "dataset = TensorDataset(x_GB, y_tensor)\n",
    "vdataset = TensorDataset(vx_GB, vy_tensor)\n",
    "tdataset = TensorDataset(tx_GB, ty_tensor)\n",
    "\n",
    "loader_GB = DataLoader(dataset, batch_size = bs, shuffle = True)\n",
    "vloader_GB = DataLoader(vdataset, batch_size = bs, shuffle = True)\n",
    "tloader_GB = DataLoader(tdataset, batch_size = bs, shuffle = True)\n",
    "\n",
    "# R\n",
    "y_tensor = torch.nn.functional.one_hot(y_R, num_classes=50)\n",
    "vy_tensor = torch.nn.functional.one_hot(vy_R, num_classes=50)\n",
    "ty_tensor = torch.nn.functional.one_hot(ty_R, num_classes=50)\n",
    "\n",
    "dataset = TensorDataset(x_R, y_tensor)\n",
    "vdataset = TensorDataset(vx_R, vy_tensor)\n",
    "tdataset = TensorDataset(tx_R, ty_tensor)\n",
    "\n",
    "loader_R = DataLoader(dataset, batch_size = bs, shuffle = True)\n",
    "vloader_R = DataLoader(vdataset, batch_size = bs, shuffle = True)\n",
    "tloader_R = DataLoader(tdataset, batch_size = bs, shuffle = True)\n",
    "\n",
    "# G\n",
    "y_tensor = torch.nn.functional.one_hot(y_G, num_classes=50)\n",
    "vy_tensor = torch.nn.functional.one_hot(vy_G, num_classes=50)\n",
    "ty_tensor = torch.nn.functional.one_hot(ty_G, num_classes=50)\n",
    "\n",
    "dataset = TensorDataset(x_G, y_tensor)\n",
    "vdataset = TensorDataset(vx_G, vy_tensor)\n",
    "tdataset = TensorDataset(tx_G, ty_tensor)\n",
    "\n",
    "loader_G = DataLoader(dataset, batch_size = bs, shuffle = True)\n",
    "vloader_G = DataLoader(vdataset, batch_size = bs, shuffle = True)\n",
    "tloader_G = DataLoader(tdataset, batch_size = bs, shuffle = True)\n",
    "\n",
    "# B\n",
    "y_tensor = torch.nn.functional.one_hot(y_B, num_classes=50)\n",
    "vy_tensor = torch.nn.functional.one_hot(vy_B, num_classes=50)\n",
    "ty_tensor = torch.nn.functional.one_hot(ty_B, num_classes=50)\n",
    "\n",
    "dataset = TensorDataset(x_B, y_tensor)\n",
    "vdataset = TensorDataset(vx_B, vy_tensor)\n",
    "tdataset = TensorDataset(tx_B, ty_tensor)\n",
    "\n",
    "loader_B = DataLoader(dataset, batch_size = bs, shuffle = True)\n",
    "vloader_B = DataLoader(vdataset, batch_size = bs, shuffle = True)\n",
    "tloader_B = DataLoader(tdataset, batch_size = bs, shuffle = True)"
   ]
  },
  {
   "cell_type": "markdown",
   "id": "23bcf6f6-d462-48c4-9da7-ddc7082310b1",
   "metadata": {
    "jp-MarkdownHeadingCollapsed": true
   },
   "source": [
    "# Build Naive model"
   ]
  },
  {
   "cell_type": "code",
   "execution_count": 50,
   "id": "32ef849d-aeea-4bc8-9880-4c6beb9231dc",
   "metadata": {},
   "outputs": [
    {
     "data": {
      "text/plain": [
       "SimpleCNN(\n",
       "  (conv1): Conv2d(1, 32, kernel_size=(3, 3), stride=(1, 1), padding=(1, 1))\n",
       "  (conv2): Conv2d(32, 64, kernel_size=(3, 3), stride=(1, 1), padding=(1, 1))\n",
       "  (conv3): Conv2d(64, 128, kernel_size=(3, 3), stride=(1, 1), padding=(1, 1))\n",
       "  (conv4): Conv2d(128, 256, kernel_size=(3, 3), stride=(1, 1), padding=(1, 1))\n",
       "  (bn1): BatchNorm2d(32, eps=1e-05, momentum=0.1, affine=True, track_running_stats=True)\n",
       "  (bn2): BatchNorm2d(64, eps=1e-05, momentum=0.1, affine=True, track_running_stats=True)\n",
       "  (bn3): BatchNorm2d(128, eps=1e-05, momentum=0.1, affine=True, track_running_stats=True)\n",
       "  (bn4): BatchNorm2d(256, eps=1e-05, momentum=0.1, affine=True, track_running_stats=True)\n",
       "  (pool): MaxPool2d(kernel_size=2, stride=2, padding=0, dilation=1, ceil_mode=False)\n",
       "  (flatten): Flatten(start_dim=1, end_dim=-1)\n",
       "  (fc1): Linear(in_features=16384, out_features=1024, bias=True)\n",
       "  (fc2): Linear(in_features=1024, out_features=50, bias=True)\n",
       ")"
      ]
     },
     "execution_count": 50,
     "metadata": {},
     "output_type": "execute_result"
    }
   ],
   "source": [
    "# Build self-made CNN model (use normal conv)\n",
    "class SimpleCNN(nn.Module):\n",
    "    def __init__(self, input_ch=3, num_classes=50):\n",
    "        super(SimpleCNN, self).__init__()\n",
    "        self.conv1 = nn.Conv2d(input_ch, 32, kernel_size=3, stride=1, padding=1)\n",
    "        self.conv2 = nn.Conv2d(32, 64, kernel_size=3, stride=1, padding=1)\n",
    "        self.conv3 = nn.Conv2d(64, 128, kernel_size=3, stride=1, padding=1)\n",
    "        self.conv4 = nn.Conv2d(128, 256, kernel_size=3, stride=1, padding=1)\n",
    "        self.bn1 = nn.BatchNorm2d(32)\n",
    "        self.bn2 = nn.BatchNorm2d(64)\n",
    "        self.bn3 = nn.BatchNorm2d(128)\n",
    "        self.bn4 = nn.BatchNorm2d(256)\n",
    "        self.pool = nn.MaxPool2d(kernel_size=2, stride=2)\n",
    "        self.flatten = nn.Flatten()\n",
    "        self.fc1 = nn.Linear(256 * 8 * 8, 1024)\n",
    "        self.fc2 = nn.Linear(1024, 50) \n",
    "\n",
    "    def forward(self, x):\n",
    "        x = self.pool(F.relu(self.bn1(self.conv1(x))))\n",
    "        x = self.pool(F.relu(self.bn2(self.conv2(x))))\n",
    "        x = self.pool(F.relu(self.bn3(self.conv3(x))))\n",
    "        x = self.pool(F.relu(self.bn4(self.conv4(x))))\n",
    "        \n",
    "        x = self.flatten(x)\n",
    "        x = F.relu(self.fc1(x))\n",
    "        x = self.fc2(x)\n",
    "        return x\n",
    "\n",
    "input_ch = 1 # input_ch = 1, 2, 3\n",
    "model_simplecnn = SimpleCNN(input_ch = input_ch)\n",
    "device = torch.device(\"cuda:0\" if torch.cuda.is_available() else \"cpu\")\n",
    "model_simplecnn.to(device)"
   ]
  },
  {
   "cell_type": "markdown",
   "id": "cbf36f41-87b5-4f05-bf7e-e503df372949",
   "metadata": {
    "jp-MarkdownHeadingCollapsed": true
   },
   "source": [
    "# RGB naive model"
   ]
  },
  {
   "cell_type": "code",
   "execution_count": 10,
   "id": "73fa2474-61c2-46de-90e5-fec83c2218f8",
   "metadata": {},
   "outputs": [
    {
     "name": "stderr",
     "output_type": "stream",
     "text": [
      "Epoch 1/10: 100%|████████████████████████████████████████████████████████████████████| 495/495 [00:44<00:00, 11.02it/s]\n",
      "Evaluating: 100%|████████████████████████████████████████████████████████████████████████| 4/4 [00:00<00:00, 31.76it/s]\n"
     ]
    },
    {
     "name": "stdout",
     "output_type": "stream",
     "text": [
      "Epoch 1/10, Training Loss: 3.5024, Training Accuracy: 13.91%, Validation Loss: 3.1938, Validation Accuracy: 18.00%\n"
     ]
    },
    {
     "name": "stderr",
     "output_type": "stream",
     "text": [
      "Epoch 2/10: 100%|████████████████████████████████████████████████████████████████████| 495/495 [00:44<00:00, 11.20it/s]\n",
      "Evaluating: 100%|████████████████████████████████████████████████████████████████████████| 4/4 [00:00<00:00, 36.08it/s]\n"
     ]
    },
    {
     "name": "stdout",
     "output_type": "stream",
     "text": [
      "Epoch 2/10, Training Loss: 2.6469, Training Accuracy: 26.32%, Validation Loss: 2.7078, Validation Accuracy: 25.11%\n"
     ]
    },
    {
     "name": "stderr",
     "output_type": "stream",
     "text": [
      "Epoch 3/10: 100%|████████████████████████████████████████████████████████████████████| 495/495 [00:44<00:00, 11.23it/s]\n",
      "Evaluating: 100%|████████████████████████████████████████████████████████████████████████| 4/4 [00:00<00:00, 36.33it/s]\n"
     ]
    },
    {
     "name": "stdout",
     "output_type": "stream",
     "text": [
      "Epoch 3/10, Training Loss: 2.3231, Training Accuracy: 33.78%, Validation Loss: 2.3432, Validation Accuracy: 31.56%\n"
     ]
    },
    {
     "name": "stderr",
     "output_type": "stream",
     "text": [
      "Epoch 4/10: 100%|████████████████████████████████████████████████████████████████████| 495/495 [00:44<00:00, 11.19it/s]\n",
      "Evaluating: 100%|████████████████████████████████████████████████████████████████████████| 4/4 [00:00<00:00, 36.64it/s]\n"
     ]
    },
    {
     "name": "stdout",
     "output_type": "stream",
     "text": [
      "Epoch 4/10, Training Loss: 2.0827, Training Accuracy: 39.61%, Validation Loss: 2.5454, Validation Accuracy: 30.22%\n"
     ]
    },
    {
     "name": "stderr",
     "output_type": "stream",
     "text": [
      "Epoch 5/10: 100%|████████████████████████████████████████████████████████████████████| 495/495 [00:44<00:00, 11.22it/s]\n",
      "Evaluating: 100%|████████████████████████████████████████████████████████████████████████| 4/4 [00:00<00:00, 37.73it/s]\n"
     ]
    },
    {
     "name": "stdout",
     "output_type": "stream",
     "text": [
      "Epoch 5/10, Training Loss: 1.8630, Training Accuracy: 45.11%, Validation Loss: 2.5202, Validation Accuracy: 33.78%\n"
     ]
    },
    {
     "name": "stderr",
     "output_type": "stream",
     "text": [
      "Epoch 6/10: 100%|████████████████████████████████████████████████████████████████████| 495/495 [00:44<00:00, 11.22it/s]\n",
      "Evaluating: 100%|████████████████████████████████████████████████████████████████████████| 4/4 [00:00<00:00, 34.12it/s]\n"
     ]
    },
    {
     "name": "stdout",
     "output_type": "stream",
     "text": [
      "Epoch 6/10, Training Loss: 1.6660, Training Accuracy: 49.99%, Validation Loss: 2.0655, Validation Accuracy: 38.67%\n"
     ]
    },
    {
     "name": "stderr",
     "output_type": "stream",
     "text": [
      "Epoch 7/10: 100%|████████████████████████████████████████████████████████████████████| 495/495 [00:44<00:00, 11.22it/s]\n",
      "Evaluating: 100%|████████████████████████████████████████████████████████████████████████| 4/4 [00:00<00:00, 36.37it/s]\n"
     ]
    },
    {
     "name": "stdout",
     "output_type": "stream",
     "text": [
      "Epoch 7/10, Training Loss: 1.4599, Training Accuracy: 55.58%, Validation Loss: 2.1922, Validation Accuracy: 37.78%\n"
     ]
    },
    {
     "name": "stderr",
     "output_type": "stream",
     "text": [
      "Epoch 8/10: 100%|████████████████████████████████████████████████████████████████████| 495/495 [00:44<00:00, 11.21it/s]\n",
      "Evaluating: 100%|████████████████████████████████████████████████████████████████████████| 4/4 [00:00<00:00, 36.42it/s]\n"
     ]
    },
    {
     "name": "stdout",
     "output_type": "stream",
     "text": [
      "Epoch 8/10, Training Loss: 1.2736, Training Accuracy: 60.79%, Validation Loss: 2.1716, Validation Accuracy: 37.33%\n"
     ]
    },
    {
     "name": "stderr",
     "output_type": "stream",
     "text": [
      "Epoch 9/10: 100%|████████████████████████████████████████████████████████████████████| 495/495 [00:44<00:00, 11.19it/s]\n",
      "Evaluating: 100%|████████████████████████████████████████████████████████████████████████| 4/4 [00:00<00:00, 37.70it/s]\n"
     ]
    },
    {
     "name": "stdout",
     "output_type": "stream",
     "text": [
      "Epoch 9/10, Training Loss: 1.0765, Training Accuracy: 66.30%, Validation Loss: 2.1001, Validation Accuracy: 44.00%\n"
     ]
    },
    {
     "name": "stderr",
     "output_type": "stream",
     "text": [
      "Epoch 10/10: 100%|███████████████████████████████████████████████████████████████████| 495/495 [00:44<00:00, 11.24it/s]\n",
      "Evaluating: 100%|████████████████████████████████████████████████████████████████████████| 4/4 [00:00<00:00, 35.83it/s]\n"
     ]
    },
    {
     "name": "stdout",
     "output_type": "stream",
     "text": [
      "Epoch 10/10, Training Loss: 0.8743, Training Accuracy: 72.46%, Validation Loss: 2.7121, Validation Accuracy: 34.89%\n"
     ]
    },
    {
     "data": {
      "image/png": "[encoded data removed]",
      "text/plain": [
       "<Figure size 1200x500 with 2 Axes>"
      ]
     },
     "metadata": {},
     "output_type": "display_data"
    }
   ],
   "source": [
    "criterion = nn.CrossEntropyLoss()\n",
    "optimizer = optim.Adam(model_simplecnn.parameters(), lr=0.001)\n",
    "epochs = 10\n",
    "\n",
    "training_acc = []\n",
    "val_acc = []\n",
    "training_loss = []\n",
    "val_loss = []\n",
    "\n",
    "for epoch in range(epochs):\n",
    "    model_simplecnn.train()\n",
    "    running_loss = 0.0\n",
    "    train_correct = 0\n",
    "    train_total = 0\n",
    "\n",
    "    for inputs, labels in tqdm(loader, desc=f\"Epoch {epoch + 1}/{epochs}\"):\n",
    "        inputs, labels = inputs.float().to(device), labels.float().to(device)\n",
    "        outputs = model_simplecnn(inputs)\n",
    "        loss = criterion(outputs, labels)\n",
    "        optimizer.zero_grad()\n",
    "        loss.backward()\n",
    "        optimizer.step()\n",
    "\n",
    "        running_loss += loss.item() * inputs.size(0)\n",
    "        labels = labels.argmax(dim=1)\n",
    "        _, predicted = torch.max(outputs, 1)\n",
    "        train_correct += (predicted == labels).sum().item()\n",
    "        train_total += labels.size(0)\n",
    "\n",
    "    training_acc.append(100 * train_correct / train_total)\n",
    "    training_loss.append(running_loss / len(loader.dataset))\n",
    "\n",
    "    model_simplecnn.eval()\n",
    "    correct = 0\n",
    "    total = 0\n",
    "    val_running_loss = 0.0\n",
    "\n",
    "    with torch.no_grad():\n",
    "        for inputs, labels in tqdm(vloader, desc=\"Evaluating\"):\n",
    "            inputs, labels = inputs.float().to(device), labels.float().to(device)\n",
    "            labels = labels.argmax(dim=1)\n",
    "            outputs = model_simplecnn(inputs)\n",
    "            loss = criterion(outputs, labels)\n",
    "            val_running_loss += loss.item() * inputs.size(0)\n",
    "            _, predicted = torch.max(outputs, 1)\n",
    "            total += labels.size(0)\n",
    "            correct += (predicted == labels).sum().item()\n",
    "\n",
    "    val_acc.append(100 * correct / total)\n",
    "    val_loss.append(val_running_loss / len(vloader.dataset))\n",
    "\n",
    "    print(f\"Epoch {epoch + 1}/{epochs}, \"\n",
    "          f\"Training Loss: {training_loss[-1]:.4f}, \"\n",
    "          f\"Training Accuracy: {training_acc[-1]:.2f}%, \"\n",
    "          f\"Validation Loss: {val_loss[-1]:.4f}, \"\n",
    "          f\"Validation Accuracy: {val_acc[-1]:.2f}%\")\n",
    "\n",
    "# Plot training and validation accuracy\n",
    "plt.figure(figsize=(12, 5))\n",
    "\n",
    "plt.subplot(1, 2, 1)\n",
    "plt.plot(training_acc, label='Training Accuracy')\n",
    "plt.plot(val_acc, label='Validation Accuracy')\n",
    "plt.xlabel('Epoch')\n",
    "plt.ylabel('Accuracy')\n",
    "plt.legend()\n",
    "plt.title('Training and Validation Accuracy')\n",
    "\n",
    "# Plot training and validation loss\n",
    "plt.subplot(1, 2, 2)\n",
    "plt.plot(training_loss, label='Training Loss')\n",
    "plt.plot(val_loss, label='Validation Loss')\n",
    "plt.xlabel('Epoch')\n",
    "plt.ylabel('Loss')\n",
    "plt.legend()\n",
    "plt.title('Training and Validation Loss')\n",
    "\n",
    "plt.tight_layout()\n",
    "plt.show()"
   ]
  },
  {
   "cell_type": "code",
   "execution_count": 12,
   "id": "6e401c7f-e811-4c41-9a73-31c2adadfe02",
   "metadata": {},
   "outputs": [
    {
     "name": "stderr",
     "output_type": "stream",
     "text": [
      "Evaluating: 100%|████████████████████████████████████████████████████████████████████████| 4/4 [00:00<00:00, 13.09it/s]"
     ]
    },
    {
     "name": "stdout",
     "output_type": "stream",
     "text": [
      "test Accuracy: 39.7778%\n"
     ]
    },
    {
     "name": "stderr",
     "output_type": "stream",
     "text": [
      "\n"
     ]
    }
   ],
   "source": [
    "# self-made CNN test accuracy\n",
    "model_simplecnn.eval() \n",
    "correct = 0\n",
    "total = 0\n",
    "\n",
    "with torch.no_grad():\n",
    "    for inputs, labels in tqdm(tloader, desc=\"Evaluating\"):\n",
    "        inputs, labels = inputs.float().to(device), labels.float().to(device)\n",
    "        labels = labels.argmax(dim=1)\n",
    "        outputs = model_simplecnn(inputs)\n",
    "        _, predicted = torch.max(outputs, 1)\n",
    "        total += labels.size(0)      \n",
    "        correct += (predicted == labels).sum().item()\n",
    "\n",
    "accuracy = 100 * correct / total\n",
    "print(f\"test Accuracy: {accuracy:.4f}%\")"
   ]
  },
  {
   "cell_type": "markdown",
   "id": "eed1032b-816d-4f0b-b0fc-d2ac1209ca25",
   "metadata": {
    "jp-MarkdownHeadingCollapsed": true
   },
   "source": [
    "# RG naive model"
   ]
  },
  {
   "cell_type": "code",
   "execution_count": 16,
   "id": "84c18c83-bac6-48a5-86eb-35605fee9082",
   "metadata": {},
   "outputs": [
    {
     "name": "stderr",
     "output_type": "stream",
     "text": [
      "Epoch 1/10: 100%|████████████████████████████████████████████████████████████████████| 495/495 [00:43<00:00, 11.43it/s]\n",
      "Evaluating: 100%|████████████████████████████████████████████████████████████████████████| 4/4 [00:00<00:00, 36.04it/s]\n"
     ]
    },
    {
     "name": "stdout",
     "output_type": "stream",
     "text": [
      "Epoch 1/10, Training Loss: 3.6423, Training Accuracy: 11.73%, Validation Loss: 3.0043, Validation Accuracy: 18.22%\n"
     ]
    },
    {
     "name": "stderr",
     "output_type": "stream",
     "text": [
      "Epoch 2/10: 100%|████████████████████████████████████████████████████████████████████| 495/495 [00:42<00:00, 11.61it/s]\n",
      "Evaluating: 100%|████████████████████████████████████████████████████████████████████████| 4/4 [00:00<00:00, 40.45it/s]\n"
     ]
    },
    {
     "name": "stdout",
     "output_type": "stream",
     "text": [
      "Epoch 2/10, Training Loss: 2.8003, Training Accuracy: 22.97%, Validation Loss: 2.7103, Validation Accuracy: 24.44%\n"
     ]
    },
    {
     "name": "stderr",
     "output_type": "stream",
     "text": [
      "Epoch 3/10: 100%|████████████████████████████████████████████████████████████████████| 495/495 [00:42<00:00, 11.66it/s]\n",
      "Evaluating: 100%|████████████████████████████████████████████████████████████████████████| 4/4 [00:00<00:00, 37.34it/s]\n"
     ]
    },
    {
     "name": "stdout",
     "output_type": "stream",
     "text": [
      "Epoch 3/10, Training Loss: 2.4778, Training Accuracy: 30.12%, Validation Loss: 2.5556, Validation Accuracy: 27.11%\n"
     ]
    },
    {
     "name": "stderr",
     "output_type": "stream",
     "text": [
      "Epoch 4/10: 100%|████████████████████████████████████████████████████████████████████| 495/495 [00:42<00:00, 11.60it/s]\n",
      "Evaluating: 100%|████████████████████████████████████████████████████████████████████████| 4/4 [00:00<00:00, 37.34it/s]\n"
     ]
    },
    {
     "name": "stdout",
     "output_type": "stream",
     "text": [
      "Epoch 4/10, Training Loss: 2.2178, Training Accuracy: 35.93%, Validation Loss: 2.7130, Validation Accuracy: 27.33%\n"
     ]
    },
    {
     "name": "stderr",
     "output_type": "stream",
     "text": [
      "Epoch 5/10: 100%|████████████████████████████████████████████████████████████████████| 495/495 [00:42<00:00, 11.56it/s]\n",
      "Evaluating: 100%|████████████████████████████████████████████████████████████████████████| 4/4 [00:00<00:00, 37.35it/s]\n"
     ]
    },
    {
     "name": "stdout",
     "output_type": "stream",
     "text": [
      "Epoch 5/10, Training Loss: 2.0055, Training Accuracy: 41.14%, Validation Loss: 2.1969, Validation Accuracy: 38.44%\n"
     ]
    },
    {
     "name": "stderr",
     "output_type": "stream",
     "text": [
      "Epoch 6/10: 100%|████████████████████████████████████████████████████████████████████| 495/495 [00:42<00:00, 11.62it/s]\n",
      "Evaluating: 100%|████████████████████████████████████████████████████████████████████████| 4/4 [00:00<00:00, 38.44it/s]\n"
     ]
    },
    {
     "name": "stdout",
     "output_type": "stream",
     "text": [
      "Epoch 6/10, Training Loss: 1.8190, Training Accuracy: 46.22%, Validation Loss: 2.0023, Validation Accuracy: 43.11%\n"
     ]
    },
    {
     "name": "stderr",
     "output_type": "stream",
     "text": [
      "Epoch 7/10: 100%|████████████████████████████████████████████████████████████████████| 495/495 [00:42<00:00, 11.60it/s]\n",
      "Evaluating: 100%|████████████████████████████████████████████████████████████████████████| 4/4 [00:00<00:00, 40.58it/s]\n"
     ]
    },
    {
     "name": "stdout",
     "output_type": "stream",
     "text": [
      "Epoch 7/10, Training Loss: 1.6340, Training Accuracy: 50.83%, Validation Loss: 2.2508, Validation Accuracy: 37.11%\n"
     ]
    },
    {
     "name": "stderr",
     "output_type": "stream",
     "text": [
      "Epoch 8/10: 100%|████████████████████████████████████████████████████████████████████| 495/495 [00:42<00:00, 11.60it/s]\n",
      "Evaluating: 100%|████████████████████████████████████████████████████████████████████████| 4/4 [00:00<00:00, 38.52it/s]\n"
     ]
    },
    {
     "name": "stdout",
     "output_type": "stream",
     "text": [
      "Epoch 8/10, Training Loss: 1.4566, Training Accuracy: 55.63%, Validation Loss: 2.0097, Validation Accuracy: 45.11%\n"
     ]
    },
    {
     "name": "stderr",
     "output_type": "stream",
     "text": [
      "Epoch 9/10: 100%|████████████████████████████████████████████████████████████████████| 495/495 [00:42<00:00, 11.58it/s]\n",
      "Evaluating: 100%|████████████████████████████████████████████████████████████████████████| 4/4 [00:00<00:00, 39.64it/s]\n"
     ]
    },
    {
     "name": "stdout",
     "output_type": "stream",
     "text": [
      "Epoch 9/10, Training Loss: 1.2728, Training Accuracy: 60.79%, Validation Loss: 2.0148, Validation Accuracy: 43.33%\n"
     ]
    },
    {
     "name": "stderr",
     "output_type": "stream",
     "text": [
      "Epoch 10/10: 100%|███████████████████████████████████████████████████████████████████| 495/495 [00:43<00:00, 11.45it/s]\n",
      "Evaluating: 100%|████████████████████████████████████████████████████████████████████████| 4/4 [00:00<00:00, 37.81it/s]\n"
     ]
    },
    {
     "name": "stdout",
     "output_type": "stream",
     "text": [
      "Epoch 10/10, Training Loss: 1.0910, Training Accuracy: 65.84%, Validation Loss: 2.1524, Validation Accuracy: 42.89%\n"
     ]
    },
    {
     "data": {
      "image/png": "[encoded data removed]",
      "text/plain": [
       "<Figure size 1200x500 with 2 Axes>"
      ]
     },
     "metadata": {},
     "output_type": "display_data"
    }
   ],
   "source": [
    "criterion = nn.CrossEntropyLoss()\n",
    "optimizer = optim.Adam(model_simplecnn.parameters(), lr=0.001)\n",
    "epochs = 10\n",
    "\n",
    "training_acc = []\n",
    "val_acc = []\n",
    "training_loss = []\n",
    "val_loss = []\n",
    "\n",
    "for epoch in range(epochs):\n",
    "    model_simplecnn.train()\n",
    "    running_loss = 0.0\n",
    "    train_correct = 0\n",
    "    train_total = 0\n",
    "\n",
    "    for inputs, labels in tqdm(loader, desc=f\"Epoch {epoch + 1}/{epochs}\"):\n",
    "        inputs, labels = inputs.float().to(device), labels.float().to(device)\n",
    "        outputs = model_simplecnn(inputs)\n",
    "        loss = criterion(outputs, labels)\n",
    "        optimizer.zero_grad()\n",
    "        loss.backward()\n",
    "        optimizer.step()\n",
    "\n",
    "        running_loss += loss.item() * inputs.size(0)\n",
    "        labels = labels.argmax(dim=1)\n",
    "        _, predicted = torch.max(outputs, 1)\n",
    "        train_correct += (predicted == labels).sum().item()\n",
    "        train_total += labels.size(0)\n",
    "\n",
    "    training_acc.append(100 * train_correct / train_total)\n",
    "    training_loss.append(running_loss / len(loader.dataset))\n",
    "\n",
    "    model_simplecnn.eval()\n",
    "    correct = 0\n",
    "    total = 0\n",
    "    val_running_loss = 0.0\n",
    "\n",
    "    with torch.no_grad():\n",
    "        for inputs, labels in tqdm(vloader, desc=\"Evaluating\"):\n",
    "            inputs, labels = inputs.float().to(device), labels.float().to(device)\n",
    "            labels = labels.argmax(dim=1)\n",
    "            outputs = model_simplecnn(inputs)\n",
    "            loss = criterion(outputs, labels)\n",
    "            val_running_loss += loss.item() * inputs.size(0)\n",
    "            _, predicted = torch.max(outputs, 1)\n",
    "            total += labels.size(0)\n",
    "            correct += (predicted == labels).sum().item()\n",
    "\n",
    "    val_acc.append(100 * correct / total)\n",
    "    val_loss.append(val_running_loss / len(vloader.dataset))\n",
    "\n",
    "    print(f\"Epoch {epoch + 1}/{epochs}, \"\n",
    "          f\"Training Loss: {training_loss[-1]:.4f}, \"\n",
    "          f\"Training Accuracy: {training_acc[-1]:.2f}%, \"\n",
    "          f\"Validation Loss: {val_loss[-1]:.4f}, \"\n",
    "          f\"Validation Accuracy: {val_acc[-1]:.2f}%\")\n",
    "\n",
    "# Plot training and validation accuracy\n",
    "plt.figure(figsize=(12, 5))\n",
    "\n",
    "plt.subplot(1, 2, 1)\n",
    "plt.plot(training_acc, label='Training Accuracy')\n",
    "plt.plot(val_acc, label='Validation Accuracy')\n",
    "plt.xlabel('Epoch')\n",
    "plt.ylabel('Accuracy')\n",
    "plt.legend()\n",
    "plt.title('Training and Validation Accuracy')\n",
    "\n",
    "# Plot training and validation loss\n",
    "plt.subplot(1, 2, 2)\n",
    "plt.plot(training_loss, label='Training Loss')\n",
    "plt.plot(val_loss, label='Validation Loss')\n",
    "plt.xlabel('Epoch')\n",
    "plt.ylabel('Loss')\n",
    "plt.legend()\n",
    "plt.title('Training and Validation Loss')\n",
    "\n",
    "plt.tight_layout()\n",
    "plt.show()"
   ]
  },
  {
   "cell_type": "code",
   "execution_count": 17,
   "id": "99bfaac0-7bfe-4dcb-978f-fbb5de469921",
   "metadata": {},
   "outputs": [
    {
     "name": "stderr",
     "output_type": "stream",
     "text": [
      "Evaluating: 100%|████████████████████████████████████████████████████████████████████████| 4/4 [00:00<00:00, 10.55it/s]"
     ]
    },
    {
     "name": "stdout",
     "output_type": "stream",
     "text": [
      "test Accuracy: 42.0000%\n"
     ]
    },
    {
     "name": "stderr",
     "output_type": "stream",
     "text": [
      "\n"
     ]
    }
   ],
   "source": [
    "# self-made CNN test accuracy\n",
    "model_simplecnn.eval() \n",
    "correct = 0\n",
    "total = 0\n",
    "\n",
    "with torch.no_grad():\n",
    "    for inputs, labels in tqdm(tloader, desc=\"Evaluating\"):\n",
    "        inputs, labels = inputs.float().to(device), labels.float().to(device)\n",
    "        labels = labels.argmax(dim=1)\n",
    "        outputs = model_simplecnn(inputs)\n",
    "        _, predicted = torch.max(outputs, 1)\n",
    "        total += labels.size(0)      \n",
    "        correct += (predicted == labels).sum().item()\n",
    "\n",
    "accuracy = 100 * correct / total\n",
    "print(f\"test Accuracy: {accuracy:.4f}%\")"
   ]
  },
  {
   "cell_type": "markdown",
   "id": "af2133c8-2a13-425b-b7ac-f03d11fb0801",
   "metadata": {
    "jp-MarkdownHeadingCollapsed": true
   },
   "source": [
    "# GB naive model"
   ]
  },
  {
   "cell_type": "code",
   "execution_count": 22,
   "id": "0f6ca4f8-347d-4b6b-95db-e98f38f0d6c9",
   "metadata": {},
   "outputs": [
    {
     "name": "stderr",
     "output_type": "stream",
     "text": [
      "Epoch 1/10: 100%|████████████████████████████████████████████████████████████████████| 495/495 [00:43<00:00, 11.47it/s]\n",
      "Evaluating: 100%|████████████████████████████████████████████████████████████████████████| 4/4 [00:00<00:00, 36.39it/s]\n"
     ]
    },
    {
     "name": "stdout",
     "output_type": "stream",
     "text": [
      "Epoch 1/10, Training Loss: 3.5250, Training Accuracy: 13.67%, Validation Loss: 3.1517, Validation Accuracy: 18.00%\n"
     ]
    },
    {
     "name": "stderr",
     "output_type": "stream",
     "text": [
      "Epoch 2/10: 100%|████████████████████████████████████████████████████████████████████| 495/495 [00:42<00:00, 11.58it/s]\n",
      "Evaluating: 100%|████████████████████████████████████████████████████████████████████████| 4/4 [00:00<00:00, 39.99it/s]\n"
     ]
    },
    {
     "name": "stdout",
     "output_type": "stream",
     "text": [
      "Epoch 2/10, Training Loss: 2.7103, Training Accuracy: 24.73%, Validation Loss: 2.9625, Validation Accuracy: 21.11%\n"
     ]
    },
    {
     "name": "stderr",
     "output_type": "stream",
     "text": [
      "Epoch 3/10: 100%|████████████████████████████████████████████████████████████████████| 495/495 [00:42<00:00, 11.55it/s]\n",
      "Evaluating: 100%|████████████████████████████████████████████████████████████████████████| 4/4 [00:00<00:00, 38.61it/s]\n"
     ]
    },
    {
     "name": "stdout",
     "output_type": "stream",
     "text": [
      "Epoch 3/10, Training Loss: 2.3987, Training Accuracy: 31.76%, Validation Loss: 2.9028, Validation Accuracy: 21.56%\n"
     ]
    },
    {
     "name": "stderr",
     "output_type": "stream",
     "text": [
      "Epoch 4/10: 100%|████████████████████████████████████████████████████████████████████| 495/495 [00:42<00:00, 11.60it/s]\n",
      "Evaluating: 100%|████████████████████████████████████████████████████████████████████████| 4/4 [00:00<00:00, 38.88it/s]\n"
     ]
    },
    {
     "name": "stdout",
     "output_type": "stream",
     "text": [
      "Epoch 4/10, Training Loss: 2.1485, Training Accuracy: 37.77%, Validation Loss: 2.5604, Validation Accuracy: 28.89%\n"
     ]
    },
    {
     "name": "stderr",
     "output_type": "stream",
     "text": [
      "Epoch 5/10: 100%|████████████████████████████████████████████████████████████████████| 495/495 [00:42<00:00, 11.56it/s]\n",
      "Evaluating: 100%|████████████████████████████████████████████████████████████████████████| 4/4 [00:00<00:00, 37.39it/s]\n"
     ]
    },
    {
     "name": "stdout",
     "output_type": "stream",
     "text": [
      "Epoch 5/10, Training Loss: 1.9468, Training Accuracy: 42.89%, Validation Loss: 2.5081, Validation Accuracy: 29.33%\n"
     ]
    },
    {
     "name": "stderr",
     "output_type": "stream",
     "text": [
      "Epoch 6/10: 100%|████████████████████████████████████████████████████████████████████| 495/495 [00:43<00:00, 11.51it/s]\n",
      "Evaluating: 100%|████████████████████████████████████████████████████████████████████████| 4/4 [00:00<00:00, 38.37it/s]\n"
     ]
    },
    {
     "name": "stdout",
     "output_type": "stream",
     "text": [
      "Epoch 6/10, Training Loss: 1.7621, Training Accuracy: 47.51%, Validation Loss: 2.2807, Validation Accuracy: 34.22%\n"
     ]
    },
    {
     "name": "stderr",
     "output_type": "stream",
     "text": [
      "Epoch 7/10: 100%|████████████████████████████████████████████████████████████████████| 495/495 [00:42<00:00, 11.60it/s]\n",
      "Evaluating: 100%|████████████████████████████████████████████████████████████████████████| 4/4 [00:00<00:00, 39.03it/s]\n"
     ]
    },
    {
     "name": "stdout",
     "output_type": "stream",
     "text": [
      "Epoch 7/10, Training Loss: 1.5819, Training Accuracy: 52.38%, Validation Loss: 2.0548, Validation Accuracy: 40.22%\n"
     ]
    },
    {
     "name": "stderr",
     "output_type": "stream",
     "text": [
      "Epoch 8/10: 100%|████████████████████████████████████████████████████████████████████| 495/495 [00:42<00:00, 11.51it/s]\n",
      "Evaluating: 100%|████████████████████████████████████████████████████████████████████████| 4/4 [00:00<00:00, 39.35it/s]\n"
     ]
    },
    {
     "name": "stdout",
     "output_type": "stream",
     "text": [
      "Epoch 8/10, Training Loss: 1.4122, Training Accuracy: 56.68%, Validation Loss: 2.1482, Validation Accuracy: 40.00%\n"
     ]
    },
    {
     "name": "stderr",
     "output_type": "stream",
     "text": [
      "Epoch 9/10: 100%|████████████████████████████████████████████████████████████████████| 495/495 [00:43<00:00, 11.51it/s]\n",
      "Evaluating: 100%|████████████████████████████████████████████████████████████████████████| 4/4 [00:00<00:00, 38.78it/s]\n"
     ]
    },
    {
     "name": "stdout",
     "output_type": "stream",
     "text": [
      "Epoch 9/10, Training Loss: 1.2319, Training Accuracy: 61.99%, Validation Loss: 2.2188, Validation Accuracy: 39.33%\n"
     ]
    },
    {
     "name": "stderr",
     "output_type": "stream",
     "text": [
      "Epoch 10/10: 100%|███████████████████████████████████████████████████████████████████| 495/495 [00:42<00:00, 11.54it/s]\n",
      "Evaluating: 100%|████████████████████████████████████████████████████████████████████████| 4/4 [00:00<00:00, 37.22it/s]\n"
     ]
    },
    {
     "name": "stdout",
     "output_type": "stream",
     "text": [
      "Epoch 10/10, Training Loss: 1.0617, Training Accuracy: 66.54%, Validation Loss: 1.9916, Validation Accuracy: 42.89%\n"
     ]
    },
    {
     "data": {
      "image/png": "[encoded data removed]",
      "text/plain": [
       "<Figure size 1200x500 with 2 Axes>"
      ]
     },
     "metadata": {},
     "output_type": "display_data"
    }
   ],
   "source": [
    "criterion = nn.CrossEntropyLoss()\n",
    "optimizer = optim.Adam(model_simplecnn.parameters(), lr=0.001)\n",
    "epochs = 10\n",
    "\n",
    "training_acc = []\n",
    "val_acc = []\n",
    "training_loss = []\n",
    "val_loss = []\n",
    "\n",
    "for epoch in range(epochs):\n",
    "    model_simplecnn.train()\n",
    "    running_loss = 0.0\n",
    "    train_correct = 0\n",
    "    train_total = 0\n",
    "\n",
    "    for inputs, labels in tqdm(loader, desc=f\"Epoch {epoch + 1}/{epochs}\"):\n",
    "        inputs, labels = inputs.float().to(device), labels.float().to(device)\n",
    "        outputs = model_simplecnn(inputs)\n",
    "        loss = criterion(outputs, labels)\n",
    "        optimizer.zero_grad()\n",
    "        loss.backward()\n",
    "        optimizer.step()\n",
    "\n",
    "        running_loss += loss.item() * inputs.size(0)\n",
    "        labels = labels.argmax(dim=1)\n",
    "        _, predicted = torch.max(outputs, 1)\n",
    "        train_correct += (predicted == labels).sum().item()\n",
    "        train_total += labels.size(0)\n",
    "\n",
    "    training_acc.append(100 * train_correct / train_total)\n",
    "    training_loss.append(running_loss / len(loader.dataset))\n",
    "\n",
    "    model_simplecnn.eval()\n",
    "    correct = 0\n",
    "    total = 0\n",
    "    val_running_loss = 0.0\n",
    "\n",
    "    with torch.no_grad():\n",
    "        for inputs, labels in tqdm(vloader, desc=\"Evaluating\"):\n",
    "            inputs, labels = inputs.float().to(device), labels.float().to(device)\n",
    "            labels = labels.argmax(dim=1)\n",
    "            outputs = model_simplecnn(inputs)\n",
    "            loss = criterion(outputs, labels)\n",
    "            val_running_loss += loss.item() * inputs.size(0)\n",
    "            _, predicted = torch.max(outputs, 1)\n",
    "            total += labels.size(0)\n",
    "            correct += (predicted == labels).sum().item()\n",
    "\n",
    "    val_acc.append(100 * correct / total)\n",
    "    val_loss.append(val_running_loss / len(vloader.dataset))\n",
    "\n",
    "    print(f\"Epoch {epoch + 1}/{epochs}, \"\n",
    "          f\"Training Loss: {training_loss[-1]:.4f}, \"\n",
    "          f\"Training Accuracy: {training_acc[-1]:.2f}%, \"\n",
    "          f\"Validation Loss: {val_loss[-1]:.4f}, \"\n",
    "          f\"Validation Accuracy: {val_acc[-1]:.2f}%\")\n",
    "\n",
    "# Plot training and validation accuracy\n",
    "plt.figure(figsize=(12, 5))\n",
    "\n",
    "plt.subplot(1, 2, 1)\n",
    "plt.plot(training_acc, label='Training Accuracy')\n",
    "plt.plot(val_acc, label='Validation Accuracy')\n",
    "plt.xlabel('Epoch')\n",
    "plt.ylabel('Accuracy')\n",
    "plt.legend()\n",
    "plt.title('Training and Validation Accuracy')\n",
    "\n",
    "# Plot training and validation loss\n",
    "plt.subplot(1, 2, 2)\n",
    "plt.plot(training_loss, label='Training Loss')\n",
    "plt.plot(val_loss, label='Validation Loss')\n",
    "plt.xlabel('Epoch')\n",
    "plt.ylabel('Loss')\n",
    "plt.legend()\n",
    "plt.title('Training and Validation Loss')\n",
    "\n",
    "plt.tight_layout()\n",
    "plt.show()"
   ]
  },
  {
   "cell_type": "code",
   "execution_count": 23,
   "id": "19529e16-5ab6-43bd-bb5f-b9fdb9d3a1e7",
   "metadata": {},
   "outputs": [
    {
     "name": "stderr",
     "output_type": "stream",
     "text": [
      "Evaluating: 100%|████████████████████████████████████████████████████████████████████████| 4/4 [00:00<00:00, 11.60it/s]"
     ]
    },
    {
     "name": "stdout",
     "output_type": "stream",
     "text": [
      "test Accuracy: 45.1111%\n"
     ]
    },
    {
     "name": "stderr",
     "output_type": "stream",
     "text": [
      "\n"
     ]
    }
   ],
   "source": [
    "# self-made CNN test accuracy\n",
    "model_simplecnn.eval() \n",
    "correct = 0\n",
    "total = 0\n",
    "\n",
    "with torch.no_grad():\n",
    "    for inputs, labels in tqdm(tloader, desc=\"Evaluating\"):\n",
    "        inputs, labels = inputs.float().to(device), labels.float().to(device)\n",
    "        labels = labels.argmax(dim=1)\n",
    "        outputs = model_simplecnn(inputs)\n",
    "        _, predicted = torch.max(outputs, 1)\n",
    "        total += labels.size(0)      \n",
    "        correct += (predicted == labels).sum().item()\n",
    "\n",
    "accuracy = 100 * correct / total\n",
    "print(f\"test Accuracy: {accuracy:.4f}%\")"
   ]
  },
  {
   "cell_type": "markdown",
   "id": "70ea3f32-14ac-4cba-9a0b-7542b7122d2b",
   "metadata": {
    "jp-MarkdownHeadingCollapsed": true
   },
   "source": [
    "# RB naive model"
   ]
  },
  {
   "cell_type": "code",
   "execution_count": 35,
   "id": "6cdfe629-480a-4677-9231-4d1c2fc6586b",
   "metadata": {},
   "outputs": [
    {
     "name": "stderr",
     "output_type": "stream",
     "text": [
      "Epoch 1/10: 100%|████████████████████████████████████████████████████████████████████| 495/495 [00:43<00:00, 11.39it/s]\n",
      "Evaluating: 100%|████████████████████████████████████████████████████████████████████████| 4/4 [00:00<00:00, 37.91it/s]\n"
     ]
    },
    {
     "name": "stdout",
     "output_type": "stream",
     "text": [
      "Epoch 1/10, Training Loss: 3.5190, Training Accuracy: 13.62%, Validation Loss: 3.0318, Validation Accuracy: 17.33%\n"
     ]
    },
    {
     "name": "stderr",
     "output_type": "stream",
     "text": [
      "Epoch 2/10: 100%|████████████████████████████████████████████████████████████████████| 495/495 [00:42<00:00, 11.59it/s]\n",
      "Evaluating: 100%|████████████████████████████████████████████████████████████████████████| 4/4 [00:00<00:00, 38.94it/s]\n"
     ]
    },
    {
     "name": "stdout",
     "output_type": "stream",
     "text": [
      "Epoch 2/10, Training Loss: 2.7219, Training Accuracy: 24.46%, Validation Loss: 2.9076, Validation Accuracy: 19.33%\n"
     ]
    },
    {
     "name": "stderr",
     "output_type": "stream",
     "text": [
      "Epoch 3/10: 100%|████████████████████████████████████████████████████████████████████| 495/495 [00:42<00:00, 11.55it/s]\n",
      "Evaluating: 100%|████████████████████████████████████████████████████████████████████████| 4/4 [00:00<00:00, 38.27it/s]\n"
     ]
    },
    {
     "name": "stdout",
     "output_type": "stream",
     "text": [
      "Epoch 3/10, Training Loss: 2.4055, Training Accuracy: 31.77%, Validation Loss: 2.5944, Validation Accuracy: 29.56%\n"
     ]
    },
    {
     "name": "stderr",
     "output_type": "stream",
     "text": [
      "Epoch 4/10: 100%|████████████████████████████████████████████████████████████████████| 495/495 [00:42<00:00, 11.58it/s]\n",
      "Evaluating: 100%|████████████████████████████████████████████████████████████████████████| 4/4 [00:00<00:00, 39.02it/s]\n"
     ]
    },
    {
     "name": "stdout",
     "output_type": "stream",
     "text": [
      "Epoch 4/10, Training Loss: 2.1692, Training Accuracy: 37.33%, Validation Loss: 2.3882, Validation Accuracy: 31.78%\n"
     ]
    },
    {
     "name": "stderr",
     "output_type": "stream",
     "text": [
      "Epoch 5/10: 100%|████████████████████████████████████████████████████████████████████| 495/495 [00:42<00:00, 11.59it/s]\n",
      "Evaluating: 100%|████████████████████████████████████████████████████████████████████████| 4/4 [00:00<00:00, 41.02it/s]\n"
     ]
    },
    {
     "name": "stdout",
     "output_type": "stream",
     "text": [
      "Epoch 5/10, Training Loss: 1.9675, Training Accuracy: 42.17%, Validation Loss: 2.3158, Validation Accuracy: 34.00%\n"
     ]
    },
    {
     "name": "stderr",
     "output_type": "stream",
     "text": [
      "Epoch 6/10: 100%|████████████████████████████████████████████████████████████████████| 495/495 [00:42<00:00, 11.55it/s]\n",
      "Evaluating: 100%|████████████████████████████████████████████████████████████████████████| 4/4 [00:00<00:00, 36.20it/s]\n"
     ]
    },
    {
     "name": "stdout",
     "output_type": "stream",
     "text": [
      "Epoch 6/10, Training Loss: 1.7592, Training Accuracy: 47.63%, Validation Loss: 2.2712, Validation Accuracy: 35.11%\n"
     ]
    },
    {
     "name": "stderr",
     "output_type": "stream",
     "text": [
      "Epoch 7/10: 100%|████████████████████████████████████████████████████████████████████| 495/495 [00:43<00:00, 11.45it/s]\n",
      "Evaluating: 100%|████████████████████████████████████████████████████████████████████████| 4/4 [00:00<00:00, 38.64it/s]\n"
     ]
    },
    {
     "name": "stdout",
     "output_type": "stream",
     "text": [
      "Epoch 7/10, Training Loss: 1.5720, Training Accuracy: 52.50%, Validation Loss: 2.1775, Validation Accuracy: 38.89%\n"
     ]
    },
    {
     "name": "stderr",
     "output_type": "stream",
     "text": [
      "Epoch 8/10: 100%|████████████████████████████████████████████████████████████████████| 495/495 [00:43<00:00, 11.48it/s]\n",
      "Evaluating: 100%|████████████████████████████████████████████████████████████████████████| 4/4 [00:00<00:00, 39.02it/s]\n"
     ]
    },
    {
     "name": "stdout",
     "output_type": "stream",
     "text": [
      "Epoch 8/10, Training Loss: 1.3761, Training Accuracy: 57.97%, Validation Loss: 2.0347, Validation Accuracy: 42.00%\n"
     ]
    },
    {
     "name": "stderr",
     "output_type": "stream",
     "text": [
      "Epoch 9/10: 100%|████████████████████████████████████████████████████████████████████| 495/495 [00:42<00:00, 11.53it/s]\n",
      "Evaluating: 100%|████████████████████████████████████████████████████████████████████████| 4/4 [00:00<00:00, 37.78it/s]\n"
     ]
    },
    {
     "name": "stdout",
     "output_type": "stream",
     "text": [
      "Epoch 9/10, Training Loss: 1.1941, Training Accuracy: 62.88%, Validation Loss: 2.3356, Validation Accuracy: 38.67%\n"
     ]
    },
    {
     "name": "stderr",
     "output_type": "stream",
     "text": [
      "Epoch 10/10: 100%|███████████████████████████████████████████████████████████████████| 495/495 [00:42<00:00, 11.59it/s]\n",
      "Evaluating: 100%|████████████████████████████████████████████████████████████████████████| 4/4 [00:00<00:00, 37.21it/s]\n"
     ]
    },
    {
     "name": "stdout",
     "output_type": "stream",
     "text": [
      "Epoch 10/10, Training Loss: 1.0060, Training Accuracy: 68.53%, Validation Loss: 2.1883, Validation Accuracy: 42.44%\n"
     ]
    },
    {
     "data": {
      "image/png": "[encoded data removed]",
      "text/plain": [
       "<Figure size 1200x500 with 2 Axes>"
      ]
     },
     "metadata": {},
     "output_type": "display_data"
    }
   ],
   "source": [
    "criterion = nn.CrossEntropyLoss()\n",
    "optimizer = optim.Adam(model_simplecnn.parameters(), lr=0.001)\n",
    "epochs = 10\n",
    "\n",
    "training_acc = []\n",
    "val_acc = []\n",
    "training_loss = []\n",
    "val_loss = []\n",
    "\n",
    "for epoch in range(epochs):\n",
    "    model_simplecnn.train()\n",
    "    running_loss = 0.0\n",
    "    train_correct = 0\n",
    "    train_total = 0\n",
    "\n",
    "    for inputs, labels in tqdm(loader, desc=f\"Epoch {epoch + 1}/{epochs}\"):\n",
    "        inputs, labels = inputs.float().to(device), labels.float().to(device)\n",
    "        outputs = model_simplecnn(inputs)\n",
    "        loss = criterion(outputs, labels)\n",
    "        optimizer.zero_grad()\n",
    "        loss.backward()\n",
    "        optimizer.step()\n",
    "\n",
    "        running_loss += loss.item() * inputs.size(0)\n",
    "        labels = labels.argmax(dim=1)\n",
    "        _, predicted = torch.max(outputs, 1)\n",
    "        train_correct += (predicted == labels).sum().item()\n",
    "        train_total += labels.size(0)\n",
    "\n",
    "    training_acc.append(100 * train_correct / train_total)\n",
    "    training_loss.append(running_loss / len(loader.dataset))\n",
    "\n",
    "    model_simplecnn.eval()\n",
    "    correct = 0\n",
    "    total = 0\n",
    "    val_running_loss = 0.0\n",
    "\n",
    "    with torch.no_grad():\n",
    "        for inputs, labels in tqdm(vloader, desc=\"Evaluating\"):\n",
    "            inputs, labels = inputs.float().to(device), labels.float().to(device)\n",
    "            labels = labels.argmax(dim=1)\n",
    "            outputs = model_simplecnn(inputs)\n",
    "            loss = criterion(outputs, labels)\n",
    "            val_running_loss += loss.item() * inputs.size(0)\n",
    "            _, predicted = torch.max(outputs, 1)\n",
    "            total += labels.size(0)\n",
    "            correct += (predicted == labels).sum().item()\n",
    "\n",
    "    val_acc.append(100 * correct / total)\n",
    "    val_loss.append(val_running_loss / len(vloader.dataset))\n",
    "\n",
    "    print(f\"Epoch {epoch + 1}/{epochs}, \"\n",
    "          f\"Training Loss: {training_loss[-1]:.4f}, \"\n",
    "          f\"Training Accuracy: {training_acc[-1]:.2f}%, \"\n",
    "          f\"Validation Loss: {val_loss[-1]:.4f}, \"\n",
    "          f\"Validation Accuracy: {val_acc[-1]:.2f}%\")\n",
    "\n",
    "# Plot training and validation accuracy\n",
    "plt.figure(figsize=(12, 5))\n",
    "\n",
    "plt.subplot(1, 2, 1)\n",
    "plt.plot(training_acc, label='Training Accuracy')\n",
    "plt.plot(val_acc, label='Validation Accuracy')\n",
    "plt.xlabel('Epoch')\n",
    "plt.ylabel('Accuracy')\n",
    "plt.legend()\n",
    "plt.title('Training and Validation Accuracy')\n",
    "\n",
    "# Plot training and validation loss\n",
    "plt.subplot(1, 2, 2)\n",
    "plt.plot(training_loss, label='Training Loss')\n",
    "plt.plot(val_loss, label='Validation Loss')\n",
    "plt.xlabel('Epoch')\n",
    "plt.ylabel('Loss')\n",
    "plt.legend()\n",
    "plt.title('Training and Validation Loss')\n",
    "\n",
    "plt.tight_layout()\n",
    "plt.show()"
   ]
  },
  {
   "cell_type": "code",
   "execution_count": 36,
   "id": "de9ba328-8223-4040-91b0-9d3927867f09",
   "metadata": {},
   "outputs": [
    {
     "name": "stderr",
     "output_type": "stream",
     "text": [
      "Evaluating: 100%|████████████████████████████████████████████████████████████████████████| 4/4 [00:00<00:00,  8.44it/s]"
     ]
    },
    {
     "name": "stdout",
     "output_type": "stream",
     "text": [
      "test Accuracy: 42.0000%\n"
     ]
    },
    {
     "name": "stderr",
     "output_type": "stream",
     "text": [
      "\n"
     ]
    }
   ],
   "source": [
    "# self-made CNN test accuracy\n",
    "model_simplecnn.eval() \n",
    "correct = 0\n",
    "total = 0\n",
    "\n",
    "with torch.no_grad():\n",
    "    for inputs, labels in tqdm(tloader, desc=\"Evaluating\"):\n",
    "        inputs, labels = inputs.float().to(device), labels.float().to(device)\n",
    "        labels = labels.argmax(dim=1)\n",
    "        outputs = model_simplecnn(inputs)\n",
    "        _, predicted = torch.max(outputs, 1)\n",
    "        total += labels.size(0)      \n",
    "        correct += (predicted == labels).sum().item()\n",
    "\n",
    "accuracy = 100 * correct / total\n",
    "print(f\"test Accuracy: {accuracy:.4f}%\")"
   ]
  },
  {
   "cell_type": "markdown",
   "id": "4a4b4802-a038-47eb-8c55-0bd516425363",
   "metadata": {
    "jp-MarkdownHeadingCollapsed": true
   },
   "source": [
    "# R naive model"
   ]
  },
  {
   "cell_type": "code",
   "execution_count": 40,
   "id": "b8180a65-b225-431a-a743-a6cde67c0edd",
   "metadata": {},
   "outputs": [
    {
     "name": "stderr",
     "output_type": "stream",
     "text": [
      "Epoch 1/10: 100%|████████████████████████████████████████████████████████████████████| 495/495 [00:41<00:00, 11.93it/s]\n",
      "Evaluating: 100%|████████████████████████████████████████████████████████████████████████| 4/4 [00:00<00:00, 41.19it/s]\n"
     ]
    },
    {
     "name": "stdout",
     "output_type": "stream",
     "text": [
      "Epoch 1/10, Training Loss: 3.5728, Training Accuracy: 11.25%, Validation Loss: 3.0749, Validation Accuracy: 16.22%\n"
     ]
    },
    {
     "name": "stderr",
     "output_type": "stream",
     "text": [
      "Epoch 2/10: 100%|████████████████████████████████████████████████████████████████████| 495/495 [00:41<00:00, 12.05it/s]\n",
      "Evaluating: 100%|████████████████████████████████████████████████████████████████████████| 4/4 [00:00<00:00, 43.15it/s]\n"
     ]
    },
    {
     "name": "stdout",
     "output_type": "stream",
     "text": [
      "Epoch 2/10, Training Loss: 2.9089, Training Accuracy: 20.10%, Validation Loss: 3.1918, Validation Accuracy: 15.11%\n"
     ]
    },
    {
     "name": "stderr",
     "output_type": "stream",
     "text": [
      "Epoch 3/10: 100%|████████████████████████████████████████████████████████████████████| 495/495 [00:41<00:00, 11.98it/s]\n",
      "Evaluating: 100%|████████████████████████████████████████████████████████████████████████| 4/4 [00:00<00:00, 42.32it/s]\n"
     ]
    },
    {
     "name": "stdout",
     "output_type": "stream",
     "text": [
      "Epoch 3/10, Training Loss: 2.6344, Training Accuracy: 25.92%, Validation Loss: 2.8386, Validation Accuracy: 20.22%\n"
     ]
    },
    {
     "name": "stderr",
     "output_type": "stream",
     "text": [
      "Epoch 4/10: 100%|████████████████████████████████████████████████████████████████████| 495/495 [00:41<00:00, 12.07it/s]\n",
      "Evaluating: 100%|████████████████████████████████████████████████████████████████████████| 4/4 [00:00<00:00, 43.42it/s]\n"
     ]
    },
    {
     "name": "stdout",
     "output_type": "stream",
     "text": [
      "Epoch 4/10, Training Loss: 2.4116, Training Accuracy: 30.93%, Validation Loss: 2.6540, Validation Accuracy: 24.00%\n"
     ]
    },
    {
     "name": "stderr",
     "output_type": "stream",
     "text": [
      "Epoch 5/10: 100%|████████████████████████████████████████████████████████████████████| 495/495 [00:40<00:00, 12.12it/s]\n",
      "Evaluating: 100%|████████████████████████████████████████████████████████████████████████| 4/4 [00:00<00:00, 43.71it/s]\n"
     ]
    },
    {
     "name": "stdout",
     "output_type": "stream",
     "text": [
      "Epoch 5/10, Training Loss: 2.2072, Training Accuracy: 35.78%, Validation Loss: 2.3012, Validation Accuracy: 34.44%\n"
     ]
    },
    {
     "name": "stderr",
     "output_type": "stream",
     "text": [
      "Epoch 6/10: 100%|████████████████████████████████████████████████████████████████████| 495/495 [00:41<00:00, 12.07it/s]\n",
      "Evaluating: 100%|████████████████████████████████████████████████████████████████████████| 4/4 [00:00<00:00, 42.05it/s]\n"
     ]
    },
    {
     "name": "stdout",
     "output_type": "stream",
     "text": [
      "Epoch 6/10, Training Loss: 2.0329, Training Accuracy: 40.13%, Validation Loss: 2.5244, Validation Accuracy: 31.56%\n"
     ]
    },
    {
     "name": "stderr",
     "output_type": "stream",
     "text": [
      "Epoch 7/10: 100%|████████████████████████████████████████████████████████████████████| 495/495 [00:41<00:00, 11.92it/s]\n",
      "Evaluating: 100%|████████████████████████████████████████████████████████████████████████| 4/4 [00:00<00:00, 44.69it/s]\n"
     ]
    },
    {
     "name": "stdout",
     "output_type": "stream",
     "text": [
      "Epoch 7/10, Training Loss: 1.8705, Training Accuracy: 43.97%, Validation Loss: 2.7764, Validation Accuracy: 27.33%\n"
     ]
    },
    {
     "name": "stderr",
     "output_type": "stream",
     "text": [
      "Epoch 8/10: 100%|████████████████████████████████████████████████████████████████████| 495/495 [00:41<00:00, 12.03it/s]\n",
      "Evaluating: 100%|████████████████████████████████████████████████████████████████████████| 4/4 [00:00<00:00, 40.80it/s]\n"
     ]
    },
    {
     "name": "stdout",
     "output_type": "stream",
     "text": [
      "Epoch 8/10, Training Loss: 1.7131, Training Accuracy: 48.14%, Validation Loss: 2.4313, Validation Accuracy: 33.11%\n"
     ]
    },
    {
     "name": "stderr",
     "output_type": "stream",
     "text": [
      "Epoch 9/10: 100%|████████████████████████████████████████████████████████████████████| 495/495 [00:41<00:00, 11.93it/s]\n",
      "Evaluating: 100%|████████████████████████████████████████████████████████████████████████| 4/4 [00:00<00:00, 44.25it/s]\n"
     ]
    },
    {
     "name": "stdout",
     "output_type": "stream",
     "text": [
      "Epoch 9/10, Training Loss: 1.5543, Training Accuracy: 52.43%, Validation Loss: 2.2373, Validation Accuracy: 38.00%\n"
     ]
    },
    {
     "name": "stderr",
     "output_type": "stream",
     "text": [
      "Epoch 10/10: 100%|███████████████████████████████████████████████████████████████████| 495/495 [00:41<00:00, 11.92it/s]\n",
      "Evaluating: 100%|████████████████████████████████████████████████████████████████████████| 4/4 [00:00<00:00, 44.38it/s]\n"
     ]
    },
    {
     "name": "stdout",
     "output_type": "stream",
     "text": [
      "Epoch 10/10, Training Loss: 1.4019, Training Accuracy: 56.22%, Validation Loss: 2.2442, Validation Accuracy: 36.67%\n"
     ]
    },
    {
     "data": {
      "image/png": "[encoded data removed]",
      "text/plain": [
       "<Figure size 1200x500 with 2 Axes>"
      ]
     },
     "metadata": {},
     "output_type": "display_data"
    }
   ],
   "source": [
    "criterion = nn.CrossEntropyLoss()\n",
    "optimizer = optim.Adam(model_simplecnn.parameters(), lr=0.001)\n",
    "epochs = 10\n",
    "\n",
    "training_acc = []\n",
    "val_acc = []\n",
    "training_loss = []\n",
    "val_loss = []\n",
    "\n",
    "for epoch in range(epochs):\n",
    "    model_simplecnn.train()\n",
    "    running_loss = 0.0\n",
    "    train_correct = 0\n",
    "    train_total = 0\n",
    "\n",
    "    for inputs, labels in tqdm(loader, desc=f\"Epoch {epoch + 1}/{epochs}\"):\n",
    "        inputs, labels = inputs.float().to(device), labels.float().to(device)\n",
    "        outputs = model_simplecnn(inputs)\n",
    "        loss = criterion(outputs, labels)\n",
    "        optimizer.zero_grad()\n",
    "        loss.backward()\n",
    "        optimizer.step()\n",
    "\n",
    "        running_loss += loss.item() * inputs.size(0)\n",
    "        labels = labels.argmax(dim=1)\n",
    "        _, predicted = torch.max(outputs, 1)\n",
    "        train_correct += (predicted == labels).sum().item()\n",
    "        train_total += labels.size(0)\n",
    "\n",
    "    training_acc.append(100 * train_correct / train_total)\n",
    "    training_loss.append(running_loss / len(loader.dataset))\n",
    "\n",
    "    model_simplecnn.eval()\n",
    "    correct = 0\n",
    "    total = 0\n",
    "    val_running_loss = 0.0\n",
    "\n",
    "    with torch.no_grad():\n",
    "        for inputs, labels in tqdm(vloader, desc=\"Evaluating\"):\n",
    "            inputs, labels = inputs.float().to(device), labels.float().to(device)\n",
    "            labels = labels.argmax(dim=1)\n",
    "            outputs = model_simplecnn(inputs)\n",
    "            loss = criterion(outputs, labels)\n",
    "            val_running_loss += loss.item() * inputs.size(0)\n",
    "            _, predicted = torch.max(outputs, 1)\n",
    "            total += labels.size(0)\n",
    "            correct += (predicted == labels).sum().item()\n",
    "\n",
    "    val_acc.append(100 * correct / total)\n",
    "    val_loss.append(val_running_loss / len(vloader.dataset))\n",
    "\n",
    "    print(f\"Epoch {epoch + 1}/{epochs}, \"\n",
    "          f\"Training Loss: {training_loss[-1]:.4f}, \"\n",
    "          f\"Training Accuracy: {training_acc[-1]:.2f}%, \"\n",
    "          f\"Validation Loss: {val_loss[-1]:.4f}, \"\n",
    "          f\"Validation Accuracy: {val_acc[-1]:.2f}%\")\n",
    "\n",
    "# Plot training and validation accuracy\n",
    "plt.figure(figsize=(12, 5))\n",
    "\n",
    "plt.subplot(1, 2, 1)\n",
    "plt.plot(training_acc, label='Training Accuracy')\n",
    "plt.plot(val_acc, label='Validation Accuracy')\n",
    "plt.xlabel('Epoch')\n",
    "plt.ylabel('Accuracy')\n",
    "plt.legend()\n",
    "plt.title('Training and Validation Accuracy')\n",
    "\n",
    "# Plot training and validation loss\n",
    "plt.subplot(1, 2, 2)\n",
    "plt.plot(training_loss, label='Training Loss')\n",
    "plt.plot(val_loss, label='Validation Loss')\n",
    "plt.xlabel('Epoch')\n",
    "plt.ylabel('Loss')\n",
    "plt.legend()\n",
    "plt.title('Training and Validation Loss')\n",
    "\n",
    "plt.tight_layout()\n",
    "plt.show()"
   ]
  },
  {
   "cell_type": "code",
   "execution_count": 41,
   "id": "d0dd6ff7-338e-4e20-92ab-d55b871e71df",
   "metadata": {},
   "outputs": [
    {
     "name": "stderr",
     "output_type": "stream",
     "text": [
      "Evaluating: 100%|████████████████████████████████████████████████████████████████████████| 4/4 [00:00<00:00, 11.83it/s]"
     ]
    },
    {
     "name": "stdout",
     "output_type": "stream",
     "text": [
      "test Accuracy: 39.3333%\n"
     ]
    },
    {
     "name": "stderr",
     "output_type": "stream",
     "text": [
      "\n"
     ]
    }
   ],
   "source": [
    "# self-made CNN test accuracy\n",
    "model_simplecnn.eval() \n",
    "correct = 0\n",
    "total = 0\n",
    "\n",
    "with torch.no_grad():\n",
    "    for inputs, labels in tqdm(tloader, desc=\"Evaluating\"):\n",
    "        inputs, labels = inputs.float().to(device), labels.float().to(device)\n",
    "        labels = labels.argmax(dim=1)\n",
    "        outputs = model_simplecnn(inputs)\n",
    "        _, predicted = torch.max(outputs, 1)\n",
    "        total += labels.size(0)      \n",
    "        correct += (predicted == labels).sum().item()\n",
    "\n",
    "accuracy = 100 * correct / total\n",
    "print(f\"test Accuracy: {accuracy:.4f}%\")"
   ]
  },
  {
   "cell_type": "markdown",
   "id": "c5213c34-5db5-4996-b09d-c8d28cd7856b",
   "metadata": {
    "jp-MarkdownHeadingCollapsed": true
   },
   "source": [
    "# G naive model"
   ]
  },
  {
   "cell_type": "code",
   "execution_count": 45,
   "id": "fa63ba4c-a44a-4779-9279-440b7801b185",
   "metadata": {},
   "outputs": [
    {
     "name": "stderr",
     "output_type": "stream",
     "text": [
      "Epoch 1/10: 100%|████████████████████████████████████████████████████████████████████| 495/495 [00:41<00:00, 11.99it/s]\n",
      "Evaluating: 100%|████████████████████████████████████████████████████████████████████████| 4/4 [00:00<00:00, 42.50it/s]\n"
     ]
    },
    {
     "name": "stdout",
     "output_type": "stream",
     "text": [
      "Epoch 1/10, Training Loss: 3.6186, Training Accuracy: 11.94%, Validation Loss: 3.0399, Validation Accuracy: 16.89%\n"
     ]
    },
    {
     "name": "stderr",
     "output_type": "stream",
     "text": [
      "Epoch 2/10: 100%|████████████████████████████████████████████████████████████████████| 495/495 [00:40<00:00, 12.09it/s]\n",
      "Evaluating: 100%|████████████████████████████████████████████████████████████████████████| 4/4 [00:00<00:00, 43.71it/s]\n"
     ]
    },
    {
     "name": "stdout",
     "output_type": "stream",
     "text": [
      "Epoch 2/10, Training Loss: 2.8647, Training Accuracy: 21.16%, Validation Loss: 2.8351, Validation Accuracy: 20.00%\n"
     ]
    },
    {
     "name": "stderr",
     "output_type": "stream",
     "text": [
      "Epoch 3/10: 100%|████████████████████████████████████████████████████████████████████| 495/495 [00:40<00:00, 12.09it/s]\n",
      "Evaluating: 100%|████████████████████████████████████████████████████████████████████████| 4/4 [00:00<00:00, 41.02it/s]\n"
     ]
    },
    {
     "name": "stdout",
     "output_type": "stream",
     "text": [
      "Epoch 3/10, Training Loss: 2.5360, Training Accuracy: 28.72%, Validation Loss: 2.9891, Validation Accuracy: 23.56%\n"
     ]
    },
    {
     "name": "stderr",
     "output_type": "stream",
     "text": [
      "Epoch 4/10: 100%|████████████████████████████████████████████████████████████████████| 495/495 [00:40<00:00, 12.10it/s]\n",
      "Evaluating: 100%|████████████████████████████████████████████████████████████████████████| 4/4 [00:00<00:00, 41.98it/s]\n"
     ]
    },
    {
     "name": "stdout",
     "output_type": "stream",
     "text": [
      "Epoch 4/10, Training Loss: 2.3006, Training Accuracy: 34.06%, Validation Loss: 2.6758, Validation Accuracy: 26.67%\n"
     ]
    },
    {
     "name": "stderr",
     "output_type": "stream",
     "text": [
      "Epoch 5/10: 100%|████████████████████████████████████████████████████████████████████| 495/495 [00:41<00:00, 12.01it/s]\n",
      "Evaluating: 100%|████████████████████████████████████████████████████████████████████████| 4/4 [00:00<00:00, 41.65it/s]\n"
     ]
    },
    {
     "name": "stdout",
     "output_type": "stream",
     "text": [
      "Epoch 5/10, Training Loss: 2.0841, Training Accuracy: 39.18%, Validation Loss: 2.6273, Validation Accuracy: 28.00%\n"
     ]
    },
    {
     "name": "stderr",
     "output_type": "stream",
     "text": [
      "Epoch 6/10: 100%|████████████████████████████████████████████████████████████████████| 495/495 [00:41<00:00, 12.03it/s]\n",
      "Evaluating: 100%|████████████████████████████████████████████████████████████████████████| 4/4 [00:00<00:00, 44.19it/s]\n"
     ]
    },
    {
     "name": "stdout",
     "output_type": "stream",
     "text": [
      "Epoch 6/10, Training Loss: 1.8935, Training Accuracy: 43.92%, Validation Loss: 2.4059, Validation Accuracy: 33.56%\n"
     ]
    },
    {
     "name": "stderr",
     "output_type": "stream",
     "text": [
      "Epoch 7/10: 100%|████████████████████████████████████████████████████████████████████| 495/495 [00:40<00:00, 12.16it/s]\n",
      "Evaluating: 100%|████████████████████████████████████████████████████████████████████████| 4/4 [00:00<00:00, 42.50it/s]\n"
     ]
    },
    {
     "name": "stdout",
     "output_type": "stream",
     "text": [
      "Epoch 7/10, Training Loss: 1.7090, Training Accuracy: 48.74%, Validation Loss: 2.4878, Validation Accuracy: 32.89%\n"
     ]
    },
    {
     "name": "stderr",
     "output_type": "stream",
     "text": [
      "Epoch 8/10: 100%|████████████████████████████████████████████████████████████████████| 495/495 [00:40<00:00, 12.13it/s]\n",
      "Evaluating: 100%|████████████████████████████████████████████████████████████████████████| 4/4 [00:00<00:00, 44.19it/s]\n"
     ]
    },
    {
     "name": "stdout",
     "output_type": "stream",
     "text": [
      "Epoch 8/10, Training Loss: 1.5184, Training Accuracy: 53.72%, Validation Loss: 2.1890, Validation Accuracy: 36.89%\n"
     ]
    },
    {
     "name": "stderr",
     "output_type": "stream",
     "text": [
      "Epoch 9/10: 100%|████████████████████████████████████████████████████████████████████| 495/495 [00:40<00:00, 12.11it/s]\n",
      "Evaluating: 100%|████████████████████████████████████████████████████████████████████████| 4/4 [00:00<00:00, 42.91it/s]\n"
     ]
    },
    {
     "name": "stdout",
     "output_type": "stream",
     "text": [
      "Epoch 9/10, Training Loss: 1.3279, Training Accuracy: 58.86%, Validation Loss: 2.2500, Validation Accuracy: 36.89%\n"
     ]
    },
    {
     "name": "stderr",
     "output_type": "stream",
     "text": [
      "Epoch 10/10: 100%|███████████████████████████████████████████████████████████████████| 495/495 [00:41<00:00, 12.06it/s]\n",
      "Evaluating: 100%|████████████████████████████████████████████████████████████████████████| 4/4 [00:00<00:00, 44.69it/s]\n"
     ]
    },
    {
     "name": "stdout",
     "output_type": "stream",
     "text": [
      "Epoch 10/10, Training Loss: 1.1273, Training Accuracy: 64.77%, Validation Loss: 2.5148, Validation Accuracy: 37.78%\n"
     ]
    },
    {
     "data": {
      "image/png": "[encoded data removed]",
      "text/plain": [
       "<Figure size 1200x500 with 2 Axes>"
      ]
     },
     "metadata": {},
     "output_type": "display_data"
    }
   ],
   "source": [
    "criterion = nn.CrossEntropyLoss()\n",
    "optimizer = optim.Adam(model_simplecnn.parameters(), lr=0.001)\n",
    "epochs = 10\n",
    "\n",
    "training_acc = []\n",
    "val_acc = []\n",
    "training_loss = []\n",
    "val_loss = []\n",
    "\n",
    "for epoch in range(epochs):\n",
    "    model_simplecnn.train()\n",
    "    running_loss = 0.0\n",
    "    train_correct = 0\n",
    "    train_total = 0\n",
    "\n",
    "    for inputs, labels in tqdm(loader, desc=f\"Epoch {epoch + 1}/{epochs}\"):\n",
    "        inputs, labels = inputs.float().to(device), labels.float().to(device)\n",
    "        outputs = model_simplecnn(inputs)\n",
    "        loss = criterion(outputs, labels)\n",
    "        optimizer.zero_grad()\n",
    "        loss.backward()\n",
    "        optimizer.step()\n",
    "\n",
    "        running_loss += loss.item() * inputs.size(0)\n",
    "        labels = labels.argmax(dim=1)\n",
    "        _, predicted = torch.max(outputs, 1)\n",
    "        train_correct += (predicted == labels).sum().item()\n",
    "        train_total += labels.size(0)\n",
    "\n",
    "    training_acc.append(100 * train_correct / train_total)\n",
    "    training_loss.append(running_loss / len(loader.dataset))\n",
    "\n",
    "    model_simplecnn.eval()\n",
    "    correct = 0\n",
    "    total = 0\n",
    "    val_running_loss = 0.0\n",
    "\n",
    "    with torch.no_grad():\n",
    "        for inputs, labels in tqdm(vloader, desc=\"Evaluating\"):\n",
    "            inputs, labels = inputs.float().to(device), labels.float().to(device)\n",
    "            labels = labels.argmax(dim=1)\n",
    "            outputs = model_simplecnn(inputs)\n",
    "            loss = criterion(outputs, labels)\n",
    "            val_running_loss += loss.item() * inputs.size(0)\n",
    "            _, predicted = torch.max(outputs, 1)\n",
    "            total += labels.size(0)\n",
    "            correct += (predicted == labels).sum().item()\n",
    "\n",
    "    val_acc.append(100 * correct / total)\n",
    "    val_loss.append(val_running_loss / len(vloader.dataset))\n",
    "\n",
    "    print(f\"Epoch {epoch + 1}/{epochs}, \"\n",
    "          f\"Training Loss: {training_loss[-1]:.4f}, \"\n",
    "          f\"Training Accuracy: {training_acc[-1]:.2f}%, \"\n",
    "          f\"Validation Loss: {val_loss[-1]:.4f}, \"\n",
    "          f\"Validation Accuracy: {val_acc[-1]:.2f}%\")\n",
    "\n",
    "# Plot training and validation accuracy\n",
    "plt.figure(figsize=(12, 5))\n",
    "\n",
    "plt.subplot(1, 2, 1)\n",
    "plt.plot(training_acc, label='Training Accuracy')\n",
    "plt.plot(val_acc, label='Validation Accuracy')\n",
    "plt.xlabel('Epoch')\n",
    "plt.ylabel('Accuracy')\n",
    "plt.legend()\n",
    "plt.title('Training and Validation Accuracy')\n",
    "\n",
    "# Plot training and validation loss\n",
    "plt.subplot(1, 2, 2)\n",
    "plt.plot(training_loss, label='Training Loss')\n",
    "plt.plot(val_loss, label='Validation Loss')\n",
    "plt.xlabel('Epoch')\n",
    "plt.ylabel('Loss')\n",
    "plt.legend()\n",
    "plt.title('Training and Validation Loss')\n",
    "\n",
    "plt.tight_layout()\n",
    "plt.show()"
   ]
  },
  {
   "cell_type": "code",
   "execution_count": 46,
   "id": "6636b28f-0b99-4893-98d4-5474eb1facb4",
   "metadata": {},
   "outputs": [
    {
     "name": "stderr",
     "output_type": "stream",
     "text": [
      "Evaluating: 100%|████████████████████████████████████████████████████████████████████████| 4/4 [00:00<00:00, 10.40it/s]"
     ]
    },
    {
     "name": "stdout",
     "output_type": "stream",
     "text": [
      "test Accuracy: 42.0000%\n"
     ]
    },
    {
     "name": "stderr",
     "output_type": "stream",
     "text": [
      "\n"
     ]
    }
   ],
   "source": [
    "# self-made CNN test accuracy\n",
    "model_simplecnn.eval() \n",
    "correct = 0\n",
    "total = 0\n",
    "\n",
    "with torch.no_grad():\n",
    "    for inputs, labels in tqdm(tloader, desc=\"Evaluating\"):\n",
    "        inputs, labels = inputs.float().to(device), labels.float().to(device)\n",
    "        labels = labels.argmax(dim=1)\n",
    "        outputs = model_simplecnn(inputs)\n",
    "        _, predicted = torch.max(outputs, 1)\n",
    "        total += labels.size(0)      \n",
    "        correct += (predicted == labels).sum().item()\n",
    "\n",
    "accuracy = 100 * correct / total\n",
    "print(f\"test Accuracy: {accuracy:.4f}%\")"
   ]
  },
  {
   "cell_type": "markdown",
   "id": "c5b80dbc-b9be-457d-947a-def71f1c2da2",
   "metadata": {
    "jp-MarkdownHeadingCollapsed": true
   },
   "source": [
    "# B naive model"
   ]
  },
  {
   "cell_type": "code",
   "execution_count": 51,
   "id": "8943726f-25fe-4a3e-9475-56210e7b72e5",
   "metadata": {},
   "outputs": [
    {
     "name": "stderr",
     "output_type": "stream",
     "text": [
      "Epoch 1/10: 100%|████████████████████████████████████████████████████████████████████| 495/495 [00:41<00:00, 11.79it/s]\n",
      "Evaluating: 100%|████████████████████████████████████████████████████████████████████████| 4/4 [00:00<00:00, 43.34it/s]\n"
     ]
    },
    {
     "name": "stdout",
     "output_type": "stream",
     "text": [
      "Epoch 1/10, Training Loss: 3.5863, Training Accuracy: 12.03%, Validation Loss: 3.1910, Validation Accuracy: 13.33%\n"
     ]
    },
    {
     "name": "stderr",
     "output_type": "stream",
     "text": [
      "Epoch 2/10: 100%|████████████████████████████████████████████████████████████████████| 495/495 [00:41<00:00, 11.95it/s]\n",
      "Evaluating: 100%|████████████████████████████████████████████████████████████████████████| 4/4 [00:00<00:00, 42.96it/s]\n"
     ]
    },
    {
     "name": "stdout",
     "output_type": "stream",
     "text": [
      "Epoch 2/10, Training Loss: 2.8769, Training Accuracy: 20.97%, Validation Loss: 2.9550, Validation Accuracy: 18.89%\n"
     ]
    },
    {
     "name": "stderr",
     "output_type": "stream",
     "text": [
      "Epoch 3/10: 100%|████████████████████████████████████████████████████████████████████| 495/495 [00:41<00:00, 11.97it/s]\n",
      "Evaluating: 100%|████████████████████████████████████████████████████████████████████████| 4/4 [00:00<00:00, 43.08it/s]\n"
     ]
    },
    {
     "name": "stdout",
     "output_type": "stream",
     "text": [
      "Epoch 3/10, Training Loss: 2.5585, Training Accuracy: 28.06%, Validation Loss: 2.7536, Validation Accuracy: 24.22%\n"
     ]
    },
    {
     "name": "stderr",
     "output_type": "stream",
     "text": [
      "Epoch 4/10: 100%|████████████████████████████████████████████████████████████████████| 495/495 [00:41<00:00, 11.91it/s]\n",
      "Evaluating: 100%|████████████████████████████████████████████████████████████████████████| 4/4 [00:00<00:00, 43.80it/s]\n"
     ]
    },
    {
     "name": "stdout",
     "output_type": "stream",
     "text": [
      "Epoch 4/10, Training Loss: 2.3082, Training Accuracy: 33.80%, Validation Loss: 2.3945, Validation Accuracy: 31.56%\n"
     ]
    },
    {
     "name": "stderr",
     "output_type": "stream",
     "text": [
      "Epoch 5/10: 100%|████████████████████████████████████████████████████████████████████| 495/495 [00:41<00:00, 11.89it/s]\n",
      "Evaluating: 100%|████████████████████████████████████████████████████████████████████████| 4/4 [00:00<00:00, 42.55it/s]\n"
     ]
    },
    {
     "name": "stdout",
     "output_type": "stream",
     "text": [
      "Epoch 5/10, Training Loss: 2.0960, Training Accuracy: 39.22%, Validation Loss: 2.8235, Validation Accuracy: 26.00%\n"
     ]
    },
    {
     "name": "stderr",
     "output_type": "stream",
     "text": [
      "Epoch 6/10: 100%|████████████████████████████████████████████████████████████████████| 495/495 [00:41<00:00, 11.84it/s]\n",
      "Evaluating: 100%|████████████████████████████████████████████████████████████████████████| 4/4 [00:00<00:00, 41.86it/s]\n"
     ]
    },
    {
     "name": "stdout",
     "output_type": "stream",
     "text": [
      "Epoch 6/10, Training Loss: 1.8927, Training Accuracy: 44.20%, Validation Loss: 2.6013, Validation Accuracy: 29.33%\n"
     ]
    },
    {
     "name": "stderr",
     "output_type": "stream",
     "text": [
      "Epoch 7/10: 100%|████████████████████████████████████████████████████████████████████| 495/495 [00:41<00:00, 11.88it/s]\n",
      "Evaluating: 100%|████████████████████████████████████████████████████████████████████████| 4/4 [00:00<00:00, 41.91it/s]\n"
     ]
    },
    {
     "name": "stdout",
     "output_type": "stream",
     "text": [
      "Epoch 7/10, Training Loss: 1.7045, Training Accuracy: 48.79%, Validation Loss: 2.4369, Validation Accuracy: 33.11%\n"
     ]
    },
    {
     "name": "stderr",
     "output_type": "stream",
     "text": [
      "Epoch 8/10: 100%|████████████████████████████████████████████████████████████████████| 495/495 [00:41<00:00, 11.93it/s]\n",
      "Evaluating: 100%|████████████████████████████████████████████████████████████████████████| 4/4 [00:00<00:00, 42.79it/s]\n"
     ]
    },
    {
     "name": "stdout",
     "output_type": "stream",
     "text": [
      "Epoch 8/10, Training Loss: 1.5107, Training Accuracy: 54.29%, Validation Loss: 2.2793, Validation Accuracy: 37.78%\n"
     ]
    },
    {
     "name": "stderr",
     "output_type": "stream",
     "text": [
      "Epoch 9/10: 100%|████████████████████████████████████████████████████████████████████| 495/495 [00:41<00:00, 11.93it/s]\n",
      "Evaluating: 100%|████████████████████████████████████████████████████████████████████████| 4/4 [00:00<00:00, 43.11it/s]\n"
     ]
    },
    {
     "name": "stdout",
     "output_type": "stream",
     "text": [
      "Epoch 9/10, Training Loss: 1.3079, Training Accuracy: 59.81%, Validation Loss: 2.3178, Validation Accuracy: 36.44%\n"
     ]
    },
    {
     "name": "stderr",
     "output_type": "stream",
     "text": [
      "Epoch 10/10: 100%|███████████████████████████████████████████████████████████████████| 495/495 [00:41<00:00, 11.95it/s]\n",
      "Evaluating: 100%|████████████████████████████████████████████████████████████████████████| 4/4 [00:00<00:00, 44.11it/s]\n"
     ]
    },
    {
     "name": "stdout",
     "output_type": "stream",
     "text": [
      "Epoch 10/10, Training Loss: 1.1028, Training Accuracy: 65.77%, Validation Loss: 2.4866, Validation Accuracy: 37.56%\n"
     ]
    },
    {
     "data": {
      "image/png": "[encoded data removed]",
      "text/plain": [
       "<Figure size 1200x500 with 2 Axes>"
      ]
     },
     "metadata": {},
     "output_type": "display_data"
    }
   ],
   "source": [
    "criterion = nn.CrossEntropyLoss()\n",
    "optimizer = optim.Adam(model_simplecnn.parameters(), lr=0.001)\n",
    "epochs = 10\n",
    "\n",
    "training_acc = []\n",
    "val_acc = []\n",
    "training_loss = []\n",
    "val_loss = []\n",
    "\n",
    "for epoch in range(epochs):\n",
    "    model_simplecnn.train()\n",
    "    running_loss = 0.0\n",
    "    train_correct = 0\n",
    "    train_total = 0\n",
    "\n",
    "    for inputs, labels in tqdm(loader, desc=f\"Epoch {epoch + 1}/{epochs}\"):\n",
    "        inputs, labels = inputs.float().to(device), labels.float().to(device)\n",
    "        outputs = model_simplecnn(inputs)\n",
    "        loss = criterion(outputs, labels)\n",
    "        optimizer.zero_grad()\n",
    "        loss.backward()\n",
    "        optimizer.step()\n",
    "\n",
    "        running_loss += loss.item() * inputs.size(0)\n",
    "        labels = labels.argmax(dim=1)\n",
    "        _, predicted = torch.max(outputs, 1)\n",
    "        train_correct += (predicted == labels).sum().item()\n",
    "        train_total += labels.size(0)\n",
    "\n",
    "    training_acc.append(100 * train_correct / train_total)\n",
    "    training_loss.append(running_loss / len(loader.dataset))\n",
    "\n",
    "    model_simplecnn.eval()\n",
    "    correct = 0\n",
    "    total = 0\n",
    "    val_running_loss = 0.0\n",
    "\n",
    "    with torch.no_grad():\n",
    "        for inputs, labels in tqdm(vloader, desc=\"Evaluating\"):\n",
    "            inputs, labels = inputs.float().to(device), labels.float().to(device)\n",
    "            labels = labels.argmax(dim=1)\n",
    "            outputs = model_simplecnn(inputs)\n",
    "            loss = criterion(outputs, labels)\n",
    "            val_running_loss += loss.item() * inputs.size(0)\n",
    "            _, predicted = torch.max(outputs, 1)\n",
    "            total += labels.size(0)\n",
    "            correct += (predicted == labels).sum().item()\n",
    "\n",
    "    val_acc.append(100 * correct / total)\n",
    "    val_loss.append(val_running_loss / len(vloader.dataset))\n",
    "\n",
    "    print(f\"Epoch {epoch + 1}/{epochs}, \"\n",
    "          f\"Training Loss: {training_loss[-1]:.4f}, \"\n",
    "          f\"Training Accuracy: {training_acc[-1]:.2f}%, \"\n",
    "          f\"Validation Loss: {val_loss[-1]:.4f}, \"\n",
    "          f\"Validation Accuracy: {val_acc[-1]:.2f}%\")\n",
    "\n",
    "# Plot training and validation accuracy\n",
    "plt.figure(figsize=(12, 5))\n",
    "\n",
    "plt.subplot(1, 2, 1)\n",
    "plt.plot(training_acc, label='Training Accuracy')\n",
    "plt.plot(val_acc, label='Validation Accuracy')\n",
    "plt.xlabel('Epoch')\n",
    "plt.ylabel('Accuracy')\n",
    "plt.legend()\n",
    "plt.title('Training and Validation Accuracy')\n",
    "\n",
    "# Plot training and validation loss\n",
    "plt.subplot(1, 2, 2)\n",
    "plt.plot(training_loss, label='Training Loss')\n",
    "plt.plot(val_loss, label='Validation Loss')\n",
    "plt.xlabel('Epoch')\n",
    "plt.ylabel('Loss')\n",
    "plt.legend()\n",
    "plt.title('Training and Validation Loss')\n",
    "\n",
    "plt.tight_layout()\n",
    "plt.show()"
   ]
  },
  {
   "cell_type": "code",
   "execution_count": 52,
   "id": "8fd7d6da-9ebf-4e14-acd8-3a88a94d0733",
   "metadata": {},
   "outputs": [
    {
     "name": "stderr",
     "output_type": "stream",
     "text": [
      "Evaluating: 100%|████████████████████████████████████████████████████████████████████████| 4/4 [00:00<00:00,  9.38it/s]"
     ]
    },
    {
     "name": "stdout",
     "output_type": "stream",
     "text": [
      "test Accuracy: 39.5556%\n"
     ]
    },
    {
     "name": "stderr",
     "output_type": "stream",
     "text": [
      "\n"
     ]
    }
   ],
   "source": [
    "# self-made CNN test accuracy\n",
    "model_simplecnn.eval() \n",
    "correct = 0\n",
    "total = 0\n",
    "\n",
    "with torch.no_grad():\n",
    "    for inputs, labels in tqdm(tloader, desc=\"Evaluating\"):\n",
    "        inputs, labels = inputs.float().to(device), labels.float().to(device)\n",
    "        labels = labels.argmax(dim=1)\n",
    "        outputs = model_simplecnn(inputs)\n",
    "        _, predicted = torch.max(outputs, 1)\n",
    "        total += labels.size(0)      \n",
    "        correct += (predicted == labels).sum().item()\n",
    "\n",
    "accuracy = 100 * correct / total\n",
    "print(f\"test Accuracy: {accuracy:.4f}%\")"
   ]
  },
  {
   "cell_type": "markdown",
   "id": "2cf31f45-a910-48aa-a745-fc1a1a6313e0",
   "metadata": {},
   "source": [
    "# Build Dynamic Convolution based model"
   ]
  },
  {
   "cell_type": "code",
   "execution_count": 192,
   "id": "27e9ecdc-5098-4598-a598-a2d305c84daf",
   "metadata": {},
   "outputs": [],
   "source": [
    "class attention2d(nn.Module):\n",
    "    def __init__(self, in_planes, ratios, K, temperature, init_weight=True):\n",
    "        super(attention2d, self).__init__()\n",
    "        assert temperature%3==1\n",
    "        self.avgpool = nn.AdaptiveAvgPool2d(1)\n",
    "        if in_planes!=3:\n",
    "            hidden_planes = int(in_planes*ratios)+1\n",
    "        else:\n",
    "            hidden_planes = K\n",
    "        self.fc1 = nn.Conv2d(in_planes, hidden_planes, 1, bias=False)\n",
    "        # self.bn = nn.BatchNorm2d(hidden_planes)\n",
    "        self.fc2 = nn.Conv2d(hidden_planes, K, 1, bias=True)\n",
    "        self.temperature = temperature\n",
    "        if init_weight:\n",
    "            self._initialize_weights()\n",
    "\n",
    "\n",
    "    def _initialize_weights(self):\n",
    "        for m in self.modules():\n",
    "            if isinstance(m, nn.Conv2d):\n",
    "                nn.init.kaiming_normal_(m.weight, mode='fan_out', nonlinearity='relu')\n",
    "                if m.bias is not None:\n",
    "                    nn.init.constant_(m.bias, 0)\n",
    "            if isinstance(m ,nn.BatchNorm2d):\n",
    "                nn.init.constant_(m.weight, 1)\n",
    "                nn.init.constant_(m.bias, 0)\n",
    "\n",
    "    def updata_temperature(self):\n",
    "        if self.temperature!=1:\n",
    "            self.temperature -=3\n",
    "            print('Change temperature to:', str(self.temperature))\n",
    "\n",
    "\n",
    "    def forward(self, x):\n",
    "        x = self.avgpool(x)\n",
    "        x = self.fc1(x)\n",
    "        x = F.relu(x)\n",
    "        x = self.fc2(x).view(x.size(0), -1)\n",
    "        return F.softmax(x/self.temperature, 1)\n",
    "\n",
    "\n",
    "class Dynamic_conv2d(nn.Module):\n",
    "    def __init__(self, in_planes, out_planes, kernel_size, ratio=0.25, stride=1, padding=0, dilation=1, groups=1, bias=True, K=4,temperature=34, init_weight=True):\n",
    "        super(Dynamic_conv2d, self).__init__()\n",
    "        assert in_planes%groups==0\n",
    "        self.in_planes = in_planes\n",
    "        self.out_planes = out_planes\n",
    "        self.kernel_size = kernel_size\n",
    "        self.stride = stride\n",
    "        self.padding = padding\n",
    "        self.dilation = dilation\n",
    "        self.groups = groups\n",
    "        self.bias = bias\n",
    "        self.K = K\n",
    "        self.attention = attention2d(in_planes, ratio, K, temperature)\n",
    "\n",
    "        self.weight = nn.Parameter(torch.randn(K, out_planes, in_planes//groups, kernel_size, kernel_size), requires_grad=True)\n",
    "        if bias:\n",
    "            self.bias = nn.Parameter(torch.zeros(K, out_planes))\n",
    "        else:\n",
    "            self.bias = None\n",
    "        if init_weight:\n",
    "            self._initialize_weights()\n",
    "\n",
    "        #TODO 初始化\n",
    "    def _initialize_weights(self):\n",
    "        for i in range(self.K):\n",
    "            nn.init.kaiming_uniform_(self.weight[i])\n",
    "\n",
    "\n",
    "    def update_temperature(self):\n",
    "        self.attention.updata_temperature()\n",
    "\n",
    "    def forward(self, x):#将batch视作维度变量，进行组卷积，因为组卷积的权重是不同的，动态卷积的权重也是不同的\n",
    "        softmax_attention = self.attention(x)\n",
    "        batch_size, in_planes, height, width = x.size()\n",
    "        x = x.view(1, -1, height, width)# 变化成一个维度进行组卷积\n",
    "        weight = self.weight.view(self.K, -1)\n",
    "\n",
    "        # 动态卷积的权重的生成， 生成的是batch_size个卷积参数（每个参数不同）\n",
    "        aggregate_weight = torch.mm(softmax_attention, weight).view(batch_size*self.out_planes, self.in_planes//self.groups, self.kernel_size, self.kernel_size)\n",
    "        if self.bias is not None:\n",
    "            aggregate_bias = torch.mm(softmax_attention, self.bias).view(-1)\n",
    "            output = F.conv2d(x, weight=aggregate_weight, bias=aggregate_bias, stride=self.stride, padding=self.padding,\n",
    "                              dilation=self.dilation, groups=self.groups*batch_size)\n",
    "        else:\n",
    "            output = F.conv2d(x, weight=aggregate_weight, bias=None, stride=self.stride, padding=self.padding,\n",
    "                              dilation=self.dilation, groups=self.groups * batch_size)\n",
    "\n",
    "        output = output.view(batch_size, self.out_planes, output.size(-2), output.size(-1))\n",
    "        return output\n",
    "\n",
    "class AdaptiveChannelConvModule(nn.Module):\n",
    "    def __init__(self, out_channels, kernel_size,pool = True):\n",
    "        super(AdaptiveChannelConvModule, self).__init__()\n",
    "        self.out_channels = out_channels\n",
    "        self.kernel_size = kernel_size\n",
    "        self.conv = Dynamic_conv2d(out_channels, out_channels, kernel_size, padding=kernel_size // 2)\n",
    "        self.conv_pad = Dynamic_conv2d(2, out_channels//2, kernel_size, padding=kernel_size // 2)\n",
    "        self.bn1_pad = nn.BatchNorm2d(out_channels//2)\n",
    "        self.pool = nn.MaxPool2d(kernel_size=2, stride=2, padding=0)\n",
    "\n",
    "        self.pooling = pool\n",
    "        \n",
    "    def forward(self, x):\n",
    "        batch_size, in_channels, height, width = x.shape\n",
    "        \n",
    "        if in_channels < self.out_channels:\n",
    "            \n",
    "            x_avgpooled = x.mean(dim=1, keepdim=True)        #channel wise avg pooling\n",
    "            x_maxpooled = x.max(dim=1, keepdim=True).values  #channel wise max pooling\n",
    "            x_pad = torch.cat([x_avgpooled, x_maxpooled], dim=1)\n",
    "\n",
    "            if self.pooling:\n",
    "                x_pad = self.pool(F.relu(self.bn1_pad(self.conv_pad(x_pad))))\n",
    "                x = self.pool(x)\n",
    "            else:\n",
    "                x_pad = F.relu(self.bn1_pad(self.conv_pad(x_pad)))\n",
    "\n",
    "            # concat input x and featuremaps x_pad\n",
    "            x = torch.cat([x, x_pad], dim=1)\n",
    "            \n",
    "            # padding channel to self.out_channels\n",
    "            if x.shape[1] < self.out_channels:\n",
    "                # print(\"asasdasd\")\n",
    "                x_avgpooled = x.mean(dim=1, keepdim=True)\n",
    "                x_maxpooled = x.max(dim=1, keepdim=True).values\n",
    "                x_avgpooled_repeated = x_avgpooled.repeat(1, (self.out_channels - x.shape[1]) // 2, 1, 1)\n",
    "                x = torch.cat([x, x_avgpooled_repeated], dim=1)\n",
    "                x_maxpooled = x_maxpooled.repeat(1, self.out_channels - x.shape[1], 1, 1)\n",
    "                x = torch.cat([x, x_maxpooled], dim=1) \n",
    "\n",
    "        # ensure inputs channel size = self.out_channels\n",
    "        if x.shape[1] > self.out_channels:\n",
    "                x = x[:, :self.out_channels, :, :]\n",
    "    \n",
    "        out = self.conv(x)\n",
    "        return out"
   ]
  },
  {
   "cell_type": "code",
   "execution_count": 195,
   "id": "67db143f-41b8-4b79-982a-3207e5665150",
   "metadata": {},
   "outputs": [
    {
     "name": "stdout",
     "output_type": "stream",
     "text": [
      "torch.Size([8, 64, 32, 32])\n"
     ]
    }
   ],
   "source": [
    "model = AdaptiveChannelConvModule(out_channels=64, kernel_size=3)\n",
    "input_image = torch.randn(8, 3, 64, 64) \n",
    "output = model(input_image)\n",
    "print(output.shape)"
   ]
  },
  {
   "cell_type": "code",
   "execution_count": 207,
   "id": "a852ccda-547c-4ea6-8701-7c8e00ab3488",
   "metadata": {},
   "outputs": [
    {
     "data": {
      "text/plain": [
       "SimpleCNN(\n",
       "  (conv1): AdaptiveChannelConvModule(\n",
       "    (conv): Dynamic_conv2d(\n",
       "      (attention): attention2d(\n",
       "        (avgpool): AdaptiveAvgPool2d(output_size=1)\n",
       "        (fc1): Conv2d(32, 9, kernel_size=(1, 1), stride=(1, 1), bias=False)\n",
       "        (fc2): Conv2d(9, 4, kernel_size=(1, 1), stride=(1, 1))\n",
       "      )\n",
       "    )\n",
       "    (conv_pad): Dynamic_conv2d(\n",
       "      (attention): attention2d(\n",
       "        (avgpool): AdaptiveAvgPool2d(output_size=1)\n",
       "        (fc1): Conv2d(2, 1, kernel_size=(1, 1), stride=(1, 1), bias=False)\n",
       "        (fc2): Conv2d(1, 4, kernel_size=(1, 1), stride=(1, 1))\n",
       "      )\n",
       "    )\n",
       "    (bn1_pad): BatchNorm2d(16, eps=1e-05, momentum=0.1, affine=True, track_running_stats=True)\n",
       "    (pool): MaxPool2d(kernel_size=2, stride=2, padding=0, dilation=1, ceil_mode=False)\n",
       "  )\n",
       "  (conv2): Dynamic_conv2d(\n",
       "    (attention): attention2d(\n",
       "      (avgpool): AdaptiveAvgPool2d(output_size=1)\n",
       "      (fc1): Conv2d(32, 9, kernel_size=(1, 1), stride=(1, 1), bias=False)\n",
       "      (fc2): Conv2d(9, 4, kernel_size=(1, 1), stride=(1, 1))\n",
       "    )\n",
       "  )\n",
       "  (conv3): Dynamic_conv2d(\n",
       "    (attention): attention2d(\n",
       "      (avgpool): AdaptiveAvgPool2d(output_size=1)\n",
       "      (fc1): Conv2d(64, 17, kernel_size=(1, 1), stride=(1, 1), bias=False)\n",
       "      (fc2): Conv2d(17, 4, kernel_size=(1, 1), stride=(1, 1))\n",
       "    )\n",
       "  )\n",
       "  (conv4): Dynamic_conv2d(\n",
       "    (attention): attention2d(\n",
       "      (avgpool): AdaptiveAvgPool2d(output_size=1)\n",
       "      (fc1): Conv2d(128, 33, kernel_size=(1, 1), stride=(1, 1), bias=False)\n",
       "      (fc2): Conv2d(33, 4, kernel_size=(1, 1), stride=(1, 1))\n",
       "    )\n",
       "  )\n",
       "  (bn1): BatchNorm2d(32, eps=1e-05, momentum=0.1, affine=True, track_running_stats=True)\n",
       "  (bn2): BatchNorm2d(64, eps=1e-05, momentum=0.1, affine=True, track_running_stats=True)\n",
       "  (bn3): BatchNorm2d(128, eps=1e-05, momentum=0.1, affine=True, track_running_stats=True)\n",
       "  (bn4): BatchNorm2d(256, eps=1e-05, momentum=0.1, affine=True, track_running_stats=True)\n",
       "  (pool): MaxPool2d(kernel_size=2, stride=2, padding=0, dilation=1, ceil_mode=False)\n",
       "  (flatten): Flatten(start_dim=1, end_dim=-1)\n",
       "  (fc1): Linear(in_features=16384, out_features=1024, bias=True)\n",
       "  (fc2): Linear(in_features=1024, out_features=50, bias=True)\n",
       ")"
      ]
     },
     "execution_count": 207,
     "metadata": {},
     "output_type": "execute_result"
    }
   ],
   "source": [
    "class SimpleCNN(nn.Module):\n",
    "    def __init__(self, input_ch=3, num_classes=50):\n",
    "        super(SimpleCNN, self).__init__()\n",
    "        self.conv1 = AdaptiveChannelConvModule(out_channels=32, kernel_size=3,pool = False)\n",
    "        self.conv2 = Dynamic_conv2d(32, 64, kernel_size=3, stride=1, padding=1)\n",
    "        self.conv3 = Dynamic_conv2d(64, 128, kernel_size=3, stride=1, padding=1)\n",
    "        self.conv4 = Dynamic_conv2d(128, 256, kernel_size=3, stride=1, padding=1)\n",
    "        self.bn1 = nn.BatchNorm2d(32)\n",
    "        self.bn2 = nn.BatchNorm2d(64)\n",
    "        self.bn3 = nn.BatchNorm2d(128)\n",
    "        self.bn4 = nn.BatchNorm2d(256)\n",
    "        self.pool = nn.MaxPool2d(kernel_size=2, stride=2)\n",
    "        self.flatten = nn.Flatten()\n",
    "        self.fc1 = nn.Linear(256 * 8 * 8, 1024)\n",
    "        self.fc2 = nn.Linear(1024, 50) \n",
    "\n",
    "    def forward(self, x):\n",
    "        x = self.pool(F.relu(self.bn1(self.conv1(x))))\n",
    "        x = self.pool(F.relu(self.bn2(self.conv2(x))))\n",
    "        x = self.pool(F.relu(self.bn3(self.conv3(x))))\n",
    "        x = self.pool(F.relu(self.bn4(self.conv4(x))))\n",
    "        \n",
    "        x = self.flatten(x)\n",
    "        x = F.relu(self.fc1(x))\n",
    "        x = self.fc2(x)\n",
    "        return x\n",
    "\n",
    "model_simplecnn = SimpleCNN()\n",
    "device = torch.device(\"cuda:0\" if torch.cuda.is_available() else \"cpu\")\n",
    "model_simplecnn.to(device)"
   ]
  },
  {
   "cell_type": "code",
   "execution_count": 208,
   "id": "a4bdbc6a-fb67-44d7-9768-389575225bbf",
   "metadata": {
    "scrolled": true
   },
   "outputs": [
    {
     "name": "stderr",
     "output_type": "stream",
     "text": [
      "Epoch 1/70: 100%|████████████████████████████████████████████████████████████████████| 495/495 [01:55<00:00,  4.28it/s]\n",
      "Evaluating: 100%|████████████████████████████████████████████████████████████████████████| 4/4 [00:00<00:00, 18.28it/s]\n"
     ]
    },
    {
     "name": "stdout",
     "output_type": "stream",
     "text": [
      "Epoch 1/70, Training Loss: 3.7214, Training Accuracy: 9.78%, Validation Loss: 3.7125, Validation Accuracy: 14.22%\n"
     ]
    },
    {
     "name": "stderr",
     "output_type": "stream",
     "text": [
      "Epoch 2/70: 100%|████████████████████████████████████████████████████████████████████| 495/495 [01:55<00:00,  4.28it/s]\n",
      "Evaluating: 100%|████████████████████████████████████████████████████████████████████████| 4/4 [00:00<00:00, 18.87it/s]\n"
     ]
    },
    {
     "name": "stdout",
     "output_type": "stream",
     "text": [
      "Epoch 2/70, Training Loss: 2.7787, Training Accuracy: 23.02%, Validation Loss: 2.7747, Validation Accuracy: 21.56%\n"
     ]
    },
    {
     "name": "stderr",
     "output_type": "stream",
     "text": [
      "Epoch 3/70: 100%|████████████████████████████████████████████████████████████████████| 495/495 [01:55<00:00,  4.28it/s]\n",
      "Evaluating: 100%|████████████████████████████████████████████████████████████████████████| 4/4 [00:00<00:00, 18.43it/s]\n"
     ]
    },
    {
     "name": "stdout",
     "output_type": "stream",
     "text": [
      "Epoch 3/70, Training Loss: 2.4505, Training Accuracy: 30.19%, Validation Loss: 2.8726, Validation Accuracy: 24.44%\n"
     ]
    },
    {
     "name": "stderr",
     "output_type": "stream",
     "text": [
      "Epoch 4/70: 100%|████████████████████████████████████████████████████████████████████| 495/495 [01:55<00:00,  4.28it/s]\n",
      "Evaluating: 100%|████████████████████████████████████████████████████████████████████████| 4/4 [00:00<00:00, 17.43it/s]\n"
     ]
    },
    {
     "name": "stdout",
     "output_type": "stream",
     "text": [
      "Epoch 4/70, Training Loss: 2.1987, Training Accuracy: 36.48%, Validation Loss: 2.8386, Validation Accuracy: 24.44%\n"
     ]
    },
    {
     "name": "stderr",
     "output_type": "stream",
     "text": [
      "Epoch 5/70: 100%|████████████████████████████████████████████████████████████████████| 495/495 [01:55<00:00,  4.29it/s]\n",
      "Evaluating: 100%|████████████████████████████████████████████████████████████████████████| 4/4 [00:00<00:00, 18.14it/s]\n"
     ]
    },
    {
     "name": "stdout",
     "output_type": "stream",
     "text": [
      "Epoch 5/70, Training Loss: 2.0051, Training Accuracy: 40.95%, Validation Loss: 2.4654, Validation Accuracy: 32.00%\n"
     ]
    },
    {
     "name": "stderr",
     "output_type": "stream",
     "text": [
      "Epoch 6/70: 100%|████████████████████████████████████████████████████████████████████| 495/495 [01:55<00:00,  4.30it/s]\n",
      "Evaluating: 100%|████████████████████████████████████████████████████████████████████████| 4/4 [00:00<00:00, 18.85it/s]\n"
     ]
    },
    {
     "name": "stdout",
     "output_type": "stream",
     "text": [
      "Epoch 6/70, Training Loss: 1.8313, Training Accuracy: 45.36%, Validation Loss: 2.2662, Validation Accuracy: 34.22%\n"
     ]
    },
    {
     "name": "stderr",
     "output_type": "stream",
     "text": [
      "Epoch 7/70: 100%|████████████████████████████████████████████████████████████████████| 495/495 [01:55<00:00,  4.29it/s]\n",
      "Evaluating: 100%|████████████████████████████████████████████████████████████████████████| 4/4 [00:00<00:00, 18.79it/s]\n"
     ]
    },
    {
     "name": "stdout",
     "output_type": "stream",
     "text": [
      "Epoch 7/70, Training Loss: 1.6754, Training Accuracy: 49.40%, Validation Loss: 2.0864, Validation Accuracy: 37.11%\n"
     ]
    },
    {
     "name": "stderr",
     "output_type": "stream",
     "text": [
      "Epoch 8/70: 100%|████████████████████████████████████████████████████████████████████| 495/495 [01:55<00:00,  4.28it/s]\n",
      "Evaluating: 100%|████████████████████████████████████████████████████████████████████████| 4/4 [00:00<00:00, 19.32it/s]\n"
     ]
    },
    {
     "name": "stdout",
     "output_type": "stream",
     "text": [
      "Epoch 8/70, Training Loss: 1.5152, Training Accuracy: 53.59%, Validation Loss: 1.9930, Validation Accuracy: 41.33%\n"
     ]
    },
    {
     "name": "stderr",
     "output_type": "stream",
     "text": [
      "Epoch 9/70: 100%|████████████████████████████████████████████████████████████████████| 495/495 [01:55<00:00,  4.30it/s]\n",
      "Evaluating: 100%|████████████████████████████████████████████████████████████████████████| 4/4 [00:00<00:00, 18.43it/s]\n"
     ]
    },
    {
     "name": "stdout",
     "output_type": "stream",
     "text": [
      "Epoch 9/70, Training Loss: 1.3700, Training Accuracy: 57.53%, Validation Loss: 2.0520, Validation Accuracy: 40.67%\n"
     ]
    },
    {
     "name": "stderr",
     "output_type": "stream",
     "text": [
      "Epoch 10/70: 100%|███████████████████████████████████████████████████████████████████| 495/495 [01:55<00:00,  4.29it/s]\n",
      "Evaluating: 100%|████████████████████████████████████████████████████████████████████████| 4/4 [00:00<00:00, 18.78it/s]\n"
     ]
    },
    {
     "name": "stdout",
     "output_type": "stream",
     "text": [
      "Epoch 10/70, Training Loss: 1.2133, Training Accuracy: 61.76%, Validation Loss: 1.9158, Validation Accuracy: 42.67%\n"
     ]
    },
    {
     "name": "stderr",
     "output_type": "stream",
     "text": [
      "Epoch 11/70: 100%|███████████████████████████████████████████████████████████████████| 495/495 [01:53<00:00,  4.37it/s]\n",
      "Evaluating: 100%|████████████████████████████████████████████████████████████████████████| 4/4 [00:00<00:00, 19.16it/s]\n"
     ]
    },
    {
     "name": "stdout",
     "output_type": "stream",
     "text": [
      "Epoch 11/70, Training Loss: 1.4128, Training Accuracy: 56.14%, Validation Loss: 2.0699, Validation Accuracy: 43.56%\n"
     ]
    },
    {
     "name": "stderr",
     "output_type": "stream",
     "text": [
      "Epoch 12/70: 100%|███████████████████████████████████████████████████████████████████| 495/495 [01:53<00:00,  4.36it/s]\n",
      "Evaluating: 100%|████████████████████████████████████████████████████████████████████████| 4/4 [00:00<00:00, 19.64it/s]\n"
     ]
    },
    {
     "name": "stdout",
     "output_type": "stream",
     "text": [
      "Epoch 12/70, Training Loss: 1.1589, Training Accuracy: 63.10%, Validation Loss: 2.0339, Validation Accuracy: 42.67%\n"
     ]
    },
    {
     "name": "stderr",
     "output_type": "stream",
     "text": [
      "Epoch 13/70: 100%|███████████████████████████████████████████████████████████████████| 495/495 [01:53<00:00,  4.36it/s]\n",
      "Evaluating: 100%|████████████████████████████████████████████████████████████████████████| 4/4 [00:00<00:00, 19.50it/s]\n"
     ]
    },
    {
     "name": "stdout",
     "output_type": "stream",
     "text": [
      "Epoch 13/70, Training Loss: 0.9765, Training Accuracy: 68.68%, Validation Loss: 2.0932, Validation Accuracy: 42.67%\n"
     ]
    },
    {
     "name": "stderr",
     "output_type": "stream",
     "text": [
      "Epoch 14/70: 100%|███████████████████████████████████████████████████████████████████| 495/495 [01:53<00:00,  4.35it/s]\n",
      "Evaluating: 100%|████████████████████████████████████████████████████████████████████████| 4/4 [00:00<00:00, 19.61it/s]\n"
     ]
    },
    {
     "name": "stdout",
     "output_type": "stream",
     "text": [
      "Epoch 14/70, Training Loss: 0.8065, Training Accuracy: 73.75%, Validation Loss: 2.3661, Validation Accuracy: 41.78%\n"
     ]
    },
    {
     "name": "stderr",
     "output_type": "stream",
     "text": [
      "Epoch 15/70: 100%|███████████████████████████████████████████████████████████████████| 495/495 [01:53<00:00,  4.35it/s]\n",
      "Evaluating: 100%|████████████████████████████████████████████████████████████████████████| 4/4 [00:00<00:00, 19.59it/s]\n"
     ]
    },
    {
     "name": "stdout",
     "output_type": "stream",
     "text": [
      "Epoch 15/70, Training Loss: 0.6471, Training Accuracy: 78.59%, Validation Loss: 2.3805, Validation Accuracy: 44.67%\n"
     ]
    },
    {
     "name": "stderr",
     "output_type": "stream",
     "text": [
      "Epoch 16/70: 100%|███████████████████████████████████████████████████████████████████| 495/495 [01:53<00:00,  4.35it/s]\n",
      "Evaluating: 100%|████████████████████████████████████████████████████████████████████████| 4/4 [00:00<00:00, 19.23it/s]\n"
     ]
    },
    {
     "name": "stdout",
     "output_type": "stream",
     "text": [
      "Epoch 16/70, Training Loss: 0.5123, Training Accuracy: 82.94%, Validation Loss: 2.6268, Validation Accuracy: 42.44%\n"
     ]
    },
    {
     "name": "stderr",
     "output_type": "stream",
     "text": [
      "Epoch 17/70: 100%|███████████████████████████████████████████████████████████████████| 495/495 [01:54<00:00,  4.31it/s]\n",
      "Evaluating: 100%|████████████████████████████████████████████████████████████████████████| 4/4 [00:00<00:00, 18.78it/s]\n"
     ]
    },
    {
     "name": "stdout",
     "output_type": "stream",
     "text": [
      "Epoch 17/70, Training Loss: 0.3942, Training Accuracy: 87.13%, Validation Loss: 2.9386, Validation Accuracy: 42.89%\n"
     ]
    },
    {
     "name": "stderr",
     "output_type": "stream",
     "text": [
      "Epoch 18/70: 100%|███████████████████████████████████████████████████████████████████| 495/495 [01:56<00:00,  4.27it/s]\n",
      "Evaluating: 100%|████████████████████████████████████████████████████████████████████████| 4/4 [00:00<00:00, 19.23it/s]\n"
     ]
    },
    {
     "name": "stdout",
     "output_type": "stream",
     "text": [
      "Epoch 18/70, Training Loss: 0.3264, Training Accuracy: 89.50%, Validation Loss: 3.4490, Validation Accuracy: 37.11%\n"
     ]
    },
    {
     "name": "stderr",
     "output_type": "stream",
     "text": [
      "Epoch 19/70: 100%|███████████████████████████████████████████████████████████████████| 495/495 [01:55<00:00,  4.28it/s]\n",
      "Evaluating: 100%|████████████████████████████████████████████████████████████████████████| 4/4 [00:00<00:00, 18.81it/s]\n"
     ]
    },
    {
     "name": "stdout",
     "output_type": "stream",
     "text": [
      "Epoch 19/70, Training Loss: 0.2600, Training Accuracy: 91.85%, Validation Loss: 3.2029, Validation Accuracy: 39.56%\n"
     ]
    },
    {
     "name": "stderr",
     "output_type": "stream",
     "text": [
      "Epoch 20/70: 100%|███████████████████████████████████████████████████████████████████| 495/495 [01:55<00:00,  4.28it/s]\n",
      "Evaluating: 100%|████████████████████████████████████████████████████████████████████████| 4/4 [00:00<00:00, 19.04it/s]\n"
     ]
    },
    {
     "name": "stdout",
     "output_type": "stream",
     "text": [
      "Epoch 20/70, Training Loss: 0.2163, Training Accuracy: 93.39%, Validation Loss: 3.5585, Validation Accuracy: 39.11%\n"
     ]
    },
    {
     "name": "stderr",
     "output_type": "stream",
     "text": [
      "Epoch 21/70: 100%|███████████████████████████████████████████████████████████████████| 495/495 [01:55<00:00,  4.27it/s]\n",
      "Evaluating: 100%|████████████████████████████████████████████████████████████████████████| 4/4 [00:00<00:00, 19.13it/s]\n"
     ]
    },
    {
     "name": "stdout",
     "output_type": "stream",
     "text": [
      "Epoch 21/70, Training Loss: 0.5351, Training Accuracy: 82.56%, Validation Loss: 3.1605, Validation Accuracy: 40.89%\n"
     ]
    },
    {
     "name": "stderr",
     "output_type": "stream",
     "text": [
      "Epoch 22/70: 100%|███████████████████████████████████████████████████████████████████| 495/495 [01:55<00:00,  4.27it/s]\n",
      "Evaluating: 100%|████████████████████████████████████████████████████████████████████████| 4/4 [00:00<00:00, 19.27it/s]\n"
     ]
    },
    {
     "name": "stdout",
     "output_type": "stream",
     "text": [
      "Epoch 22/70, Training Loss: 0.2617, Training Accuracy: 91.70%, Validation Loss: 3.4836, Validation Accuracy: 41.11%\n"
     ]
    },
    {
     "name": "stderr",
     "output_type": "stream",
     "text": [
      "Epoch 23/70: 100%|███████████████████████████████████████████████████████████████████| 495/495 [01:55<00:00,  4.27it/s]\n",
      "Evaluating: 100%|████████████████████████████████████████████████████████████████████████| 4/4 [00:00<00:00, 19.03it/s]\n"
     ]
    },
    {
     "name": "stdout",
     "output_type": "stream",
     "text": [
      "Epoch 23/70, Training Loss: 0.1784, Training Accuracy: 94.70%, Validation Loss: 3.4311, Validation Accuracy: 43.33%\n"
     ]
    },
    {
     "name": "stderr",
     "output_type": "stream",
     "text": [
      "Epoch 24/70: 100%|███████████████████████████████████████████████████████████████████| 495/495 [01:55<00:00,  4.28it/s]\n",
      "Evaluating: 100%|████████████████████████████████████████████████████████████████████████| 4/4 [00:00<00:00, 19.51it/s]\n"
     ]
    },
    {
     "name": "stdout",
     "output_type": "stream",
     "text": [
      "Epoch 24/70, Training Loss: 0.1630, Training Accuracy: 95.28%, Validation Loss: 3.9303, Validation Accuracy: 38.44%\n"
     ]
    },
    {
     "name": "stderr",
     "output_type": "stream",
     "text": [
      "Epoch 25/70: 100%|███████████████████████████████████████████████████████████████████| 495/495 [01:55<00:00,  4.28it/s]\n",
      "Evaluating: 100%|████████████████████████████████████████████████████████████████████████| 4/4 [00:00<00:00, 18.72it/s]\n"
     ]
    },
    {
     "name": "stdout",
     "output_type": "stream",
     "text": [
      "Epoch 25/70, Training Loss: 0.1558, Training Accuracy: 95.53%, Validation Loss: 3.8260, Validation Accuracy: 42.44%\n"
     ]
    },
    {
     "name": "stderr",
     "output_type": "stream",
     "text": [
      "Epoch 26/70: 100%|███████████████████████████████████████████████████████████████████| 495/495 [01:55<00:00,  4.28it/s]\n",
      "Evaluating: 100%|████████████████████████████████████████████████████████████████████████| 4/4 [00:00<00:00, 19.14it/s]\n"
     ]
    },
    {
     "name": "stdout",
     "output_type": "stream",
     "text": [
      "Epoch 26/70, Training Loss: 0.1551, Training Accuracy: 95.48%, Validation Loss: 3.7981, Validation Accuracy: 41.33%\n"
     ]
    },
    {
     "name": "stderr",
     "output_type": "stream",
     "text": [
      "Epoch 27/70: 100%|███████████████████████████████████████████████████████████████████| 495/495 [01:55<00:00,  4.28it/s]\n",
      "Evaluating: 100%|████████████████████████████████████████████████████████████████████████| 4/4 [00:00<00:00, 19.37it/s]\n"
     ]
    },
    {
     "name": "stdout",
     "output_type": "stream",
     "text": [
      "Epoch 27/70, Training Loss: 0.1349, Training Accuracy: 96.21%, Validation Loss: 4.0320, Validation Accuracy: 42.22%\n"
     ]
    },
    {
     "name": "stderr",
     "output_type": "stream",
     "text": [
      "Epoch 28/70: 100%|███████████████████████████████████████████████████████████████████| 495/495 [01:55<00:00,  4.29it/s]\n",
      "Evaluating: 100%|████████████████████████████████████████████████████████████████████████| 4/4 [00:00<00:00, 19.23it/s]\n"
     ]
    },
    {
     "name": "stdout",
     "output_type": "stream",
     "text": [
      "Epoch 28/70, Training Loss: 0.1318, Training Accuracy: 96.43%, Validation Loss: 4.3523, Validation Accuracy: 41.56%\n"
     ]
    },
    {
     "name": "stderr",
     "output_type": "stream",
     "text": [
      "Epoch 29/70: 100%|███████████████████████████████████████████████████████████████████| 495/495 [01:57<00:00,  4.20it/s]\n",
      "Evaluating: 100%|████████████████████████████████████████████████████████████████████████| 4/4 [00:00<00:00, 18.86it/s]\n"
     ]
    },
    {
     "name": "stdout",
     "output_type": "stream",
     "text": [
      "Epoch 29/70, Training Loss: 0.1182, Training Accuracy: 96.82%, Validation Loss: 4.3528, Validation Accuracy: 38.44%\n"
     ]
    },
    {
     "name": "stderr",
     "output_type": "stream",
     "text": [
      "Epoch 30/70: 100%|███████████████████████████████████████████████████████████████████| 495/495 [01:57<00:00,  4.22it/s]\n",
      "Evaluating: 100%|████████████████████████████████████████████████████████████████████████| 4/4 [00:00<00:00, 19.11it/s]\n"
     ]
    },
    {
     "name": "stdout",
     "output_type": "stream",
     "text": [
      "Epoch 30/70, Training Loss: 0.1185, Training Accuracy: 96.81%, Validation Loss: 4.0923, Validation Accuracy: 37.56%\n"
     ]
    },
    {
     "name": "stderr",
     "output_type": "stream",
     "text": [
      "Epoch 31/70: 100%|███████████████████████████████████████████████████████████████████| 495/495 [01:57<00:00,  4.22it/s]\n",
      "Evaluating: 100%|████████████████████████████████████████████████████████████████████████| 4/4 [00:00<00:00, 19.14it/s]\n"
     ]
    },
    {
     "name": "stdout",
     "output_type": "stream",
     "text": [
      "Epoch 31/70, Training Loss: 0.4251, Training Accuracy: 86.48%, Validation Loss: 3.8920, Validation Accuracy: 38.89%\n"
     ]
    },
    {
     "name": "stderr",
     "output_type": "stream",
     "text": [
      "Epoch 32/70: 100%|███████████████████████████████████████████████████████████████████| 495/495 [01:57<00:00,  4.22it/s]\n",
      "Evaluating: 100%|████████████████████████████████████████████████████████████████████████| 4/4 [00:00<00:00, 19.14it/s]\n"
     ]
    },
    {
     "name": "stdout",
     "output_type": "stream",
     "text": [
      "Epoch 32/70, Training Loss: 0.1537, Training Accuracy: 95.23%, Validation Loss: 4.2972, Validation Accuracy: 38.67%\n"
     ]
    },
    {
     "name": "stderr",
     "output_type": "stream",
     "text": [
      "Epoch 33/70: 100%|███████████████████████████████████████████████████████████████████| 495/495 [01:57<00:00,  4.23it/s]\n",
      "Evaluating: 100%|████████████████████████████████████████████████████████████████████████| 4/4 [00:00<00:00, 18.61it/s]\n"
     ]
    },
    {
     "name": "stdout",
     "output_type": "stream",
     "text": [
      "Epoch 33/70, Training Loss: 0.1037, Training Accuracy: 97.32%, Validation Loss: 4.1381, Validation Accuracy: 39.56%\n"
     ]
    },
    {
     "name": "stderr",
     "output_type": "stream",
     "text": [
      "Epoch 34/70: 100%|███████████████████████████████████████████████████████████████████| 495/495 [01:56<00:00,  4.23it/s]\n",
      "Evaluating: 100%|████████████████████████████████████████████████████████████████████████| 4/4 [00:00<00:00, 19.05it/s]\n"
     ]
    },
    {
     "name": "stdout",
     "output_type": "stream",
     "text": [
      "Epoch 34/70, Training Loss: 0.0936, Training Accuracy: 97.65%, Validation Loss: 4.4131, Validation Accuracy: 38.44%\n"
     ]
    },
    {
     "name": "stderr",
     "output_type": "stream",
     "text": [
      "Epoch 35/70: 100%|███████████████████████████████████████████████████████████████████| 495/495 [01:57<00:00,  4.20it/s]\n",
      "Evaluating: 100%|████████████████████████████████████████████████████████████████████████| 4/4 [00:00<00:00, 18.38it/s]\n"
     ]
    },
    {
     "name": "stdout",
     "output_type": "stream",
     "text": [
      "Epoch 35/70, Training Loss: 0.1048, Training Accuracy: 97.30%, Validation Loss: 4.5092, Validation Accuracy: 42.44%\n"
     ]
    },
    {
     "name": "stderr",
     "output_type": "stream",
     "text": [
      "Epoch 36/70: 100%|███████████████████████████████████████████████████████████████████| 495/495 [01:59<00:00,  4.14it/s]\n",
      "Evaluating: 100%|████████████████████████████████████████████████████████████████████████| 4/4 [00:00<00:00, 18.05it/s]\n"
     ]
    },
    {
     "name": "stdout",
     "output_type": "stream",
     "text": [
      "Epoch 36/70, Training Loss: 0.1231, Training Accuracy: 96.53%, Validation Loss: 4.8674, Validation Accuracy: 37.33%\n"
     ]
    },
    {
     "name": "stderr",
     "output_type": "stream",
     "text": [
      "Epoch 37/70: 100%|███████████████████████████████████████████████████████████████████| 495/495 [02:01<00:00,  4.08it/s]\n",
      "Evaluating: 100%|████████████████████████████████████████████████████████████████████████| 4/4 [00:00<00:00, 17.26it/s]\n"
     ]
    },
    {
     "name": "stdout",
     "output_type": "stream",
     "text": [
      "Epoch 37/70, Training Loss: 0.1123, Training Accuracy: 96.79%, Validation Loss: 4.4710, Validation Accuracy: 40.44%\n"
     ]
    },
    {
     "name": "stderr",
     "output_type": "stream",
     "text": [
      "Epoch 38/70: 100%|███████████████████████████████████████████████████████████████████| 495/495 [02:01<00:00,  4.07it/s]\n",
      "Evaluating: 100%|████████████████████████████████████████████████████████████████████████| 4/4 [00:00<00:00, 18.89it/s]\n"
     ]
    },
    {
     "name": "stdout",
     "output_type": "stream",
     "text": [
      "Epoch 38/70, Training Loss: 0.1034, Training Accuracy: 97.33%, Validation Loss: 4.5181, Validation Accuracy: 39.11%\n"
     ]
    },
    {
     "name": "stderr",
     "output_type": "stream",
     "text": [
      "Epoch 39/70: 100%|███████████████████████████████████████████████████████████████████| 495/495 [01:59<00:00,  4.15it/s]\n",
      "Evaluating: 100%|████████████████████████████████████████████████████████████████████████| 4/4 [00:00<00:00, 18.67it/s]\n"
     ]
    },
    {
     "name": "stdout",
     "output_type": "stream",
     "text": [
      "Epoch 39/70, Training Loss: 0.0952, Training Accuracy: 97.50%, Validation Loss: 4.3886, Validation Accuracy: 40.00%\n"
     ]
    },
    {
     "name": "stderr",
     "output_type": "stream",
     "text": [
      "Epoch 40/70: 100%|███████████████████████████████████████████████████████████████████| 495/495 [02:01<00:00,  4.08it/s]\n",
      "Evaluating: 100%|████████████████████████████████████████████████████████████████████████| 4/4 [00:00<00:00, 17.93it/s]\n"
     ]
    },
    {
     "name": "stdout",
     "output_type": "stream",
     "text": [
      "Epoch 40/70, Training Loss: 0.0951, Training Accuracy: 97.39%, Validation Loss: 4.8484, Validation Accuracy: 38.44%\n"
     ]
    },
    {
     "name": "stderr",
     "output_type": "stream",
     "text": [
      "Epoch 41/70: 100%|███████████████████████████████████████████████████████████████████| 495/495 [01:58<00:00,  4.16it/s]\n",
      "Evaluating: 100%|████████████████████████████████████████████████████████████████████████| 4/4 [00:00<00:00, 19.69it/s]\n"
     ]
    },
    {
     "name": "stdout",
     "output_type": "stream",
     "text": [
      "Epoch 41/70, Training Loss: 0.8468, Training Accuracy: 74.62%, Validation Loss: 4.0063, Validation Accuracy: 30.22%\n"
     ]
    },
    {
     "name": "stderr",
     "output_type": "stream",
     "text": [
      "Epoch 42/70: 100%|███████████████████████████████████████████████████████████████████| 495/495 [01:56<00:00,  4.24it/s]\n",
      "Evaluating: 100%|████████████████████████████████████████████████████████████████████████| 4/4 [00:00<00:00, 19.76it/s]\n"
     ]
    },
    {
     "name": "stdout",
     "output_type": "stream",
     "text": [
      "Epoch 42/70, Training Loss: 0.2615, Training Accuracy: 91.55%, Validation Loss: 4.2588, Validation Accuracy: 34.89%\n"
     ]
    },
    {
     "name": "stderr",
     "output_type": "stream",
     "text": [
      "Epoch 43/70: 100%|███████████████████████████████████████████████████████████████████| 495/495 [01:57<00:00,  4.21it/s]\n",
      "Evaluating: 100%|████████████████████████████████████████████████████████████████████████| 4/4 [00:00<00:00, 18.99it/s]\n"
     ]
    },
    {
     "name": "stdout",
     "output_type": "stream",
     "text": [
      "Epoch 43/70, Training Loss: 0.1302, Training Accuracy: 96.34%, Validation Loss: 4.5883, Validation Accuracy: 35.11%\n"
     ]
    },
    {
     "name": "stderr",
     "output_type": "stream",
     "text": [
      "Epoch 44/70: 100%|███████████████████████████████████████████████████████████████████| 495/495 [01:55<00:00,  4.29it/s]\n",
      "Evaluating: 100%|████████████████████████████████████████████████████████████████████████| 4/4 [00:00<00:00, 19.46it/s]\n"
     ]
    },
    {
     "name": "stdout",
     "output_type": "stream",
     "text": [
      "Epoch 44/70, Training Loss: 0.0953, Training Accuracy: 97.73%, Validation Loss: 4.5850, Validation Accuracy: 36.00%\n"
     ]
    },
    {
     "name": "stderr",
     "output_type": "stream",
     "text": [
      "Epoch 45/70: 100%|███████████████████████████████████████████████████████████████████| 495/495 [01:55<00:00,  4.30it/s]\n",
      "Evaluating: 100%|████████████████████████████████████████████████████████████████████████| 4/4 [00:00<00:00, 20.00it/s]\n"
     ]
    },
    {
     "name": "stdout",
     "output_type": "stream",
     "text": [
      "Epoch 45/70, Training Loss: 0.0881, Training Accuracy: 97.99%, Validation Loss: 4.6255, Validation Accuracy: 36.22%\n"
     ]
    },
    {
     "name": "stderr",
     "output_type": "stream",
     "text": [
      "Epoch 46/70: 100%|███████████████████████████████████████████████████████████████████| 495/495 [01:54<00:00,  4.31it/s]\n",
      "Evaluating: 100%|████████████████████████████████████████████████████████████████████████| 4/4 [00:00<00:00, 20.00it/s]\n"
     ]
    },
    {
     "name": "stdout",
     "output_type": "stream",
     "text": [
      "Epoch 46/70, Training Loss: 0.1025, Training Accuracy: 97.39%, Validation Loss: 5.0790, Validation Accuracy: 34.00%\n"
     ]
    },
    {
     "name": "stderr",
     "output_type": "stream",
     "text": [
      "Epoch 47/70: 100%|███████████████████████████████████████████████████████████████████| 495/495 [01:54<00:00,  4.31it/s]\n",
      "Evaluating: 100%|████████████████████████████████████████████████████████████████████████| 4/4 [00:00<00:00, 20.98it/s]\n"
     ]
    },
    {
     "name": "stdout",
     "output_type": "stream",
     "text": [
      "Epoch 47/70, Training Loss: 0.1234, Training Accuracy: 96.56%, Validation Loss: 4.9651, Validation Accuracy: 32.89%\n"
     ]
    },
    {
     "name": "stderr",
     "output_type": "stream",
     "text": [
      "Epoch 48/70: 100%|███████████████████████████████████████████████████████████████████| 495/495 [01:55<00:00,  4.30it/s]\n",
      "Evaluating: 100%|████████████████████████████████████████████████████████████████████████| 4/4 [00:00<00:00, 20.13it/s]\n"
     ]
    },
    {
     "name": "stdout",
     "output_type": "stream",
     "text": [
      "Epoch 48/70, Training Loss: 0.1138, Training Accuracy: 96.86%, Validation Loss: 4.9615, Validation Accuracy: 34.67%\n"
     ]
    },
    {
     "name": "stderr",
     "output_type": "stream",
     "text": [
      "Epoch 49/70: 100%|███████████████████████████████████████████████████████████████████| 495/495 [01:54<00:00,  4.32it/s]\n",
      "Evaluating: 100%|████████████████████████████████████████████████████████████████████████| 4/4 [00:00<00:00, 19.30it/s]\n"
     ]
    },
    {
     "name": "stdout",
     "output_type": "stream",
     "text": [
      "Epoch 49/70, Training Loss: 0.0934, Training Accuracy: 97.53%, Validation Loss: 4.9897, Validation Accuracy: 35.11%\n"
     ]
    },
    {
     "name": "stderr",
     "output_type": "stream",
     "text": [
      "Epoch 50/70: 100%|███████████████████████████████████████████████████████████████████| 495/495 [01:54<00:00,  4.30it/s]\n",
      "Evaluating: 100%|████████████████████████████████████████████████████████████████████████| 4/4 [00:00<00:00, 20.10it/s]\n"
     ]
    },
    {
     "name": "stdout",
     "output_type": "stream",
     "text": [
      "Epoch 50/70, Training Loss: 0.0930, Training Accuracy: 97.60%, Validation Loss: 5.1132, Validation Accuracy: 37.11%\n"
     ]
    },
    {
     "name": "stderr",
     "output_type": "stream",
     "text": [
      "Epoch 51/70: 100%|███████████████████████████████████████████████████████████████████| 495/495 [01:55<00:00,  4.28it/s]\n",
      "Evaluating: 100%|████████████████████████████████████████████████████████████████████████| 4/4 [00:00<00:00, 19.08it/s]\n"
     ]
    },
    {
     "name": "stdout",
     "output_type": "stream",
     "text": [
      "Epoch 51/70, Training Loss: 0.2656, Training Accuracy: 91.68%, Validation Loss: 4.6176, Validation Accuracy: 34.00%\n"
     ]
    },
    {
     "name": "stderr",
     "output_type": "stream",
     "text": [
      "Epoch 52/70: 100%|███████████████████████████████████████████████████████████████████| 495/495 [01:54<00:00,  4.30it/s]\n",
      "Evaluating: 100%|████████████████████████████████████████████████████████████████████████| 4/4 [00:00<00:00, 19.99it/s]\n"
     ]
    },
    {
     "name": "stdout",
     "output_type": "stream",
     "text": [
      "Epoch 52/70, Training Loss: 0.1118, Training Accuracy: 96.63%, Validation Loss: 5.3703, Validation Accuracy: 34.00%\n"
     ]
    },
    {
     "name": "stderr",
     "output_type": "stream",
     "text": [
      "Epoch 53/70: 100%|███████████████████████████████████████████████████████████████████| 495/495 [01:54<00:00,  4.31it/s]\n",
      "Evaluating: 100%|████████████████████████████████████████████████████████████████████████| 4/4 [00:00<00:00, 19.80it/s]\n"
     ]
    },
    {
     "name": "stdout",
     "output_type": "stream",
     "text": [
      "Epoch 53/70, Training Loss: 0.0736, Training Accuracy: 98.12%, Validation Loss: 4.8834, Validation Accuracy: 38.00%\n"
     ]
    },
    {
     "name": "stderr",
     "output_type": "stream",
     "text": [
      "Epoch 54/70: 100%|███████████████████████████████████████████████████████████████████| 495/495 [01:55<00:00,  4.30it/s]\n",
      "Evaluating: 100%|████████████████████████████████████████████████████████████████████████| 4/4 [00:00<00:00, 19.14it/s]\n"
     ]
    },
    {
     "name": "stdout",
     "output_type": "stream",
     "text": [
      "Epoch 54/70, Training Loss: 0.0698, Training Accuracy: 98.39%, Validation Loss: 5.0597, Validation Accuracy: 36.67%\n"
     ]
    },
    {
     "name": "stderr",
     "output_type": "stream",
     "text": [
      "Epoch 55/70: 100%|███████████████████████████████████████████████████████████████████| 495/495 [01:54<00:00,  4.31it/s]\n",
      "Evaluating: 100%|████████████████████████████████████████████████████████████████████████| 4/4 [00:00<00:00, 19.70it/s]\n"
     ]
    },
    {
     "name": "stdout",
     "output_type": "stream",
     "text": [
      "Epoch 55/70, Training Loss: 0.0786, Training Accuracy: 98.04%, Validation Loss: 5.2197, Validation Accuracy: 38.89%\n"
     ]
    },
    {
     "name": "stderr",
     "output_type": "stream",
     "text": [
      "Epoch 56/70: 100%|███████████████████████████████████████████████████████████████████| 495/495 [01:54<00:00,  4.31it/s]\n",
      "Evaluating: 100%|████████████████████████████████████████████████████████████████████████| 4/4 [00:00<00:00, 19.77it/s]\n"
     ]
    },
    {
     "name": "stdout",
     "output_type": "stream",
     "text": [
      "Epoch 56/70, Training Loss: 0.0824, Training Accuracy: 97.84%, Validation Loss: 5.2999, Validation Accuracy: 35.11%\n"
     ]
    },
    {
     "name": "stderr",
     "output_type": "stream",
     "text": [
      "Epoch 57/70: 100%|███████████████████████████████████████████████████████████████████| 495/495 [01:54<00:00,  4.31it/s]\n",
      "Evaluating: 100%|████████████████████████████████████████████████████████████████████████| 4/4 [00:00<00:00, 19.97it/s]\n"
     ]
    },
    {
     "name": "stdout",
     "output_type": "stream",
     "text": [
      "Epoch 57/70, Training Loss: 0.0809, Training Accuracy: 98.03%, Validation Loss: 5.1740, Validation Accuracy: 35.56%\n"
     ]
    },
    {
     "name": "stderr",
     "output_type": "stream",
     "text": [
      "Epoch 58/70: 100%|███████████████████████████████████████████████████████████████████| 495/495 [01:54<00:00,  4.32it/s]\n",
      "Evaluating: 100%|████████████████████████████████████████████████████████████████████████| 4/4 [00:00<00:00, 20.02it/s]\n"
     ]
    },
    {
     "name": "stdout",
     "output_type": "stream",
     "text": [
      "Epoch 58/70, Training Loss: 0.0838, Training Accuracy: 97.88%, Validation Loss: 5.2674, Validation Accuracy: 34.67%\n"
     ]
    },
    {
     "name": "stderr",
     "output_type": "stream",
     "text": [
      "Epoch 59/70: 100%|███████████████████████████████████████████████████████████████████| 495/495 [01:54<00:00,  4.32it/s]\n",
      "Evaluating: 100%|████████████████████████████████████████████████████████████████████████| 4/4 [00:00<00:00, 20.72it/s]\n"
     ]
    },
    {
     "name": "stdout",
     "output_type": "stream",
     "text": [
      "Epoch 59/70, Training Loss: 0.0810, Training Accuracy: 97.98%, Validation Loss: 4.9484, Validation Accuracy: 35.11%\n"
     ]
    },
    {
     "name": "stderr",
     "output_type": "stream",
     "text": [
      "Epoch 60/70: 100%|███████████████████████████████████████████████████████████████████| 495/495 [01:54<00:00,  4.32it/s]\n",
      "Evaluating: 100%|████████████████████████████████████████████████████████████████████████| 4/4 [00:00<00:00, 20.34it/s]\n"
     ]
    },
    {
     "name": "stdout",
     "output_type": "stream",
     "text": [
      "Epoch 60/70, Training Loss: 0.0739, Training Accuracy: 98.21%, Validation Loss: 4.8395, Validation Accuracy: 37.33%\n"
     ]
    },
    {
     "name": "stderr",
     "output_type": "stream",
     "text": [
      "Epoch 61/70: 100%|███████████████████████████████████████████████████████████████████| 495/495 [01:55<00:00,  4.28it/s]\n",
      "Evaluating: 100%|████████████████████████████████████████████████████████████████████████| 4/4 [00:00<00:00, 20.18it/s]\n"
     ]
    },
    {
     "name": "stdout",
     "output_type": "stream",
     "text": [
      "Epoch 61/70, Training Loss: 0.3744, Training Accuracy: 88.77%, Validation Loss: 4.6157, Validation Accuracy: 35.33%\n"
     ]
    },
    {
     "name": "stderr",
     "output_type": "stream",
     "text": [
      "Epoch 62/70: 100%|███████████████████████████████████████████████████████████████████| 495/495 [01:54<00:00,  4.33it/s]\n",
      "Evaluating: 100%|████████████████████████████████████████████████████████████████████████| 4/4 [00:00<00:00, 20.20it/s]\n"
     ]
    },
    {
     "name": "stdout",
     "output_type": "stream",
     "text": [
      "Epoch 62/70, Training Loss: 0.1088, Training Accuracy: 96.65%, Validation Loss: 4.9628, Validation Accuracy: 36.44%\n"
     ]
    },
    {
     "name": "stderr",
     "output_type": "stream",
     "text": [
      "Epoch 63/70: 100%|███████████████████████████████████████████████████████████████████| 495/495 [01:54<00:00,  4.31it/s]\n",
      "Evaluating: 100%|████████████████████████████████████████████████████████████████████████| 4/4 [00:00<00:00, 19.75it/s]\n"
     ]
    },
    {
     "name": "stdout",
     "output_type": "stream",
     "text": [
      "Epoch 63/70, Training Loss: 0.0662, Training Accuracy: 98.29%, Validation Loss: 5.3962, Validation Accuracy: 34.67%\n"
     ]
    },
    {
     "name": "stderr",
     "output_type": "stream",
     "text": [
      "Epoch 64/70: 100%|███████████████████████████████████████████████████████████████████| 495/495 [01:54<00:00,  4.32it/s]\n",
      "Evaluating: 100%|████████████████████████████████████████████████████████████████████████| 4/4 [00:00<00:00, 20.20it/s]\n"
     ]
    },
    {
     "name": "stdout",
     "output_type": "stream",
     "text": [
      "Epoch 64/70, Training Loss: 0.0614, Training Accuracy: 98.53%, Validation Loss: 5.1365, Validation Accuracy: 36.89%\n"
     ]
    },
    {
     "name": "stderr",
     "output_type": "stream",
     "text": [
      "Epoch 65/70: 100%|███████████████████████████████████████████████████████████████████| 495/495 [01:54<00:00,  4.31it/s]\n",
      "Evaluating: 100%|████████████████████████████████████████████████████████████████████████| 4/4 [00:00<00:00, 19.84it/s]\n"
     ]
    },
    {
     "name": "stdout",
     "output_type": "stream",
     "text": [
      "Epoch 65/70, Training Loss: 0.0656, Training Accuracy: 98.52%, Validation Loss: 4.9223, Validation Accuracy: 39.11%\n"
     ]
    },
    {
     "name": "stderr",
     "output_type": "stream",
     "text": [
      "Epoch 66/70: 100%|███████████████████████████████████████████████████████████████████| 495/495 [01:54<00:00,  4.32it/s]\n",
      "Evaluating: 100%|████████████████████████████████████████████████████████████████████████| 4/4 [00:00<00:00, 20.06it/s]\n"
     ]
    },
    {
     "name": "stdout",
     "output_type": "stream",
     "text": [
      "Epoch 66/70, Training Loss: 0.0782, Training Accuracy: 98.11%, Validation Loss: 5.2480, Validation Accuracy: 36.22%\n"
     ]
    },
    {
     "name": "stderr",
     "output_type": "stream",
     "text": [
      "Epoch 67/70: 100%|███████████████████████████████████████████████████████████████████| 495/495 [01:54<00:00,  4.32it/s]\n",
      "Evaluating: 100%|████████████████████████████████████████████████████████████████████████| 4/4 [00:00<00:00, 20.65it/s]\n"
     ]
    },
    {
     "name": "stdout",
     "output_type": "stream",
     "text": [
      "Epoch 67/70, Training Loss: 0.0754, Training Accuracy: 98.03%, Validation Loss: 5.1115, Validation Accuracy: 34.89%\n"
     ]
    },
    {
     "name": "stderr",
     "output_type": "stream",
     "text": [
      "Epoch 68/70: 100%|███████████████████████████████████████████████████████████████████| 495/495 [01:54<00:00,  4.32it/s]\n",
      "Evaluating: 100%|████████████████████████████████████████████████████████████████████████| 4/4 [00:00<00:00, 19.94it/s]\n"
     ]
    },
    {
     "name": "stdout",
     "output_type": "stream",
     "text": [
      "Epoch 68/70, Training Loss: 0.0777, Training Accuracy: 97.89%, Validation Loss: 5.3473, Validation Accuracy: 36.22%\n"
     ]
    },
    {
     "name": "stderr",
     "output_type": "stream",
     "text": [
      "Epoch 69/70: 100%|███████████████████████████████████████████████████████████████████| 495/495 [01:54<00:00,  4.31it/s]\n",
      "Evaluating: 100%|████████████████████████████████████████████████████████████████████████| 4/4 [00:00<00:00, 19.55it/s]\n"
     ]
    },
    {
     "name": "stdout",
     "output_type": "stream",
     "text": [
      "Epoch 69/70, Training Loss: 0.0703, Training Accuracy: 98.26%, Validation Loss: 5.6027, Validation Accuracy: 34.00%\n"
     ]
    },
    {
     "name": "stderr",
     "output_type": "stream",
     "text": [
      "Epoch 70/70: 100%|███████████████████████████████████████████████████████████████████| 495/495 [01:54<00:00,  4.31it/s]\n",
      "Evaluating: 100%|████████████████████████████████████████████████████████████████████████| 4/4 [00:00<00:00, 19.90it/s]\n"
     ]
    },
    {
     "name": "stdout",
     "output_type": "stream",
     "text": [
      "Epoch 70/70, Training Loss: 0.0674, Training Accuracy: 98.21%, Validation Loss: 5.4501, Validation Accuracy: 33.33%\n"
     ]
    },
    {
     "data": {
      "image/png": "[encoded data removed]",
      "text/plain": [
       "<Figure size 1200x500 with 2 Axes>"
      ]
     },
     "metadata": {},
     "output_type": "display_data"
    }
   ],
   "source": [
    "criterion = nn.CrossEntropyLoss()\n",
    "optimizer = optim.Adam(model_simplecnn.parameters(), lr=0.001)\n",
    "epochs = 70\n",
    "\n",
    "training_acc = []\n",
    "val_acc = []\n",
    "training_loss = []\n",
    "val_loss = []\n",
    "\n",
    "for epoch in range(epochs):\n",
    "    model_simplecnn.train()\n",
    "    running_loss = 0.0\n",
    "    train_correct = 0\n",
    "    train_total = 0\n",
    "\n",
    "    if epoch < 10:\n",
    "        loader = loader_RGB\n",
    "        vloader = vloader_RGB\n",
    "    elif 10 <= epoch < 20:\n",
    "        loader = loader_RG\n",
    "        vloader = vloader_RG\n",
    "    elif 20 <= epoch < 30:\n",
    "        loader = loader_RB\n",
    "        vloader = vloader_RB\n",
    "    elif 30 <= epoch < 40:\n",
    "        loader = loader_GB\n",
    "        vloader = vloader_GB\n",
    "    elif 40 <= epoch < 50:\n",
    "        loader = loader_R\n",
    "        vloader = vloader_R\n",
    "    elif 50 <= epoch < 60:\n",
    "        loader = loader_G\n",
    "        vloader = vloader_G\n",
    "    elif 60 <= epoch < 70:\n",
    "        loader = loader_B\n",
    "        vloader = vloader_B\n",
    "        \n",
    "    for inputs, labels in tqdm(loader, desc=f\"Epoch {epoch + 1}/{epochs}\"):\n",
    "        inputs, labels = inputs.float().to(device), labels.float().to(device)\n",
    "        outputs = model_simplecnn(inputs)\n",
    "        loss = criterion(outputs, labels)\n",
    "        optimizer.zero_grad()\n",
    "        loss.backward()\n",
    "        optimizer.step()\n",
    "\n",
    "        running_loss += loss.item() * inputs.size(0)\n",
    "        labels = labels.argmax(dim=1)\n",
    "        _, predicted = torch.max(outputs, 1)\n",
    "        train_correct += (predicted == labels).sum().item()\n",
    "        train_total += labels.size(0)\n",
    "\n",
    "    training_acc.append(100 * train_correct / train_total)\n",
    "    training_loss.append(running_loss / len(loader_RGB.dataset))\n",
    "\n",
    "    model_simplecnn.eval()\n",
    "    correct = 0\n",
    "    total = 0\n",
    "    val_running_loss = 0.0\n",
    "\n",
    "    with torch.no_grad():\n",
    "        for inputs, labels in tqdm(vloader, desc=\"Evaluating\"):\n",
    "            inputs, labels = inputs.float().to(device), labels.float().to(device)\n",
    "            labels = labels.argmax(dim=1)\n",
    "            outputs = model_simplecnn(inputs)\n",
    "            loss = criterion(outputs, labels)\n",
    "            val_running_loss += loss.item() * inputs.size(0)\n",
    "            _, predicted = torch.max(outputs, 1)\n",
    "            total += labels.size(0)\n",
    "            correct += (predicted == labels).sum().item()\n",
    "\n",
    "    val_acc.append(100 * correct / total)\n",
    "    val_loss.append(val_running_loss / len(vloader_RGB.dataset))\n",
    "\n",
    "    print(f\"Epoch {epoch + 1}/{epochs}, \"\n",
    "          f\"Training Loss: {training_loss[-1]:.4f}, \"\n",
    "          f\"Training Accuracy: {training_acc[-1]:.2f}%, \"\n",
    "          f\"Validation Loss: {val_loss[-1]:.4f}, \"\n",
    "          f\"Validation Accuracy: {val_acc[-1]:.2f}%\")\n",
    "\n",
    "# Plot training and validation accuracy\n",
    "plt.figure(figsize=(12, 5))\n",
    "\n",
    "plt.subplot(1, 2, 1)\n",
    "plt.plot(training_acc, label='Training Accuracy')\n",
    "plt.plot(val_acc, label='Validation Accuracy')\n",
    "plt.xlabel('Epoch')\n",
    "plt.ylabel('Accuracy')\n",
    "plt.legend()\n",
    "plt.title('Training and Validation Accuracy')\n",
    "\n",
    "# Plot training and validation loss\n",
    "plt.subplot(1, 2, 2)\n",
    "plt.plot(training_loss, label='Training Loss')\n",
    "plt.plot(val_loss, label='Validation Loss')\n",
    "plt.xlabel('Epoch')\n",
    "plt.ylabel('Loss')\n",
    "plt.legend()\n",
    "plt.title('Training and Validation Loss')\n",
    "\n",
    "plt.tight_layout()\n",
    "plt.show()"
   ]
  },
  {
   "cell_type": "code",
   "execution_count": 220,
   "id": "afe30211-a25d-4aae-af51-0a2d7fdb41a8",
   "metadata": {},
   "outputs": [
    {
     "name": "stderr",
     "output_type": "stream",
     "text": [
      "Evaluating: 100%|████████████████████████████████████████████████████████████████████████| 4/4 [00:00<00:00,  7.68it/s]"
     ]
    },
    {
     "name": "stdout",
     "output_type": "stream",
     "text": [
      "test Accuracy: 35.7778%\n"
     ]
    },
    {
     "name": "stderr",
     "output_type": "stream",
     "text": [
      "\n"
     ]
    }
   ],
   "source": [
    "# self-made CNN test accuracy\n",
    "model_simplecnn.eval() \n",
    "correct = 0\n",
    "total = 0\n",
    "\n",
    "with torch.no_grad():\n",
    "    for inputs, labels in tqdm(tloader_B, desc=\"Evaluating\"): # tloader_RGB.RG.RB.GB.R.G.B\n",
    "        inputs, labels = inputs.float().to(device), labels.float().to(device)\n",
    "        labels = labels.argmax(dim=1)\n",
    "        model_simplecnn.to(device)\n",
    "        outputs = model_simplecnn(inputs)\n",
    "        _, predicted = torch.max(outputs, 1)\n",
    "        total += labels.size(0)      \n",
    "        correct += (predicted == labels).sum().item()\n",
    "\n",
    "accuracy = 100 * correct / total\n",
    "print(f\"test Accuracy: {accuracy:.4f}%\")\n",
    "\n",
    "# RGB 7.5556 %\n",
    "# RG 28.8889 %\n",
    "# RB 24.8889 %\n",
    "# GB 24.2222 %\n",
    "# R 33.1111 %\n",
    "# G 35.3333 %\n",
    "# B 35.7778 %"
   ]
  },
  {
   "cell_type": "code",
   "execution_count": null,
   "id": "d2c3005a-ba43-48c1-94f1-30343e9fe290",
   "metadata": {},
   "outputs": [],
   "source": []
  }
 ],
 "metadata": {
  "kernelspec": {
   "display_name": "Python 3 (ipykernel)",
   "language": "python",
   "name": "python3"
  },
  "language_info": {
   "codemirror_mode": {
    "name": "ipython",
    "version": 3
   },
   "file_extension": ".py",
   "mimetype": "text/x-python",
   "name": "python",
   "nbconvert_exporter": "python",
   "pygments_lexer": "ipython3",
   "version": "3.10.8"
  }
 },
 "nbformat": 4,
 "nbformat_minor": 5
}
